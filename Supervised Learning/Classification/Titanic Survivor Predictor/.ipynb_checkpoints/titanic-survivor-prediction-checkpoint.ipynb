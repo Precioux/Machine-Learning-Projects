{
 "cells": [
  {
   "cell_type": "code",
   "execution_count": 1,
   "metadata": {
    "_cell_guid": "59c47284-b760-492f-bd5e-3703e203dd8a",
    "_uuid": "cae4742eede6bdac0d4f76de4021d11ef2a2343f",
    "execution": {
     "iopub.execute_input": "2022-08-17T10:08:43.576191Z",
     "iopub.status.busy": "2022-08-17T10:08:43.575077Z",
     "iopub.status.idle": "2022-08-17T10:08:43.587772Z",
     "shell.execute_reply": "2022-08-17T10:08:43.586596Z",
     "shell.execute_reply.started": "2022-08-17T10:08:43.576143Z"
    }
   },
   "outputs": [],
   "source": [
    "import numpy as np\n",
    "import pandas as pd\n",
    "import matplotlib.pyplot as plt\n",
    "%matplotlib inline\n",
    "import seaborn as sns\n",
    "from scipy import stats\n",
    "from scipy.stats import norm\n",
    "import seaborn as sns\n",
    "sns.set(context = 'paper', palette = 'winter_r', style = 'darkgrid', rc= {'figure.facecolor': 'gray',}, font_scale=1.5)"
   ]
  },
  {
   "cell_type": "code",
   "execution_count": 2,
   "metadata": {
    "_cell_guid": "a58bf3ce-f426-49f4-ace0-38e783c50bec",
    "_uuid": "322ec68dde0462823cec68e7e3a8ce5fbaebac3a",
    "execution": {
     "iopub.execute_input": "2022-08-17T10:08:43.590916Z",
     "iopub.status.busy": "2022-08-17T10:08:43.589988Z",
     "iopub.status.idle": "2022-08-17T10:08:43.612716Z",
     "shell.execute_reply": "2022-08-17T10:08:43.611778Z",
     "shell.execute_reply.started": "2022-08-17T10:08:43.590872Z"
    }
   },
   "outputs": [],
   "source": [
    "def Readcsv(data):\n",
    "    return (pd.read_csv(data,index_col = 'PassengerId'))\n",
    "\n",
    "traindf = Readcsv('train.csv')\n",
    "testdf  = Readcsv('test.csv')   "
   ]
  },
  {
   "cell_type": "code",
   "execution_count": 3,
   "metadata": {
    "_cell_guid": "6551a8ec-3108-4562-8d18-cd504eb9352c",
    "_uuid": "aad652f3e0e97eb3705a51cdbfd66c9335a621b6",
    "execution": {
     "iopub.execute_input": "2022-08-17T10:08:43.614573Z",
     "iopub.status.busy": "2022-08-17T10:08:43.613897Z",
     "iopub.status.idle": "2022-08-17T10:08:43.623264Z",
     "shell.execute_reply": "2022-08-17T10:08:43.621948Z",
     "shell.execute_reply.started": "2022-08-17T10:08:43.614524Z"
    }
   },
   "outputs": [
    {
     "data": {
      "text/plain": [
       "(Index(['Survived', 'Pclass', 'Name', 'Sex', 'Age', 'SibSp', 'Parch', 'Ticket',\n",
       "        'Fare', 'Cabin', 'Embarked'],\n",
       "       dtype='object'),\n",
       " Index(['Pclass', 'Name', 'Sex', 'Age', 'SibSp', 'Parch', 'Ticket', 'Fare',\n",
       "        'Cabin', 'Embarked'],\n",
       "       dtype='object'))"
      ]
     },
     "execution_count": 3,
     "metadata": {},
     "output_type": "execute_result"
    }
   ],
   "source": [
    "traindf.columns, testdf.columns"
   ]
  },
  {
   "cell_type": "markdown",
   "metadata": {
    "_cell_guid": "67b52475-3359-43e0-8e68-b010e5343e89",
    "_uuid": "02f5dda2a2ff45580e51ac640557bb390b0cb85a"
   },
   "source": [
    "# Dataset Explaination\n",
    "\n",
    "**Survived**: Wheather the person Survived or not.\n",
    "\n",
    "**Pclass**: Passanger class indicates the class of that person aboard the ship.\n",
    "\n",
    "**SibSp**: Shows the number of Sibling/Spouces they had.\n",
    "\n",
    "**Parch**: Parch indicates Parents with children\n",
    "\n",
    "**TIcket**: Ticket name/Number.\n",
    "\n",
    "**Fare**: How much the Passenger paid.\n",
    "\n",
    "**Cabin**: Cabin name of that Passenger.\n",
    "\n",
    "**Embarked**: Point of Embarkation where *C* means Cherbourg, *Q* means Queenstown, *S* means Southampton."
   ]
  },
  {
   "cell_type": "code",
   "execution_count": 4,
   "metadata": {
    "_cell_guid": "dbd0c09d-5b3a-4b1e-9f65-0ad530432f00",
    "_uuid": "774499b1573cd9a5952fef7e432a508f72348abb",
    "execution": {
     "iopub.execute_input": "2022-08-17T10:08:43.625991Z",
     "iopub.status.busy": "2022-08-17T10:08:43.625639Z",
     "iopub.status.idle": "2022-08-17T10:08:43.648623Z",
     "shell.execute_reply": "2022-08-17T10:08:43.647280Z",
     "shell.execute_reply.started": "2022-08-17T10:08:43.625960Z"
    }
   },
   "outputs": [
    {
     "data": {
      "text/html": [
       "<div>\n",
       "<style scoped>\n",
       "    .dataframe tbody tr th:only-of-type {\n",
       "        vertical-align: middle;\n",
       "    }\n",
       "\n",
       "    .dataframe tbody tr th {\n",
       "        vertical-align: top;\n",
       "    }\n",
       "\n",
       "    .dataframe thead th {\n",
       "        text-align: right;\n",
       "    }\n",
       "</style>\n",
       "<table border=\"1\" class=\"dataframe\">\n",
       "  <thead>\n",
       "    <tr style=\"text-align: right;\">\n",
       "      <th></th>\n",
       "      <th>Survived</th>\n",
       "      <th>Pclass</th>\n",
       "      <th>Name</th>\n",
       "      <th>Sex</th>\n",
       "      <th>Age</th>\n",
       "      <th>SibSp</th>\n",
       "      <th>Parch</th>\n",
       "      <th>Ticket</th>\n",
       "      <th>Fare</th>\n",
       "      <th>Cabin</th>\n",
       "      <th>Embarked</th>\n",
       "    </tr>\n",
       "    <tr>\n",
       "      <th>PassengerId</th>\n",
       "      <th></th>\n",
       "      <th></th>\n",
       "      <th></th>\n",
       "      <th></th>\n",
       "      <th></th>\n",
       "      <th></th>\n",
       "      <th></th>\n",
       "      <th></th>\n",
       "      <th></th>\n",
       "      <th></th>\n",
       "      <th></th>\n",
       "    </tr>\n",
       "  </thead>\n",
       "  <tbody>\n",
       "    <tr>\n",
       "      <th>1</th>\n",
       "      <td>0</td>\n",
       "      <td>3</td>\n",
       "      <td>Braund, Mr. Owen Harris</td>\n",
       "      <td>male</td>\n",
       "      <td>22.0</td>\n",
       "      <td>1</td>\n",
       "      <td>0</td>\n",
       "      <td>A/5 21171</td>\n",
       "      <td>7.2500</td>\n",
       "      <td>NaN</td>\n",
       "      <td>S</td>\n",
       "    </tr>\n",
       "    <tr>\n",
       "      <th>2</th>\n",
       "      <td>1</td>\n",
       "      <td>1</td>\n",
       "      <td>Cumings, Mrs. John Bradley (Florence Briggs Th...</td>\n",
       "      <td>female</td>\n",
       "      <td>38.0</td>\n",
       "      <td>1</td>\n",
       "      <td>0</td>\n",
       "      <td>PC 17599</td>\n",
       "      <td>71.2833</td>\n",
       "      <td>C85</td>\n",
       "      <td>C</td>\n",
       "    </tr>\n",
       "    <tr>\n",
       "      <th>3</th>\n",
       "      <td>1</td>\n",
       "      <td>3</td>\n",
       "      <td>Heikkinen, Miss. Laina</td>\n",
       "      <td>female</td>\n",
       "      <td>26.0</td>\n",
       "      <td>0</td>\n",
       "      <td>0</td>\n",
       "      <td>STON/O2. 3101282</td>\n",
       "      <td>7.9250</td>\n",
       "      <td>NaN</td>\n",
       "      <td>S</td>\n",
       "    </tr>\n",
       "    <tr>\n",
       "      <th>4</th>\n",
       "      <td>1</td>\n",
       "      <td>1</td>\n",
       "      <td>Futrelle, Mrs. Jacques Heath (Lily May Peel)</td>\n",
       "      <td>female</td>\n",
       "      <td>35.0</td>\n",
       "      <td>1</td>\n",
       "      <td>0</td>\n",
       "      <td>113803</td>\n",
       "      <td>53.1000</td>\n",
       "      <td>C123</td>\n",
       "      <td>S</td>\n",
       "    </tr>\n",
       "    <tr>\n",
       "      <th>5</th>\n",
       "      <td>0</td>\n",
       "      <td>3</td>\n",
       "      <td>Allen, Mr. William Henry</td>\n",
       "      <td>male</td>\n",
       "      <td>35.0</td>\n",
       "      <td>0</td>\n",
       "      <td>0</td>\n",
       "      <td>373450</td>\n",
       "      <td>8.0500</td>\n",
       "      <td>NaN</td>\n",
       "      <td>S</td>\n",
       "    </tr>\n",
       "  </tbody>\n",
       "</table>\n",
       "</div>"
      ],
      "text/plain": [
       "             Survived  Pclass  \\\n",
       "PassengerId                     \n",
       "1                   0       3   \n",
       "2                   1       1   \n",
       "3                   1       3   \n",
       "4                   1       1   \n",
       "5                   0       3   \n",
       "\n",
       "                                                          Name     Sex   Age  \\\n",
       "PassengerId                                                                    \n",
       "1                                      Braund, Mr. Owen Harris    male  22.0   \n",
       "2            Cumings, Mrs. John Bradley (Florence Briggs Th...  female  38.0   \n",
       "3                                       Heikkinen, Miss. Laina  female  26.0   \n",
       "4                 Futrelle, Mrs. Jacques Heath (Lily May Peel)  female  35.0   \n",
       "5                                     Allen, Mr. William Henry    male  35.0   \n",
       "\n",
       "             SibSp  Parch            Ticket     Fare Cabin Embarked  \n",
       "PassengerId                                                          \n",
       "1                1      0         A/5 21171   7.2500   NaN        S  \n",
       "2                1      0          PC 17599  71.2833   C85        C  \n",
       "3                0      0  STON/O2. 3101282   7.9250   NaN        S  \n",
       "4                1      0            113803  53.1000  C123        S  \n",
       "5                0      0            373450   8.0500   NaN        S  "
      ]
     },
     "execution_count": 4,
     "metadata": {},
     "output_type": "execute_result"
    }
   ],
   "source": [
    "traindf.head()"
   ]
  },
  {
   "cell_type": "markdown",
   "metadata": {
    "_cell_guid": "57d516c8-408a-4a68-acc2-e98c593a09e7",
    "_uuid": "4ed817dcfa27725028f88895985f985d487afd8b"
   },
   "source": [
    "## We can differentiate the data into two groups:\n",
    "\n",
    "**Categorical**: From the dataset we can see that *Survived*, *Pclass*, *Sex*, *Embarked* are categorical. Why? they have discrete values such has 0 or 1.\n",
    "\n",
    "**Continuous**: From the dataset we can see that *Age* and *Fare* has a value which can be **measured.**"
   ]
  },
  {
   "cell_type": "code",
   "execution_count": 5,
   "metadata": {
    "_cell_guid": "4fe88e99-8ed8-4424-9051-e74875597931",
    "_uuid": "e212fbd68dea74b0124bdcefdbb25d4fd6fc6c1b",
    "execution": {
     "iopub.execute_input": "2022-08-17T10:08:43.650754Z",
     "iopub.status.busy": "2022-08-17T10:08:43.650279Z",
     "iopub.status.idle": "2022-08-17T10:08:43.664904Z",
     "shell.execute_reply": "2022-08-17T10:08:43.663823Z",
     "shell.execute_reply.started": "2022-08-17T10:08:43.650707Z"
    }
   },
   "outputs": [
    {
     "data": {
      "text/plain": [
       "Survived      0\n",
       "Pclass        0\n",
       "Name          0\n",
       "Sex           0\n",
       "Age         177\n",
       "SibSp         0\n",
       "Parch         0\n",
       "Ticket        0\n",
       "Fare          0\n",
       "Cabin       687\n",
       "Embarked      2\n",
       "dtype: int64"
      ]
     },
     "execution_count": 5,
     "metadata": {},
     "output_type": "execute_result"
    }
   ],
   "source": [
    "traindf.isnull().sum()"
   ]
  },
  {
   "cell_type": "markdown",
   "metadata": {
    "_cell_guid": "bd57a192-881b-4662-9c57-c0cd834cbe7d",
    "_uuid": "fdc98eaa45d9d74f6edf9326d3b4d3aba5b69d2c"
   },
   "source": [
    "<h1><center>Exploratory Analysis</center></h1>"
   ]
  },
  {
   "cell_type": "markdown",
   "metadata": {},
   "source": [
    "# Age"
   ]
  },
  {
   "cell_type": "code",
   "execution_count": 6,
   "metadata": {
    "_cell_guid": "d3c7fab3-da36-4b60-91c6-00ee92b8a3f0",
    "_uuid": "153efaf44774e052ac1f9aef80f65c750afa71dc",
    "execution": {
     "iopub.execute_input": "2022-08-17T10:08:43.667260Z",
     "iopub.status.busy": "2022-08-17T10:08:43.666405Z",
     "iopub.status.idle": "2022-08-17T10:08:44.107724Z",
     "shell.execute_reply": "2022-08-17T10:08:44.106748Z",
     "shell.execute_reply.started": "2022-08-17T10:08:43.667221Z"
    }
   },
   "outputs": [
    {
     "name": "stderr",
     "output_type": "stream",
     "text": [
      "D:\\Users\\Samin\\anaconda3\\lib\\site-packages\\seaborn\\distributions.py:2619: FutureWarning: `distplot` is a deprecated function and will be removed in a future version. Please adapt your code to use either `displot` (a figure-level function with similar flexibility) or `histplot` (an axes-level function for histograms).\n",
      "  warnings.warn(msg, FutureWarning)\n",
      "D:\\Users\\Samin\\anaconda3\\lib\\site-packages\\seaborn\\distributions.py:2103: FutureWarning: The `axis` variable is no longer used and will be removed. Instead, assign variables directly to `x` or `y`.\n",
      "  warnings.warn(msg, FutureWarning)\n"
     ]
    },
    {
     "data": {
      "image/png": "[encoded data removed]",
      "text/plain": [
       "<Figure size 1224x432 with 1 Axes>"
      ]
     },
     "metadata": {},
     "output_type": "display_data"
    }
   ],
   "source": [
    "plt.figure(figsize = [17,6])\n",
    "a = sns.distplot(traindf['Age'].dropna(),bins = range(0,81,1), rug = True, fit = norm)"
   ]
  },
  {
   "cell_type": "markdown",
   "metadata": {
    "_cell_guid": "4ab7df19-5a58-478b-8ec0-076f9020a786",
    "_uuid": "1df833694c69e6b640ac79fa95dfbd881784e8de"
   },
   "source": [
    "What does the graph tell us? Most of the Passengers aboard the Titanic were in the range of 16~ to 40. The age distribution shows bi-modal curve."
   ]
  },
  {
   "cell_type": "code",
   "execution_count": 7,
   "metadata": {
    "_cell_guid": "f86aed8b-ef53-4394-a6fc-282289e4c423",
    "_uuid": "a707f877465173c3e48ba528720b02141000fb38",
    "execution": {
     "iopub.execute_input": "2022-08-17T10:08:44.110141Z",
     "iopub.status.busy": "2022-08-17T10:08:44.109000Z",
     "iopub.status.idle": "2022-08-17T10:08:47.680515Z",
     "shell.execute_reply": "2022-08-17T10:08:47.679318Z",
     "shell.execute_reply.started": "2022-08-17T10:08:44.110106Z"
    }
   },
   "outputs": [
    {
     "name": "stderr",
     "output_type": "stream",
     "text": [
      "D:\\Users\\Samin\\anaconda3\\lib\\site-packages\\seaborn\\distributions.py:2619: FutureWarning: `distplot` is a deprecated function and will be removed in a future version. Please adapt your code to use either `displot` (a figure-level function with similar flexibility) or `histplot` (an axes-level function for histograms).\n",
      "  warnings.warn(msg, FutureWarning)\n",
      "D:\\Users\\Samin\\anaconda3\\lib\\site-packages\\seaborn\\distributions.py:2619: FutureWarning: `distplot` is a deprecated function and will be removed in a future version. Please adapt your code to use either `displot` (a figure-level function with similar flexibility) or `histplot` (an axes-level function for histograms).\n",
      "  warnings.warn(msg, FutureWarning)\n",
      "D:\\Users\\Samin\\anaconda3\\lib\\site-packages\\seaborn\\distributions.py:2619: FutureWarning: `distplot` is a deprecated function and will be removed in a future version. Please adapt your code to use either `displot` (a figure-level function with similar flexibility) or `histplot` (an axes-level function for histograms).\n",
      "  warnings.warn(msg, FutureWarning)\n",
      "D:\\Users\\Samin\\anaconda3\\lib\\site-packages\\seaborn\\distributions.py:2619: FutureWarning: `distplot` is a deprecated function and will be removed in a future version. Please adapt your code to use either `displot` (a figure-level function with similar flexibility) or `histplot` (an axes-level function for histograms).\n",
      "  warnings.warn(msg, FutureWarning)\n"
     ]
    },
    {
     "data": {
      "image/png": "[encoded data removed]",
      "text/plain": [
       "<Figure size 1584x864 with 12 Axes>"
      ]
     },
     "metadata": {},
     "output_type": "display_data"
    }
   ],
   "source": [
    "f, ax = plt.subplots(4, 3,figsize=[22,12])\n",
    "#sns.set_palette('Set1', 8, .75)\n",
    "#sns.set_style('whitegrid')\n",
    "#plt.subplot(331)\n",
    "sns.violinplot(x = 'Sex', y = 'Survived', data = traindf,ax = ax[0,0])\n",
    "#sns.despine(offset=10, trim=True)\n",
    "#plt.subplot(332)\n",
    "sns.barplot(x = 'Pclass',y ='Survived',data = traindf,hue = 'Embarked',ax = ax[0,1])\n",
    "#plt.subplot(333)\n",
    "sns.distplot(traindf[traindf['Survived']==1]['Age'].dropna(),norm_hist = True,bins = np.arange(0,81,1),color = 'blue',\n",
    "            ax = ax[0,2])\n",
    "sns.distplot(traindf[traindf['Survived']==0]['Age'].dropna(),norm_hist = True,bins = np.arange(0,81,1), color = 'red',\n",
    "            ax = ax[0,2])\n",
    "#plt.subplot(334)\n",
    "sns.violinplot(x = 'Sex', y = 'Fare', data = traindf,ax = ax[1,0])\n",
    "#plt.subplot(335)\n",
    "sns.barplot(x ='Pclass', y = 'Fare',data = traindf , hue = 'Embarked', ax = ax[1,1])\n",
    "#plt.subplot(336)\n",
    "sns.distplot(traindf[traindf['Survived']==1]['Fare'].dropna(),bins = np.arange(0,580,10),color = 'blue',\n",
    "            ax = ax[1,2])\n",
    "sns.distplot(traindf[traindf['Survived']==0]['Fare'].dropna(),bins = np.arange(0,580,10),color = 'red',\n",
    "            ax = ax[1,2])\n",
    "\n",
    "#plt.subplot(337)\n",
    "sns.violinplot(x = 'Sex', y ='SibSp',data = traindf,ax = ax[2,0])\n",
    "#plt.subplot(338)\n",
    "sns.barplot(x= 'Pclass', y = 'SibSp', data = traindf, hue = 'Embarked', ax = ax[2,1])\n",
    "#plt.subplot(339)\n",
    "sns.regplot(x = 'Fare', y = 'Age', data = traindf, ax = ax[2,2])\n",
    "#plt.subplot(341)\n",
    "sns.violinplot(x = 'Sex', y = 'Parch', data = traindf, ax = ax[3,0])\n",
    "#plt.subplot(342)\n",
    "sns.barplot(x = 'Pclass', y = 'Parch', data = traindf, hue = 'Embarked', ax = ax[3,1])\n",
    "plt.close(12)\n",
    "plt.close(13)\n",
    "plt.close(14)"
   ]
  },
  {
   "cell_type": "markdown",
   "metadata": {
    "_cell_guid": "2f92c492-ff3e-4fa7-a83d-7bfe86d6e260",
    "_uuid": "d2f3e7edf66dafb7c9d74033e199c7d0be2a4b94"
   },
   "source": [
    "# Graph Explaination\n",
    "**1.** Starting from the first graph, we can see that very few males survived as compared to female  and very few females died in comparision to males.\n",
    "\n",
    "**2.** First and second class had the most survival rate than the third class whereas pessangers who boarded from *'S'* had the least survival rate.\n",
    "\n",
    "**3.** The *blue* and *red* distribution shows whether the pessanger survived or not.\n",
    "\n",
    "**4. & 5.** There were many passengers from both category who paid nothing to board the ship particularly from the **third** class \n",
    "\n",
    "**6.** The distribution of Fare with respect to Survival *blue* indicating Survived while *red* indicating dead.\n",
    "\n",
    "**7. & 8.** There were more *female* SibSp(siblings and spouces) as compared to *male* and majority of them were from **First** class from *Q* station followed by **third** class.\n",
    "\n",
    "**9.** Distribution of Fare by Age shows that there were many passengers paying nothing being majority while a few paying more than 500!\n",
    "\n",
    "**10. & 11.** By looking at the graph we can see that it is similar with SibSp to some extent with the only difference that *Parch* is flattened and the bar plot says that *Parch* there were no Passengers from *Q* aboard as *1st* and *2nd* class.\n",
    "\n"
   ]
  },
  {
   "cell_type": "code",
   "execution_count": 8,
   "metadata": {
    "_cell_guid": "40e61c28-80e2-43f8-afda-0632a7a500cf",
    "_uuid": "9b2cebae3d6b7837f08095fbb5ea725cd058a672",
    "execution": {
     "iopub.execute_input": "2022-08-17T10:08:47.682689Z",
     "iopub.status.busy": "2022-08-17T10:08:47.682320Z",
     "iopub.status.idle": "2022-08-17T10:08:47.701762Z",
     "shell.execute_reply": "2022-08-17T10:08:47.700516Z",
     "shell.execute_reply.started": "2022-08-17T10:08:47.682654Z"
    }
   },
   "outputs": [
    {
     "data": {
      "text/html": [
       "<div>\n",
       "<style scoped>\n",
       "    .dataframe tbody tr th:only-of-type {\n",
       "        vertical-align: middle;\n",
       "    }\n",
       "\n",
       "    .dataframe tbody tr th {\n",
       "        vertical-align: top;\n",
       "    }\n",
       "\n",
       "    .dataframe thead th {\n",
       "        text-align: right;\n",
       "    }\n",
       "</style>\n",
       "<table border=\"1\" class=\"dataframe\">\n",
       "  <thead>\n",
       "    <tr style=\"text-align: right;\">\n",
       "      <th></th>\n",
       "      <th>Survived</th>\n",
       "      <th>Pclass</th>\n",
       "      <th>Name</th>\n",
       "      <th>Sex</th>\n",
       "      <th>Age</th>\n",
       "      <th>SibSp</th>\n",
       "      <th>Parch</th>\n",
       "      <th>Ticket</th>\n",
       "      <th>Fare</th>\n",
       "      <th>Cabin</th>\n",
       "      <th>Embarked</th>\n",
       "    </tr>\n",
       "    <tr>\n",
       "      <th>PassengerId</th>\n",
       "      <th></th>\n",
       "      <th></th>\n",
       "      <th></th>\n",
       "      <th></th>\n",
       "      <th></th>\n",
       "      <th></th>\n",
       "      <th></th>\n",
       "      <th></th>\n",
       "      <th></th>\n",
       "      <th></th>\n",
       "      <th></th>\n",
       "    </tr>\n",
       "  </thead>\n",
       "  <tbody>\n",
       "    <tr>\n",
       "      <th>259</th>\n",
       "      <td>1</td>\n",
       "      <td>1</td>\n",
       "      <td>Ward, Miss. Anna</td>\n",
       "      <td>female</td>\n",
       "      <td>35.0</td>\n",
       "      <td>0</td>\n",
       "      <td>0</td>\n",
       "      <td>PC 17755</td>\n",
       "      <td>512.3292</td>\n",
       "      <td>NaN</td>\n",
       "      <td>C</td>\n",
       "    </tr>\n",
       "    <tr>\n",
       "      <th>680</th>\n",
       "      <td>1</td>\n",
       "      <td>1</td>\n",
       "      <td>Cardeza, Mr. Thomas Drake Martinez</td>\n",
       "      <td>male</td>\n",
       "      <td>36.0</td>\n",
       "      <td>0</td>\n",
       "      <td>1</td>\n",
       "      <td>PC 17755</td>\n",
       "      <td>512.3292</td>\n",
       "      <td>B51 B53 B55</td>\n",
       "      <td>C</td>\n",
       "    </tr>\n",
       "    <tr>\n",
       "      <th>738</th>\n",
       "      <td>1</td>\n",
       "      <td>1</td>\n",
       "      <td>Lesurer, Mr. Gustave J</td>\n",
       "      <td>male</td>\n",
       "      <td>35.0</td>\n",
       "      <td>0</td>\n",
       "      <td>0</td>\n",
       "      <td>PC 17755</td>\n",
       "      <td>512.3292</td>\n",
       "      <td>B101</td>\n",
       "      <td>C</td>\n",
       "    </tr>\n",
       "  </tbody>\n",
       "</table>\n",
       "</div>"
      ],
      "text/plain": [
       "             Survived  Pclass                                Name     Sex  \\\n",
       "PassengerId                                                                 \n",
       "259                 1       1                    Ward, Miss. Anna  female   \n",
       "680                 1       1  Cardeza, Mr. Thomas Drake Martinez    male   \n",
       "738                 1       1              Lesurer, Mr. Gustave J    male   \n",
       "\n",
       "              Age  SibSp  Parch    Ticket      Fare        Cabin Embarked  \n",
       "PassengerId                                                                \n",
       "259          35.0      0      0  PC 17755  512.3292          NaN        C  \n",
       "680          36.0      0      1  PC 17755  512.3292  B51 B53 B55        C  \n",
       "738          35.0      0      0  PC 17755  512.3292         B101        C  "
      ]
     },
     "execution_count": 8,
     "metadata": {},
     "output_type": "execute_result"
    }
   ],
   "source": [
    "traindf[traindf['Fare']>500]"
   ]
  },
  {
   "cell_type": "markdown",
   "metadata": {
    "_cell_guid": "ed464ac9-08db-4f10-8134-9cc321c3bd19",
    "_uuid": "5d58413df61639f65fc2481cdceac01087a9e6af"
   },
   "source": [
    "We can see that those who paid highest have the same ticket names. we'll investigate this further."
   ]
  },
  {
   "cell_type": "code",
   "execution_count": 9,
   "metadata": {
    "_cell_guid": "dfbc3943-f436-43a9-b180-5f5513939ae1",
    "_uuid": "71d261ab35fd6458cd3e571cfc009099e7bef08f",
    "execution": {
     "iopub.execute_input": "2022-08-17T10:08:47.708160Z",
     "iopub.status.busy": "2022-08-17T10:08:47.706816Z",
     "iopub.status.idle": "2022-08-17T10:08:47.713883Z",
     "shell.execute_reply": "2022-08-17T10:08:47.713073Z",
     "shell.execute_reply.started": "2022-08-17T10:08:47.708108Z"
    }
   },
   "outputs": [],
   "source": [
    "def get_isnull(train,test):\n",
    "    return(train.isnull().sum(), test.isnull().sum())    "
   ]
  },
  {
   "cell_type": "code",
   "execution_count": 10,
   "metadata": {
    "_cell_guid": "091c7a0c-55eb-4dab-907d-1fadb4d1958b",
    "_uuid": "030f4473663a7e2e13d76ef257da7ae3f4202d2b",
    "execution": {
     "iopub.execute_input": "2022-08-17T10:08:47.716363Z",
     "iopub.status.busy": "2022-08-17T10:08:47.715193Z",
     "iopub.status.idle": "2022-08-17T10:08:47.735101Z",
     "shell.execute_reply": "2022-08-17T10:08:47.733483Z",
     "shell.execute_reply.started": "2022-08-17T10:08:47.716318Z"
    }
   },
   "outputs": [
    {
     "data": {
      "text/plain": [
       "(Survived      0\n",
       " Pclass        0\n",
       " Name          0\n",
       " Sex           0\n",
       " Age         177\n",
       " SibSp         0\n",
       " Parch         0\n",
       " Ticket        0\n",
       " Fare          0\n",
       " Cabin       687\n",
       " Embarked      2\n",
       " dtype: int64,\n",
       " Pclass        0\n",
       " Name          0\n",
       " Sex           0\n",
       " Age          86\n",
       " SibSp         0\n",
       " Parch         0\n",
       " Ticket        0\n",
       " Fare          1\n",
       " Cabin       327\n",
       " Embarked      0\n",
       " dtype: int64)"
      ]
     },
     "execution_count": 10,
     "metadata": {},
     "output_type": "execute_result"
    }
   ],
   "source": [
    "get_isnull(traindf,testdf)"
   ]
  },
  {
   "cell_type": "markdown",
   "metadata": {
    "_cell_guid": "527a4797-4c5c-4743-8304-dea612c2879c",
    "_uuid": "7aafaf8eb6933484f3e12da2a7bd485c52e284ab"
   },
   "source": [
    "There are alot of missing values present in both the datasets which is not good for our model."
   ]
  },
  {
   "cell_type": "code",
   "execution_count": 11,
   "metadata": {
    "_cell_guid": "51b8e834-283b-4d96-a52e-51e21a2219f4",
    "_uuid": "26f290405e01d147f8848a412a9d18b6dda667b6",
    "execution": {
     "iopub.execute_input": "2022-08-17T10:08:47.737058Z",
     "iopub.status.busy": "2022-08-17T10:08:47.736684Z",
     "iopub.status.idle": "2022-08-17T10:08:47.742664Z",
     "shell.execute_reply": "2022-08-17T10:08:47.741617Z",
     "shell.execute_reply.started": "2022-08-17T10:08:47.737003Z"
    }
   },
   "outputs": [],
   "source": [
    "#function for concatation so that we won't have to repeat them again and again in future.\n",
    "def combine(data1,data2):\n",
    "    fulldf = pd.concat([data1,data2])\n",
    "    return fulldf"
   ]
  },
  {
   "cell_type": "code",
   "execution_count": 12,
   "metadata": {
    "_cell_guid": "5816fb78-5f9e-4d44-b7ea-abaf5f92438b",
    "_uuid": "8d29b14c48c96c68bf54fb6a12942f02d54efd6c",
    "execution": {
     "iopub.execute_input": "2022-08-17T10:08:47.745290Z",
     "iopub.status.busy": "2022-08-17T10:08:47.744298Z",
     "iopub.status.idle": "2022-08-17T10:08:47.753182Z",
     "shell.execute_reply": "2022-08-17T10:08:47.752315Z",
     "shell.execute_reply.started": "2022-08-17T10:08:47.745240Z"
    }
   },
   "outputs": [],
   "source": [
    "#Function for separation so that we won't have to repeat them again.\n",
    "def saperate(data):\n",
    "    data1 = data.iloc[:len(traindf)]\n",
    "    data2 = data.iloc[len(traindf):]\n",
    "    return data1, data2"
   ]
  },
  {
   "cell_type": "code",
   "execution_count": 13,
   "metadata": {
    "_cell_guid": "129137dd-562e-4a87-b39d-4889503dc1b1",
    "_uuid": "7a744578a078dae34269402d1225a617ac0d0c04",
    "execution": {
     "iopub.execute_input": "2022-08-17T10:08:47.755475Z",
     "iopub.status.busy": "2022-08-17T10:08:47.754621Z",
     "iopub.status.idle": "2022-08-17T10:08:47.775027Z",
     "shell.execute_reply": "2022-08-17T10:08:47.773740Z",
     "shell.execute_reply.started": "2022-08-17T10:08:47.755443Z"
    }
   },
   "outputs": [
    {
     "data": {
      "text/html": [
       "<div>\n",
       "<style scoped>\n",
       "    .dataframe tbody tr th:only-of-type {\n",
       "        vertical-align: middle;\n",
       "    }\n",
       "\n",
       "    .dataframe tbody tr th {\n",
       "        vertical-align: top;\n",
       "    }\n",
       "\n",
       "    .dataframe thead th {\n",
       "        text-align: right;\n",
       "    }\n",
       "</style>\n",
       "<table border=\"1\" class=\"dataframe\">\n",
       "  <thead>\n",
       "    <tr style=\"text-align: right;\">\n",
       "      <th></th>\n",
       "      <th>Pclass</th>\n",
       "      <th>Name</th>\n",
       "      <th>Sex</th>\n",
       "      <th>Age</th>\n",
       "      <th>SibSp</th>\n",
       "      <th>Parch</th>\n",
       "      <th>Ticket</th>\n",
       "      <th>Fare</th>\n",
       "      <th>Cabin</th>\n",
       "      <th>Embarked</th>\n",
       "    </tr>\n",
       "    <tr>\n",
       "      <th>PassengerId</th>\n",
       "      <th></th>\n",
       "      <th></th>\n",
       "      <th></th>\n",
       "      <th></th>\n",
       "      <th></th>\n",
       "      <th></th>\n",
       "      <th></th>\n",
       "      <th></th>\n",
       "      <th></th>\n",
       "      <th></th>\n",
       "    </tr>\n",
       "  </thead>\n",
       "  <tbody>\n",
       "    <tr>\n",
       "      <th>1044</th>\n",
       "      <td>3</td>\n",
       "      <td>Storey, Mr. Thomas</td>\n",
       "      <td>male</td>\n",
       "      <td>60.5</td>\n",
       "      <td>0</td>\n",
       "      <td>0</td>\n",
       "      <td>3701</td>\n",
       "      <td>NaN</td>\n",
       "      <td>NaN</td>\n",
       "      <td>S</td>\n",
       "    </tr>\n",
       "  </tbody>\n",
       "</table>\n",
       "</div>"
      ],
      "text/plain": [
       "             Pclass                Name   Sex   Age  SibSp  Parch Ticket  \\\n",
       "PassengerId                                                                \n",
       "1044              3  Storey, Mr. Thomas  male  60.5      0      0   3701   \n",
       "\n",
       "             Fare Cabin Embarked  \n",
       "PassengerId                       \n",
       "1044          NaN   NaN        S  "
      ]
     },
     "execution_count": 13,
     "metadata": {},
     "output_type": "execute_result"
    }
   ],
   "source": [
    "testdf[testdf['Fare'].isnull()]"
   ]
  },
  {
   "cell_type": "markdown",
   "metadata": {
    "_cell_guid": "95ad7847-a650-4617-8408-cab12a8c58bd",
    "_uuid": "9c67da5254aa6101e86796c5be3c6e24079cc82b"
   },
   "source": [
    "median is used instead of mean so that the value does not sway too much in a direction."
   ]
  },
  {
   "cell_type": "code",
   "execution_count": 14,
   "metadata": {
    "_cell_guid": "cc78b088-b32a-4119-99d4-99147ac8d97a",
    "_uuid": "da5c008e3d6c5cba41cc1b5f443e5a29d6a204ad",
    "execution": {
     "iopub.execute_input": "2022-08-17T10:08:47.776862Z",
     "iopub.status.busy": "2022-08-17T10:08:47.776484Z",
     "iopub.status.idle": "2022-08-17T10:08:47.794422Z",
     "shell.execute_reply": "2022-08-17T10:08:47.793321Z",
     "shell.execute_reply.started": "2022-08-17T10:08:47.776829Z"
    }
   },
   "outputs": [],
   "source": [
    "def filling(data1,data2):\n",
    "    data = combine(data1,data2)\n",
    "    data['Embarked'] = data['Embarked'].fillna('C')\n",
    "    data['Age']      = data['Age'].fillna(data['Age'].median())\n",
    "    data['Fare']     = data['Fare'].fillna(data['Fare'].median())\n",
    "    data['Cabin']    = data['Cabin'].fillna('Z')\n",
    "    data['Cabin']    = data['Cabin'].apply(lambda x: str(x)[0])\n",
    "    traindf, testdf    = saperate(data)\n",
    "    return traindf, testdf\n",
    "traindf, testdf = filling(traindf, testdf)\n",
    "#testdf = filling(testdf)\n"
   ]
  },
  {
   "cell_type": "code",
   "execution_count": 15,
   "metadata": {
    "_cell_guid": "b41feaeb-4429-4a86-b086-fd9a48cf0aeb",
    "_uuid": "432ba74ee5930803a0e52bc6a6183778878eec54",
    "execution": {
     "iopub.execute_input": "2022-08-17T10:08:47.796797Z",
     "iopub.status.busy": "2022-08-17T10:08:47.796045Z",
     "iopub.status.idle": "2022-08-17T10:08:48.199590Z",
     "shell.execute_reply": "2022-08-17T10:08:48.198024Z",
     "shell.execute_reply.started": "2022-08-17T10:08:47.796757Z"
    }
   },
   "outputs": [
    {
     "data": {
      "text/plain": [
       "<AxesSubplot:xlabel='Cabin', ylabel='Survived'>"
      ]
     },
     "execution_count": 15,
     "metadata": {},
     "output_type": "execute_result"
    },
    {
     "data": {
      "image/png": "[encoded data removed]",
      "text/plain": [
       "<Figure size 432x288 with 1 Axes>"
      ]
     },
     "metadata": {},
     "output_type": "display_data"
    }
   ],
   "source": [
    "sns.barplot(x= 'Cabin', y = 'Survived', data = traindf ,order = ['A', 'B', 'C', 'D', 'E', 'F', 'G', 'Z', 'T'])"
   ]
  },
  {
   "cell_type": "code",
   "execution_count": 16,
   "metadata": {
    "_cell_guid": "d70143ba-1f63-4e38-b82e-beebadf56880",
    "_uuid": "5f25edd11cde92b6644535e9bf8e2affc846e21c",
    "execution": {
     "iopub.execute_input": "2022-08-17T10:08:48.201513Z",
     "iopub.status.busy": "2022-08-17T10:08:48.201158Z",
     "iopub.status.idle": "2022-08-17T10:08:48.221759Z",
     "shell.execute_reply": "2022-08-17T10:08:48.220455Z",
     "shell.execute_reply.started": "2022-08-17T10:08:48.201480Z"
    }
   },
   "outputs": [],
   "source": [
    "def pew(data1, data2):\n",
    "    data = combine(data1,data2)\n",
    "    data['Cabin'] = data['Cabin'].replace(['B', 'D', 'E'], 'H')   #High\n",
    "    data['Cabin'] = data['Cabin'].replace(['F', 'C'], 'M')        #Medium\n",
    "    data['Cabin'] = data['Cabin'].replace(['T', 'G', 'A',], 'L')  #Low\n",
    "    data['Cabin'] = data['Cabin'].replace(['Z'],'X')              #Missing\n",
    "    traindf, testdf    = saperate(data)\n",
    "    return traindf, testdf\n",
    "traindf, testdf = pew(traindf,testdf)\n",
    "#testdf  = pew(testdf)"
   ]
  },
  {
   "cell_type": "markdown",
   "metadata": {
    "_cell_guid": "233cdfab-9f1e-496e-bffb-021b9dc55b19",
    "_uuid": "ac5250f4503f28d7b6be918fb98c53831217a1d6"
   },
   "source": [
    "It's better that we combine both SibSp and Parch as they can be represented as family."
   ]
  },
  {
   "cell_type": "code",
   "execution_count": 17,
   "metadata": {
    "_cell_guid": "12c4040c-a4e6-4771-a783-822eaaeafcbf",
    "_uuid": "55a683f13a0b4f6953a53d8b297f0cb4795ee036",
    "execution": {
     "iopub.execute_input": "2022-08-17T10:08:48.223948Z",
     "iopub.status.busy": "2022-08-17T10:08:48.223474Z",
     "iopub.status.idle": "2022-08-17T10:08:48.239257Z",
     "shell.execute_reply": "2022-08-17T10:08:48.237988Z",
     "shell.execute_reply.started": "2022-08-17T10:08:48.223907Z"
    }
   },
   "outputs": [],
   "source": [
    "def family(data1, data2):\n",
    "    data = combine(data1,data2)\n",
    "    data['Family'] = data['SibSp'] + data['Parch'] + 1\n",
    "    data['Alone']  = data['Family'].apply(lambda x: 1 if x == 1 else 0)\n",
    "    data.drop(['SibSp','Parch'],axis = 1, inplace = True)\n",
    "    traindf, testdf    = saperate(data)\n",
    "    return traindf, testdf\n",
    "traindf, testdf = family(traindf, testdf)\n",
    "#testdf  = family(testdf)\n"
   ]
  },
  {
   "cell_type": "code",
   "execution_count": 18,
   "metadata": {
    "_cell_guid": "67dfcf3b-672f-45ab-af61-fa0421cfcdc6",
    "_uuid": "bc7bcbf0aabf6ad8fb90d510da7ea5ec46e20d60",
    "execution": {
     "iopub.execute_input": "2022-08-17T10:08:48.241384Z",
     "iopub.status.busy": "2022-08-17T10:08:48.240966Z",
     "iopub.status.idle": "2022-08-17T10:08:49.213507Z",
     "shell.execute_reply": "2022-08-17T10:08:49.212102Z",
     "shell.execute_reply.started": "2022-08-17T10:08:48.241347Z"
    }
   },
   "outputs": [
    {
     "name": "stderr",
     "output_type": "stream",
     "text": [
      "D:\\Users\\Samin\\anaconda3\\lib\\site-packages\\seaborn\\categorical.py:3717: UserWarning: The `factorplot` function has been renamed to `catplot`. The original name will be removed in a future release. Please update your code. Note that the default `kind` in `factorplot` (`'point'`) has changed `'strip'` in `catplot`.\n",
      "  warnings.warn(msg)\n",
      "D:\\Users\\Samin\\anaconda3\\lib\\site-packages\\seaborn\\categorical.py:3775: UserWarning: catplot is a figure-level function and does not accept target axes. You may wish to try countplot\n",
      "  warnings.warn(msg, UserWarning)\n"
     ]
    },
    {
     "data": {
      "image/png": "[encoded data removed]",
      "text/plain": [
       "<Figure size 1440x504 with 3 Axes>"
      ]
     },
     "metadata": {},
     "output_type": "display_data"
    }
   ],
   "source": [
    "f,ax = plt.subplots(1,3,figsize=[20,7])\n",
    "sns.barplot(x = 'Alone', y = 'Survived', data = traindf,orient = 'h', ax = ax[0])\n",
    "sns.barplot(x = 'Survived', y = 'Family', data = traindf,orient = 'h', ax = ax[1])\n",
    "sns.factorplot(y = 'Family',data = traindf, kind = 'count', orient = 'h', ax = ax[2])\n",
    "plt.close(2)\n",
    "plt.close(3)"
   ]
  },
  {
   "cell_type": "markdown",
   "metadata": {
    "_cell_guid": "5b4eb2a9-057d-4bfe-84d9-d9cbe1202022",
    "_uuid": "1d618143df99e6068cda76c9cdcef381e6ee1fe1"
   },
   "source": [
    "Most of the Passengers aboard were alone. The Passengers who were alone had a lower survival rate which is also true for Passengers who had more than 4 members with them."
   ]
  },
  {
   "cell_type": "code",
   "execution_count": 19,
   "metadata": {
    "_cell_guid": "855303e5-005e-4b21-a826-df0cddc120c6",
    "_uuid": "0d4a2938eebbde0d3a96712d0678f33b2e4d4a01",
    "execution": {
     "iopub.execute_input": "2022-08-17T10:08:49.215794Z",
     "iopub.status.busy": "2022-08-17T10:08:49.215429Z",
     "iopub.status.idle": "2022-08-17T10:08:49.236244Z",
     "shell.execute_reply": "2022-08-17T10:08:49.235065Z",
     "shell.execute_reply.started": "2022-08-17T10:08:49.215758Z"
    }
   },
   "outputs": [
    {
     "data": {
      "text/html": [
       "<div>\n",
       "<style scoped>\n",
       "    .dataframe tbody tr th:only-of-type {\n",
       "        vertical-align: middle;\n",
       "    }\n",
       "\n",
       "    .dataframe tbody tr th {\n",
       "        vertical-align: top;\n",
       "    }\n",
       "\n",
       "    .dataframe thead th {\n",
       "        text-align: right;\n",
       "    }\n",
       "</style>\n",
       "<table border=\"1\" class=\"dataframe\">\n",
       "  <thead>\n",
       "    <tr style=\"text-align: right;\">\n",
       "      <th></th>\n",
       "      <th>Survived</th>\n",
       "      <th>Pclass</th>\n",
       "      <th>Name</th>\n",
       "      <th>Sex</th>\n",
       "      <th>Age</th>\n",
       "      <th>Ticket</th>\n",
       "      <th>Fare</th>\n",
       "      <th>Cabin</th>\n",
       "      <th>Embarked</th>\n",
       "      <th>Family</th>\n",
       "      <th>Alone</th>\n",
       "    </tr>\n",
       "    <tr>\n",
       "      <th>PassengerId</th>\n",
       "      <th></th>\n",
       "      <th></th>\n",
       "      <th></th>\n",
       "      <th></th>\n",
       "      <th></th>\n",
       "      <th></th>\n",
       "      <th></th>\n",
       "      <th></th>\n",
       "      <th></th>\n",
       "      <th></th>\n",
       "      <th></th>\n",
       "    </tr>\n",
       "  </thead>\n",
       "  <tbody>\n",
       "    <tr>\n",
       "      <th>1</th>\n",
       "      <td>0.0</td>\n",
       "      <td>3</td>\n",
       "      <td>Braund, Mr. Owen Harris</td>\n",
       "      <td>male</td>\n",
       "      <td>22.0</td>\n",
       "      <td>A/5 21171</td>\n",
       "      <td>7.2500</td>\n",
       "      <td>X</td>\n",
       "      <td>S</td>\n",
       "      <td>2</td>\n",
       "      <td>0</td>\n",
       "    </tr>\n",
       "    <tr>\n",
       "      <th>2</th>\n",
       "      <td>1.0</td>\n",
       "      <td>1</td>\n",
       "      <td>Cumings, Mrs. John Bradley (Florence Briggs Th...</td>\n",
       "      <td>female</td>\n",
       "      <td>38.0</td>\n",
       "      <td>PC 17599</td>\n",
       "      <td>71.2833</td>\n",
       "      <td>M</td>\n",
       "      <td>C</td>\n",
       "      <td>2</td>\n",
       "      <td>0</td>\n",
       "    </tr>\n",
       "    <tr>\n",
       "      <th>3</th>\n",
       "      <td>1.0</td>\n",
       "      <td>3</td>\n",
       "      <td>Heikkinen, Miss. Laina</td>\n",
       "      <td>female</td>\n",
       "      <td>26.0</td>\n",
       "      <td>STON/O2. 3101282</td>\n",
       "      <td>7.9250</td>\n",
       "      <td>X</td>\n",
       "      <td>S</td>\n",
       "      <td>1</td>\n",
       "      <td>1</td>\n",
       "    </tr>\n",
       "    <tr>\n",
       "      <th>4</th>\n",
       "      <td>1.0</td>\n",
       "      <td>1</td>\n",
       "      <td>Futrelle, Mrs. Jacques Heath (Lily May Peel)</td>\n",
       "      <td>female</td>\n",
       "      <td>35.0</td>\n",
       "      <td>113803</td>\n",
       "      <td>53.1000</td>\n",
       "      <td>M</td>\n",
       "      <td>S</td>\n",
       "      <td>2</td>\n",
       "      <td>0</td>\n",
       "    </tr>\n",
       "    <tr>\n",
       "      <th>5</th>\n",
       "      <td>0.0</td>\n",
       "      <td>3</td>\n",
       "      <td>Allen, Mr. William Henry</td>\n",
       "      <td>male</td>\n",
       "      <td>35.0</td>\n",
       "      <td>373450</td>\n",
       "      <td>8.0500</td>\n",
       "      <td>X</td>\n",
       "      <td>S</td>\n",
       "      <td>1</td>\n",
       "      <td>1</td>\n",
       "    </tr>\n",
       "  </tbody>\n",
       "</table>\n",
       "</div>"
      ],
      "text/plain": [
       "             Survived  Pclass  \\\n",
       "PassengerId                     \n",
       "1                 0.0       3   \n",
       "2                 1.0       1   \n",
       "3                 1.0       3   \n",
       "4                 1.0       1   \n",
       "5                 0.0       3   \n",
       "\n",
       "                                                          Name     Sex   Age  \\\n",
       "PassengerId                                                                    \n",
       "1                                      Braund, Mr. Owen Harris    male  22.0   \n",
       "2            Cumings, Mrs. John Bradley (Florence Briggs Th...  female  38.0   \n",
       "3                                       Heikkinen, Miss. Laina  female  26.0   \n",
       "4                 Futrelle, Mrs. Jacques Heath (Lily May Peel)  female  35.0   \n",
       "5                                     Allen, Mr. William Henry    male  35.0   \n",
       "\n",
       "                       Ticket     Fare Cabin Embarked  Family  Alone  \n",
       "PassengerId                                                           \n",
       "1                   A/5 21171   7.2500     X        S       2      0  \n",
       "2                    PC 17599  71.2833     M        C       2      0  \n",
       "3            STON/O2. 3101282   7.9250     X        S       1      1  \n",
       "4                      113803  53.1000     M        S       2      0  \n",
       "5                      373450   8.0500     X        S       1      1  "
      ]
     },
     "execution_count": 19,
     "metadata": {},
     "output_type": "execute_result"
    }
   ],
   "source": [
    "traindf.head()"
   ]
  },
  {
   "cell_type": "code",
   "execution_count": 20,
   "metadata": {
    "_cell_guid": "46153b96-d215-4f0a-aba5-edd19563f741",
    "_uuid": "f435e39250c7462b5cf40c5123f3d8056b0b4940",
    "execution": {
     "iopub.execute_input": "2022-08-17T10:08:49.238460Z",
     "iopub.status.busy": "2022-08-17T10:08:49.238057Z",
     "iopub.status.idle": "2022-08-17T10:08:49.254174Z",
     "shell.execute_reply": "2022-08-17T10:08:49.252928Z",
     "shell.execute_reply.started": "2022-08-17T10:08:49.238424Z"
    }
   },
   "outputs": [],
   "source": [
    "def FamilyGroup(data1, data2):\n",
    "    data = combine(data1,data2)\n",
    "    data.loc[data['Family'] > 2, 'FamilyGroup'] = 3\n",
    "    data.loc[data['Family'] == 1, 'FamilyGroup'] = 1\n",
    "    data.loc[data['Family'] == 2, 'FamilyGroup'] = 2\n",
    "    traindf, testdf    = saperate(data)\n",
    "    return traindf, testdf\n",
    "traindf, testdf = FamilyGroup(traindf, testdf)\n",
    "#testdf  = FamilyGroup(testdf) "
   ]
  },
  {
   "cell_type": "code",
   "execution_count": 21,
   "metadata": {
    "_cell_guid": "10943ecc-6111-4300-8456-118698705013",
    "_uuid": "4abd2ee815eb1d420a38389b282aac2d2e10104c",
    "execution": {
     "iopub.execute_input": "2022-08-17T10:08:49.256373Z",
     "iopub.status.busy": "2022-08-17T10:08:49.255940Z",
     "iopub.status.idle": "2022-08-17T10:08:49.271935Z",
     "shell.execute_reply": "2022-08-17T10:08:49.270635Z",
     "shell.execute_reply.started": "2022-08-17T10:08:49.256334Z"
    }
   },
   "outputs": [],
   "source": [
    "def mapping(data1, data2):\n",
    "    data = combine(data1,data2)\n",
    "    data['Embarked'] = data['Embarked'].map({'C':1, 'S':2, 'Q':3})\n",
    "    data['Sex']      = data['Sex'].map({'male': 1,'female':0})\n",
    "    data['CabinGroup'] = data['Cabin'].map({'H': 0, 'M': 1, 'L': 2, 'X':3})\n",
    "    traindf, testdf    = saperate(data)\n",
    "    return traindf, testdf\n",
    "traindf, testdf = mapping(traindf, testdf)\n",
    "#testdf  = mapping(testdf)"
   ]
  },
  {
   "cell_type": "code",
   "execution_count": 22,
   "metadata": {
    "_cell_guid": "29797129-0af3-4b62-8e1e-6939959f3222",
    "_uuid": "ba22f728b68074756f52dff858c0e476cf3ae04c",
    "execution": {
     "iopub.execute_input": "2022-08-17T10:08:49.274557Z",
     "iopub.status.busy": "2022-08-17T10:08:49.274216Z",
     "iopub.status.idle": "2022-08-17T10:08:49.282619Z",
     "shell.execute_reply": "2022-08-17T10:08:49.281436Z",
     "shell.execute_reply.started": "2022-08-17T10:08:49.274525Z"
    }
   },
   "outputs": [
    {
     "data": {
      "text/plain": [
       "3    687\n",
       "0    112\n",
       "1     72\n",
       "2     20\n",
       "Name: CabinGroup, dtype: int64"
      ]
     },
     "execution_count": 22,
     "metadata": {},
     "output_type": "execute_result"
    }
   ],
   "source": [
    "traindf['CabinGroup'].value_counts()"
   ]
  },
  {
   "cell_type": "code",
   "execution_count": 23,
   "metadata": {
    "_cell_guid": "51244a1d-e1e6-46a1-ac72-6a3f30ba29f3",
    "_uuid": "0f8d2b60c3d0927fcdb93d5a1d8ad4e7bce5bd8a",
    "execution": {
     "iopub.execute_input": "2022-08-17T10:08:49.285140Z",
     "iopub.status.busy": "2022-08-17T10:08:49.284656Z",
     "iopub.status.idle": "2022-08-17T10:08:49.306594Z",
     "shell.execute_reply": "2022-08-17T10:08:49.305468Z",
     "shell.execute_reply.started": "2022-08-17T10:08:49.285093Z"
    },
    "scrolled": true
   },
   "outputs": [
    {
     "data": {
      "text/html": [
       "<div>\n",
       "<style scoped>\n",
       "    .dataframe tbody tr th:only-of-type {\n",
       "        vertical-align: middle;\n",
       "    }\n",
       "\n",
       "    .dataframe tbody tr th {\n",
       "        vertical-align: top;\n",
       "    }\n",
       "\n",
       "    .dataframe thead th {\n",
       "        text-align: right;\n",
       "    }\n",
       "</style>\n",
       "<table border=\"1\" class=\"dataframe\">\n",
       "  <thead>\n",
       "    <tr style=\"text-align: right;\">\n",
       "      <th></th>\n",
       "      <th>Survived</th>\n",
       "      <th>Pclass</th>\n",
       "      <th>Name</th>\n",
       "      <th>Sex</th>\n",
       "      <th>Age</th>\n",
       "      <th>Ticket</th>\n",
       "      <th>Fare</th>\n",
       "      <th>Cabin</th>\n",
       "      <th>Embarked</th>\n",
       "      <th>Family</th>\n",
       "      <th>Alone</th>\n",
       "      <th>FamilyGroup</th>\n",
       "      <th>CabinGroup</th>\n",
       "    </tr>\n",
       "    <tr>\n",
       "      <th>PassengerId</th>\n",
       "      <th></th>\n",
       "      <th></th>\n",
       "      <th></th>\n",
       "      <th></th>\n",
       "      <th></th>\n",
       "      <th></th>\n",
       "      <th></th>\n",
       "      <th></th>\n",
       "      <th></th>\n",
       "      <th></th>\n",
       "      <th></th>\n",
       "      <th></th>\n",
       "      <th></th>\n",
       "    </tr>\n",
       "  </thead>\n",
       "  <tbody>\n",
       "    <tr>\n",
       "      <th>1</th>\n",
       "      <td>0.0</td>\n",
       "      <td>3</td>\n",
       "      <td>Braund, Mr. Owen Harris</td>\n",
       "      <td>1</td>\n",
       "      <td>22.0</td>\n",
       "      <td>A/5 21171</td>\n",
       "      <td>7.2500</td>\n",
       "      <td>X</td>\n",
       "      <td>2</td>\n",
       "      <td>2</td>\n",
       "      <td>0</td>\n",
       "      <td>2.0</td>\n",
       "      <td>3</td>\n",
       "    </tr>\n",
       "    <tr>\n",
       "      <th>2</th>\n",
       "      <td>1.0</td>\n",
       "      <td>1</td>\n",
       "      <td>Cumings, Mrs. John Bradley (Florence Briggs Th...</td>\n",
       "      <td>0</td>\n",
       "      <td>38.0</td>\n",
       "      <td>PC 17599</td>\n",
       "      <td>71.2833</td>\n",
       "      <td>M</td>\n",
       "      <td>1</td>\n",
       "      <td>2</td>\n",
       "      <td>0</td>\n",
       "      <td>2.0</td>\n",
       "      <td>1</td>\n",
       "    </tr>\n",
       "    <tr>\n",
       "      <th>3</th>\n",
       "      <td>1.0</td>\n",
       "      <td>3</td>\n",
       "      <td>Heikkinen, Miss. Laina</td>\n",
       "      <td>0</td>\n",
       "      <td>26.0</td>\n",
       "      <td>STON/O2. 3101282</td>\n",
       "      <td>7.9250</td>\n",
       "      <td>X</td>\n",
       "      <td>2</td>\n",
       "      <td>1</td>\n",
       "      <td>1</td>\n",
       "      <td>1.0</td>\n",
       "      <td>3</td>\n",
       "    </tr>\n",
       "    <tr>\n",
       "      <th>4</th>\n",
       "      <td>1.0</td>\n",
       "      <td>1</td>\n",
       "      <td>Futrelle, Mrs. Jacques Heath (Lily May Peel)</td>\n",
       "      <td>0</td>\n",
       "      <td>35.0</td>\n",
       "      <td>113803</td>\n",
       "      <td>53.1000</td>\n",
       "      <td>M</td>\n",
       "      <td>2</td>\n",
       "      <td>2</td>\n",
       "      <td>0</td>\n",
       "      <td>2.0</td>\n",
       "      <td>1</td>\n",
       "    </tr>\n",
       "    <tr>\n",
       "      <th>5</th>\n",
       "      <td>0.0</td>\n",
       "      <td>3</td>\n",
       "      <td>Allen, Mr. William Henry</td>\n",
       "      <td>1</td>\n",
       "      <td>35.0</td>\n",
       "      <td>373450</td>\n",
       "      <td>8.0500</td>\n",
       "      <td>X</td>\n",
       "      <td>2</td>\n",
       "      <td>1</td>\n",
       "      <td>1</td>\n",
       "      <td>1.0</td>\n",
       "      <td>3</td>\n",
       "    </tr>\n",
       "  </tbody>\n",
       "</table>\n",
       "</div>"
      ],
      "text/plain": [
       "             Survived  Pclass  \\\n",
       "PassengerId                     \n",
       "1                 0.0       3   \n",
       "2                 1.0       1   \n",
       "3                 1.0       3   \n",
       "4                 1.0       1   \n",
       "5                 0.0       3   \n",
       "\n",
       "                                                          Name  Sex   Age  \\\n",
       "PassengerId                                                                 \n",
       "1                                      Braund, Mr. Owen Harris    1  22.0   \n",
       "2            Cumings, Mrs. John Bradley (Florence Briggs Th...    0  38.0   \n",
       "3                                       Heikkinen, Miss. Laina    0  26.0   \n",
       "4                 Futrelle, Mrs. Jacques Heath (Lily May Peel)    0  35.0   \n",
       "5                                     Allen, Mr. William Henry    1  35.0   \n",
       "\n",
       "                       Ticket     Fare Cabin  Embarked  Family  Alone  \\\n",
       "PassengerId                                                             \n",
       "1                   A/5 21171   7.2500     X         2       2      0   \n",
       "2                    PC 17599  71.2833     M         1       2      0   \n",
       "3            STON/O2. 3101282   7.9250     X         2       1      1   \n",
       "4                      113803  53.1000     M         2       2      0   \n",
       "5                      373450   8.0500     X         2       1      1   \n",
       "\n",
       "             FamilyGroup  CabinGroup  \n",
       "PassengerId                           \n",
       "1                    2.0           3  \n",
       "2                    2.0           1  \n",
       "3                    1.0           3  \n",
       "4                    2.0           1  \n",
       "5                    1.0           3  "
      ]
     },
     "execution_count": 23,
     "metadata": {},
     "output_type": "execute_result"
    }
   ],
   "source": [
    "traindf.head()"
   ]
  },
  {
   "cell_type": "code",
   "execution_count": 24,
   "metadata": {
    "_cell_guid": "9fb45104-778f-4941-acfb-cbabb745e274",
    "_uuid": "86b55bde516379e4c7eb5672be9bb119cb8212f4",
    "execution": {
     "iopub.execute_input": "2022-08-17T10:08:49.313458Z",
     "iopub.status.busy": "2022-08-17T10:08:49.313042Z",
     "iopub.status.idle": "2022-08-17T10:08:49.359527Z",
     "shell.execute_reply": "2022-08-17T10:08:49.358348Z",
     "shell.execute_reply.started": "2022-08-17T10:08:49.313419Z"
    }
   },
   "outputs": [],
   "source": [
    "def Titles(data1, data2):\n",
    "    data = combine(data1,data2)\n",
    "    data['Title'] = data['Name'].apply(lambda x: str(x).split(',')[1].split('.')[0])\n",
    "    data['TitleGroup'] = 0\n",
    "    data['TitleGroup'] = data['Title'].replace(['Mme','Ms','Lady','Sir','Mlle','the Countess',],0,          #High\n",
    "                                            regex = True).replace(['Mrs','Miss','Master',],1,               #Medium\n",
    "                                            regex = True).replace(['Dr','Major','Col','Mr'],2,              #Low\n",
    "                                            regex = True).replace(['Don','Rev','Capt','Jonkheer','Dona'],4, #Least\n",
    "                                            regex = True)\n",
    "    #data['TitleGroup'] = data['TitleGroup'].replace({'male':1,'female':0,'Special':2})\n",
    "    traindf, testdf    = saperate(data)\n",
    "    return traindf, testdf\n",
    "traindf, testdf = Titles(traindf, testdf)\n",
    "#testdf  = Titles(testdf)\n",
    "##['Mrs','Miss','Mme','Ms','Lady','Mlle','Countess','Dona'],'female'\n",
    "##['Sir','Don','Rev','Mr',],'male'\n",
    "##['Col','Dr','Col','Capt','Major','Jonkheer','Master'],'Special'"
   ]
  },
  {
   "cell_type": "code",
   "execution_count": 25,
   "metadata": {
    "_cell_guid": "5993872c-66f2-40a7-b2c3-f8cabfd2cb42",
    "_uuid": "d1b10efe3a2cb1e5b74f12600153e96a47792709",
    "execution": {
     "iopub.execute_input": "2022-08-17T10:08:49.361387Z",
     "iopub.status.busy": "2022-08-17T10:08:49.360993Z",
     "iopub.status.idle": "2022-08-17T10:08:49.884388Z",
     "shell.execute_reply": "2022-08-17T10:08:49.883139Z",
     "shell.execute_reply.started": "2022-08-17T10:08:49.361352Z"
    }
   },
   "outputs": [
    {
     "data": {
      "text/plain": [
       "<AxesSubplot:xlabel='Survived', ylabel='Title'>"
      ]
     },
     "execution_count": 25,
     "metadata": {},
     "output_type": "execute_result"
    },
    {
     "data": {
      "image/png": "[encoded data removed]",
      "text/plain": [
       "<Figure size 576x360 with 1 Axes>"
      ]
     },
     "metadata": {},
     "output_type": "display_data"
    }
   ],
   "source": [
    "plt.figure(figsize = [8,5])\n",
    "sns.barplot(x = 'Survived', y = 'Title', data = traindf, palette = 'Blues_d',)"
   ]
  },
  {
   "cell_type": "code",
   "execution_count": 26,
   "metadata": {
    "_cell_guid": "f62bdc2b-362c-4cee-8d19-3385d3b1d780",
    "_uuid": "5ddc5c90ab160e99e3d5c8b62aa3539a08d478f3",
    "execution": {
     "iopub.execute_input": "2022-08-17T10:08:49.888080Z",
     "iopub.status.busy": "2022-08-17T10:08:49.886221Z",
     "iopub.status.idle": "2022-08-17T10:08:49.913025Z",
     "shell.execute_reply": "2022-08-17T10:08:49.911665Z",
     "shell.execute_reply.started": "2022-08-17T10:08:49.887997Z"
    }
   },
   "outputs": [],
   "source": [
    "def surname(data1, data2):\n",
    "    data = combine(data1,data2)\n",
    "    data['Surname'] = data['Name'].apply(lambda x: str(x).split(' ')[0].split(',')[0])\n",
    "    Shares = 0\n",
    "    Shares = data.groupby('Surname').apply(lambda x: x.shape[0])\n",
    "    data['SharedSurname'] = data['Surname'].map(Shares)\n",
    "    traindf, testdf    = saperate(data)\n",
    "    return traindf, testdf\n",
    "\n",
    "traindf, testdf = surname(traindf, testdf)\n"
   ]
  },
  {
   "cell_type": "code",
   "execution_count": 27,
   "metadata": {
    "_cell_guid": "04d51af1-25a5-4bea-83de-e353fe759f60",
    "_uuid": "125f6d13d65d197bf2add7d203c8d32241fe6170",
    "execution": {
     "iopub.execute_input": "2022-08-17T10:08:49.915497Z",
     "iopub.status.busy": "2022-08-17T10:08:49.915118Z",
     "iopub.status.idle": "2022-08-17T10:08:49.937296Z",
     "shell.execute_reply": "2022-08-17T10:08:49.936098Z",
     "shell.execute_reply.started": "2022-08-17T10:08:49.915462Z"
    }
   },
   "outputs": [
    {
     "data": {
      "text/html": [
       "<div>\n",
       "<style scoped>\n",
       "    .dataframe tbody tr th:only-of-type {\n",
       "        vertical-align: middle;\n",
       "    }\n",
       "\n",
       "    .dataframe tbody tr th {\n",
       "        vertical-align: top;\n",
       "    }\n",
       "\n",
       "    .dataframe thead th {\n",
       "        text-align: right;\n",
       "    }\n",
       "</style>\n",
       "<table border=\"1\" class=\"dataframe\">\n",
       "  <thead>\n",
       "    <tr style=\"text-align: right;\">\n",
       "      <th></th>\n",
       "      <th>Survived</th>\n",
       "      <th>Pclass</th>\n",
       "      <th>Name</th>\n",
       "      <th>Sex</th>\n",
       "      <th>Age</th>\n",
       "      <th>Ticket</th>\n",
       "      <th>Fare</th>\n",
       "      <th>Cabin</th>\n",
       "      <th>Embarked</th>\n",
       "      <th>Family</th>\n",
       "      <th>Alone</th>\n",
       "      <th>FamilyGroup</th>\n",
       "      <th>CabinGroup</th>\n",
       "      <th>Title</th>\n",
       "      <th>TitleGroup</th>\n",
       "      <th>Surname</th>\n",
       "      <th>SharedSurname</th>\n",
       "    </tr>\n",
       "    <tr>\n",
       "      <th>PassengerId</th>\n",
       "      <th></th>\n",
       "      <th></th>\n",
       "      <th></th>\n",
       "      <th></th>\n",
       "      <th></th>\n",
       "      <th></th>\n",
       "      <th></th>\n",
       "      <th></th>\n",
       "      <th></th>\n",
       "      <th></th>\n",
       "      <th></th>\n",
       "      <th></th>\n",
       "      <th></th>\n",
       "      <th></th>\n",
       "      <th></th>\n",
       "      <th></th>\n",
       "      <th></th>\n",
       "    </tr>\n",
       "  </thead>\n",
       "  <tbody>\n",
       "    <tr>\n",
       "      <th>4</th>\n",
       "      <td>1.0</td>\n",
       "      <td>1</td>\n",
       "      <td>Futrelle, Mrs. Jacques Heath (Lily May Peel)</td>\n",
       "      <td>0</td>\n",
       "      <td>35.0</td>\n",
       "      <td>113803</td>\n",
       "      <td>53.1</td>\n",
       "      <td>M</td>\n",
       "      <td>2</td>\n",
       "      <td>2</td>\n",
       "      <td>0</td>\n",
       "      <td>2.0</td>\n",
       "      <td>1</td>\n",
       "      <td>Mrs</td>\n",
       "      <td>1</td>\n",
       "      <td>Futrelle</td>\n",
       "      <td>2</td>\n",
       "    </tr>\n",
       "    <tr>\n",
       "      <th>138</th>\n",
       "      <td>0.0</td>\n",
       "      <td>1</td>\n",
       "      <td>Futrelle, Mr. Jacques Heath</td>\n",
       "      <td>1</td>\n",
       "      <td>37.0</td>\n",
       "      <td>113803</td>\n",
       "      <td>53.1</td>\n",
       "      <td>M</td>\n",
       "      <td>2</td>\n",
       "      <td>2</td>\n",
       "      <td>0</td>\n",
       "      <td>2.0</td>\n",
       "      <td>1</td>\n",
       "      <td>Mr</td>\n",
       "      <td>2</td>\n",
       "      <td>Futrelle</td>\n",
       "      <td>2</td>\n",
       "    </tr>\n",
       "  </tbody>\n",
       "</table>\n",
       "</div>"
      ],
      "text/plain": [
       "             Survived  Pclass                                          Name  \\\n",
       "PassengerId                                                                   \n",
       "4                 1.0       1  Futrelle, Mrs. Jacques Heath (Lily May Peel)   \n",
       "138               0.0       1                   Futrelle, Mr. Jacques Heath   \n",
       "\n",
       "             Sex   Age  Ticket  Fare Cabin  Embarked  Family  Alone  \\\n",
       "PassengerId                                                           \n",
       "4              0  35.0  113803  53.1     M         2       2      0   \n",
       "138            1  37.0  113803  53.1     M         2       2      0   \n",
       "\n",
       "             FamilyGroup  CabinGroup Title  TitleGroup   Surname  \\\n",
       "PassengerId                                                        \n",
       "4                    2.0           1   Mrs           1  Futrelle   \n",
       "138                  2.0           1    Mr           2  Futrelle   \n",
       "\n",
       "             SharedSurname  \n",
       "PassengerId                 \n",
       "4                        2  \n",
       "138                      2  "
      ]
     },
     "execution_count": 27,
     "metadata": {},
     "output_type": "execute_result"
    }
   ],
   "source": [
    "traindf.loc[traindf['Ticket'].str.contains('113803')]"
   ]
  },
  {
   "cell_type": "markdown",
   "metadata": {},
   "source": [
    "### In this part we seprate passengers to different groups based on Age:"
   ]
  },
  {
   "cell_type": "code",
   "execution_count": 28,
   "metadata": {
    "_cell_guid": "a99f6cce-717e-41bd-8bf8-b67a48d1bda5",
    "_uuid": "3a07d6a653519afca5cf6b5040d018a0d519b5b0",
    "execution": {
     "iopub.execute_input": "2022-08-17T10:08:49.939078Z",
     "iopub.status.busy": "2022-08-17T10:08:49.938696Z",
     "iopub.status.idle": "2022-08-17T10:08:50.286137Z",
     "shell.execute_reply": "2022-08-17T10:08:50.284837Z",
     "shell.execute_reply.started": "2022-08-17T10:08:49.939034Z"
    }
   },
   "outputs": [
    {
     "data": {
      "image/png": "[encoded data removed]",
      "text/plain": [
       "<Figure size 1224x432 with 1 Axes>"
      ]
     },
     "metadata": {},
     "output_type": "display_data"
    }
   ],
   "source": [
    "def age_distribution(data1, data2):\n",
    "    data = combine(data1,data2)\n",
    "    data.loc[data['Age'] <= 16, 'AgeGroup'] = 1\n",
    "    data.loc[(data['Age'] > 16) & (data['Age'] <= 40), 'AgeGroup'] = 2\n",
    "    data.loc[(data['Age'] > 40) & (data['Age'] < 60), 'AgeGroup'] = 3\n",
    "    data.loc[(data['Age'] >= 60), 'AgeGroup'] = 4\n",
    "    data['AgeGroup'].astype(int)\n",
    "    traindf, testdf    = saperate(data)\n",
    "    return traindf, testdf\n",
    "\n",
    "traindf, testdf = age_distribution(traindf, testdf)\n",
    "#testdf = age_distribution(testdf)\n",
    "plt.figure(figsize = [17,6])\n",
    "sns.barplot(x = traindf['AgeGroup'], y = traindf['Survived'])#data = traindf,)#ci = 95, orient = 'v')\n",
    "plt.rc('xtick',labelsize = 12)\n"
   ]
  },
  {
   "cell_type": "code",
   "execution_count": 29,
   "metadata": {
    "_cell_guid": "f36674de-2436-4e8c-83d4-7f53369d1afd",
    "_uuid": "9b3e68daa523f12a8a7f424f8dc8fb133b858ae9",
    "execution": {
     "iopub.execute_input": "2022-08-17T10:08:50.288202Z",
     "iopub.status.busy": "2022-08-17T10:08:50.287676Z",
     "iopub.status.idle": "2022-08-17T10:08:50.316907Z",
     "shell.execute_reply": "2022-08-17T10:08:50.315913Z",
     "shell.execute_reply.started": "2022-08-17T10:08:50.288161Z"
    }
   },
   "outputs": [
    {
     "data": {
      "text/html": [
       "<div>\n",
       "<style scoped>\n",
       "    .dataframe tbody tr th:only-of-type {\n",
       "        vertical-align: middle;\n",
       "    }\n",
       "\n",
       "    .dataframe tbody tr th {\n",
       "        vertical-align: top;\n",
       "    }\n",
       "\n",
       "    .dataframe thead th {\n",
       "        text-align: right;\n",
       "    }\n",
       "</style>\n",
       "<table border=\"1\" class=\"dataframe\">\n",
       "  <thead>\n",
       "    <tr style=\"text-align: right;\">\n",
       "      <th></th>\n",
       "      <th>Survived</th>\n",
       "      <th>Pclass</th>\n",
       "      <th>Name</th>\n",
       "      <th>Sex</th>\n",
       "      <th>Age</th>\n",
       "      <th>Ticket</th>\n",
       "      <th>Fare</th>\n",
       "      <th>Cabin</th>\n",
       "      <th>Embarked</th>\n",
       "      <th>Family</th>\n",
       "      <th>Alone</th>\n",
       "      <th>FamilyGroup</th>\n",
       "      <th>CabinGroup</th>\n",
       "      <th>Title</th>\n",
       "      <th>TitleGroup</th>\n",
       "      <th>Surname</th>\n",
       "      <th>SharedSurname</th>\n",
       "      <th>AgeGroup</th>\n",
       "    </tr>\n",
       "    <tr>\n",
       "      <th>PassengerId</th>\n",
       "      <th></th>\n",
       "      <th></th>\n",
       "      <th></th>\n",
       "      <th></th>\n",
       "      <th></th>\n",
       "      <th></th>\n",
       "      <th></th>\n",
       "      <th></th>\n",
       "      <th></th>\n",
       "      <th></th>\n",
       "      <th></th>\n",
       "      <th></th>\n",
       "      <th></th>\n",
       "      <th></th>\n",
       "      <th></th>\n",
       "      <th></th>\n",
       "      <th></th>\n",
       "      <th></th>\n",
       "    </tr>\n",
       "  </thead>\n",
       "  <tbody>\n",
       "    <tr>\n",
       "      <th>1</th>\n",
       "      <td>0.0</td>\n",
       "      <td>3</td>\n",
       "      <td>Braund, Mr. Owen Harris</td>\n",
       "      <td>1</td>\n",
       "      <td>22.0</td>\n",
       "      <td>A/5 21171</td>\n",
       "      <td>7.2500</td>\n",
       "      <td>X</td>\n",
       "      <td>2</td>\n",
       "      <td>2</td>\n",
       "      <td>0</td>\n",
       "      <td>2.0</td>\n",
       "      <td>3</td>\n",
       "      <td>Mr</td>\n",
       "      <td>2</td>\n",
       "      <td>Braund</td>\n",
       "      <td>2</td>\n",
       "      <td>2.0</td>\n",
       "    </tr>\n",
       "    <tr>\n",
       "      <th>2</th>\n",
       "      <td>1.0</td>\n",
       "      <td>1</td>\n",
       "      <td>Cumings, Mrs. John Bradley (Florence Briggs Th...</td>\n",
       "      <td>0</td>\n",
       "      <td>38.0</td>\n",
       "      <td>PC 17599</td>\n",
       "      <td>71.2833</td>\n",
       "      <td>M</td>\n",
       "      <td>1</td>\n",
       "      <td>2</td>\n",
       "      <td>0</td>\n",
       "      <td>2.0</td>\n",
       "      <td>1</td>\n",
       "      <td>Mrs</td>\n",
       "      <td>1</td>\n",
       "      <td>Cumings</td>\n",
       "      <td>2</td>\n",
       "      <td>2.0</td>\n",
       "    </tr>\n",
       "    <tr>\n",
       "      <th>3</th>\n",
       "      <td>1.0</td>\n",
       "      <td>3</td>\n",
       "      <td>Heikkinen, Miss. Laina</td>\n",
       "      <td>0</td>\n",
       "      <td>26.0</td>\n",
       "      <td>STON/O2. 3101282</td>\n",
       "      <td>7.9250</td>\n",
       "      <td>X</td>\n",
       "      <td>2</td>\n",
       "      <td>1</td>\n",
       "      <td>1</td>\n",
       "      <td>1.0</td>\n",
       "      <td>3</td>\n",
       "      <td>Miss</td>\n",
       "      <td>1</td>\n",
       "      <td>Heikkinen</td>\n",
       "      <td>1</td>\n",
       "      <td>2.0</td>\n",
       "    </tr>\n",
       "    <tr>\n",
       "      <th>4</th>\n",
       "      <td>1.0</td>\n",
       "      <td>1</td>\n",
       "      <td>Futrelle, Mrs. Jacques Heath (Lily May Peel)</td>\n",
       "      <td>0</td>\n",
       "      <td>35.0</td>\n",
       "      <td>113803</td>\n",
       "      <td>53.1000</td>\n",
       "      <td>M</td>\n",
       "      <td>2</td>\n",
       "      <td>2</td>\n",
       "      <td>0</td>\n",
       "      <td>2.0</td>\n",
       "      <td>1</td>\n",
       "      <td>Mrs</td>\n",
       "      <td>1</td>\n",
       "      <td>Futrelle</td>\n",
       "      <td>2</td>\n",
       "      <td>2.0</td>\n",
       "    </tr>\n",
       "    <tr>\n",
       "      <th>5</th>\n",
       "      <td>0.0</td>\n",
       "      <td>3</td>\n",
       "      <td>Allen, Mr. William Henry</td>\n",
       "      <td>1</td>\n",
       "      <td>35.0</td>\n",
       "      <td>373450</td>\n",
       "      <td>8.0500</td>\n",
       "      <td>X</td>\n",
       "      <td>2</td>\n",
       "      <td>1</td>\n",
       "      <td>1</td>\n",
       "      <td>1.0</td>\n",
       "      <td>3</td>\n",
       "      <td>Mr</td>\n",
       "      <td>2</td>\n",
       "      <td>Allen</td>\n",
       "      <td>2</td>\n",
       "      <td>2.0</td>\n",
       "    </tr>\n",
       "    <tr>\n",
       "      <th>6</th>\n",
       "      <td>0.0</td>\n",
       "      <td>3</td>\n",
       "      <td>Moran, Mr. James</td>\n",
       "      <td>1</td>\n",
       "      <td>28.0</td>\n",
       "      <td>330877</td>\n",
       "      <td>8.4583</td>\n",
       "      <td>X</td>\n",
       "      <td>3</td>\n",
       "      <td>1</td>\n",
       "      <td>1</td>\n",
       "      <td>1.0</td>\n",
       "      <td>3</td>\n",
       "      <td>Mr</td>\n",
       "      <td>2</td>\n",
       "      <td>Moran</td>\n",
       "      <td>3</td>\n",
       "      <td>2.0</td>\n",
       "    </tr>\n",
       "    <tr>\n",
       "      <th>7</th>\n",
       "      <td>0.0</td>\n",
       "      <td>1</td>\n",
       "      <td>McCarthy, Mr. Timothy J</td>\n",
       "      <td>1</td>\n",
       "      <td>54.0</td>\n",
       "      <td>17463</td>\n",
       "      <td>51.8625</td>\n",
       "      <td>H</td>\n",
       "      <td>2</td>\n",
       "      <td>1</td>\n",
       "      <td>1</td>\n",
       "      <td>1.0</td>\n",
       "      <td>0</td>\n",
       "      <td>Mr</td>\n",
       "      <td>2</td>\n",
       "      <td>McCarthy</td>\n",
       "      <td>2</td>\n",
       "      <td>3.0</td>\n",
       "    </tr>\n",
       "    <tr>\n",
       "      <th>8</th>\n",
       "      <td>0.0</td>\n",
       "      <td>3</td>\n",
       "      <td>Palsson, Master. Gosta Leonard</td>\n",
       "      <td>1</td>\n",
       "      <td>2.0</td>\n",
       "      <td>349909</td>\n",
       "      <td>21.0750</td>\n",
       "      <td>X</td>\n",
       "      <td>2</td>\n",
       "      <td>5</td>\n",
       "      <td>0</td>\n",
       "      <td>3.0</td>\n",
       "      <td>3</td>\n",
       "      <td>Master</td>\n",
       "      <td>1</td>\n",
       "      <td>Palsson</td>\n",
       "      <td>5</td>\n",
       "      <td>1.0</td>\n",
       "    </tr>\n",
       "    <tr>\n",
       "      <th>9</th>\n",
       "      <td>1.0</td>\n",
       "      <td>3</td>\n",
       "      <td>Johnson, Mrs. Oscar W (Elisabeth Vilhelmina Berg)</td>\n",
       "      <td>0</td>\n",
       "      <td>27.0</td>\n",
       "      <td>347742</td>\n",
       "      <td>11.1333</td>\n",
       "      <td>X</td>\n",
       "      <td>2</td>\n",
       "      <td>3</td>\n",
       "      <td>0</td>\n",
       "      <td>3.0</td>\n",
       "      <td>3</td>\n",
       "      <td>Mrs</td>\n",
       "      <td>1</td>\n",
       "      <td>Johnson</td>\n",
       "      <td>6</td>\n",
       "      <td>2.0</td>\n",
       "    </tr>\n",
       "    <tr>\n",
       "      <th>10</th>\n",
       "      <td>1.0</td>\n",
       "      <td>2</td>\n",
       "      <td>Nasser, Mrs. Nicholas (Adele Achem)</td>\n",
       "      <td>0</td>\n",
       "      <td>14.0</td>\n",
       "      <td>237736</td>\n",
       "      <td>30.0708</td>\n",
       "      <td>X</td>\n",
       "      <td>1</td>\n",
       "      <td>2</td>\n",
       "      <td>0</td>\n",
       "      <td>2.0</td>\n",
       "      <td>3</td>\n",
       "      <td>Mrs</td>\n",
       "      <td>1</td>\n",
       "      <td>Nasser</td>\n",
       "      <td>2</td>\n",
       "      <td>1.0</td>\n",
       "    </tr>\n",
       "  </tbody>\n",
       "</table>\n",
       "</div>"
      ],
      "text/plain": [
       "             Survived  Pclass  \\\n",
       "PassengerId                     \n",
       "1                 0.0       3   \n",
       "2                 1.0       1   \n",
       "3                 1.0       3   \n",
       "4                 1.0       1   \n",
       "5                 0.0       3   \n",
       "6                 0.0       3   \n",
       "7                 0.0       1   \n",
       "8                 0.0       3   \n",
       "9                 1.0       3   \n",
       "10                1.0       2   \n",
       "\n",
       "                                                          Name  Sex   Age  \\\n",
       "PassengerId                                                                 \n",
       "1                                      Braund, Mr. Owen Harris    1  22.0   \n",
       "2            Cumings, Mrs. John Bradley (Florence Briggs Th...    0  38.0   \n",
       "3                                       Heikkinen, Miss. Laina    0  26.0   \n",
       "4                 Futrelle, Mrs. Jacques Heath (Lily May Peel)    0  35.0   \n",
       "5                                     Allen, Mr. William Henry    1  35.0   \n",
       "6                                             Moran, Mr. James    1  28.0   \n",
       "7                                      McCarthy, Mr. Timothy J    1  54.0   \n",
       "8                               Palsson, Master. Gosta Leonard    1   2.0   \n",
       "9            Johnson, Mrs. Oscar W (Elisabeth Vilhelmina Berg)    0  27.0   \n",
       "10                         Nasser, Mrs. Nicholas (Adele Achem)    0  14.0   \n",
       "\n",
       "                       Ticket     Fare Cabin  Embarked  Family  Alone  \\\n",
       "PassengerId                                                             \n",
       "1                   A/5 21171   7.2500     X         2       2      0   \n",
       "2                    PC 17599  71.2833     M         1       2      0   \n",
       "3            STON/O2. 3101282   7.9250     X         2       1      1   \n",
       "4                      113803  53.1000     M         2       2      0   \n",
       "5                      373450   8.0500     X         2       1      1   \n",
       "6                      330877   8.4583     X         3       1      1   \n",
       "7                       17463  51.8625     H         2       1      1   \n",
       "8                      349909  21.0750     X         2       5      0   \n",
       "9                      347742  11.1333     X         2       3      0   \n",
       "10                     237736  30.0708     X         1       2      0   \n",
       "\n",
       "             FamilyGroup  CabinGroup    Title  TitleGroup    Surname  \\\n",
       "PassengerId                                                            \n",
       "1                    2.0           3       Mr           2     Braund   \n",
       "2                    2.0           1      Mrs           1    Cumings   \n",
       "3                    1.0           3     Miss           1  Heikkinen   \n",
       "4                    2.0           1      Mrs           1   Futrelle   \n",
       "5                    1.0           3       Mr           2      Allen   \n",
       "6                    1.0           3       Mr           2      Moran   \n",
       "7                    1.0           0       Mr           2   McCarthy   \n",
       "8                    3.0           3   Master           1    Palsson   \n",
       "9                    3.0           3      Mrs           1    Johnson   \n",
       "10                   2.0           3      Mrs           1     Nasser   \n",
       "\n",
       "             SharedSurname  AgeGroup  \n",
       "PassengerId                           \n",
       "1                        2       2.0  \n",
       "2                        2       2.0  \n",
       "3                        1       2.0  \n",
       "4                        2       2.0  \n",
       "5                        2       2.0  \n",
       "6                        3       2.0  \n",
       "7                        2       3.0  \n",
       "8                        5       1.0  \n",
       "9                        6       2.0  \n",
       "10                       2       1.0  "
      ]
     },
     "execution_count": 29,
     "metadata": {},
     "output_type": "execute_result"
    }
   ],
   "source": [
    "traindf.head(10)"
   ]
  },
  {
   "cell_type": "markdown",
   "metadata": {},
   "source": [
    "### There is much difference for *1st* and *2nd* Embarkation for *1st* and *3rd* Pclass in terms of fare for males and females while the *2nd* class fare is similar in all the Embarkations."
   ]
  },
  {
   "cell_type": "code",
   "execution_count": 30,
   "metadata": {
    "_cell_guid": "b5a1b948-3bc6-4bb6-a8c9-9667cfa041dc",
    "_uuid": "f6b84a9185ab8fc168d5069f461690f089e445a4",
    "execution": {
     "iopub.execute_input": "2022-08-17T10:08:50.319102Z",
     "iopub.status.busy": "2022-08-17T10:08:50.318457Z",
     "iopub.status.idle": "2022-08-17T10:08:51.683301Z",
     "shell.execute_reply": "2022-08-17T10:08:51.681994Z",
     "shell.execute_reply.started": "2022-08-17T10:08:50.319048Z"
    }
   },
   "outputs": [
    {
     "name": "stderr",
     "output_type": "stream",
     "text": [
      "D:\\Users\\Samin\\anaconda3\\lib\\site-packages\\seaborn\\categorical.py:3717: UserWarning: The `factorplot` function has been renamed to `catplot`. The original name will be removed in a future release. Please update your code. Note that the default `kind` in `factorplot` (`'point'`) has changed `'strip'` in `catplot`.\n",
      "  warnings.warn(msg)\n"
     ]
    },
    {
     "data": {
      "text/plain": [
       "<seaborn.axisgrid.FacetGrid at 0x1fa488e8ac0>"
      ]
     },
     "execution_count": 30,
     "metadata": {},
     "output_type": "execute_result"
    },
    {
     "data": {
      "image/png": "[encoded data removed]",
      "text/plain": [
       "<Figure size 1134.9x360 with 3 Axes>"
      ]
     },
     "metadata": {},
     "output_type": "display_data"
    }
   ],
   "source": [
    "sns.factorplot(x = 'Pclass', y = 'Fare', col = 'Embarked', hue = 'Sex', data = traindf, margin_titles = True)"
   ]
  },
  {
   "cell_type": "markdown",
   "metadata": {
    "_cell_guid": "7837e6bf-6309-42ac-bb7f-161c83d30269",
    "_uuid": "fff1ca35a90e8832cb0ea2143376fe281827d679"
   },
   "source": [
    "### Finding shared names in dataset :"
   ]
  },
  {
   "cell_type": "markdown",
   "metadata": {},
   "source": []
  },
  {
   "cell_type": "code",
   "execution_count": 31,
   "metadata": {
    "_cell_guid": "74999ed1-0e54-45e2-94ac-640e84822399",
    "_uuid": "53756f2f52b5e03f4d5d05bb3744e026a50e7426",
    "execution": {
     "iopub.execute_input": "2022-08-17T10:08:51.686495Z",
     "iopub.status.busy": "2022-08-17T10:08:51.685260Z",
     "iopub.status.idle": "2022-08-17T10:08:51.710608Z",
     "shell.execute_reply": "2022-08-17T10:08:51.709227Z",
     "shell.execute_reply.started": "2022-08-17T10:08:51.686441Z"
    }
   },
   "outputs": [],
   "source": [
    "def SharedSurname(data1, data2):\n",
    "    data = combine(data1,data2)\n",
    "    Shares = 0\n",
    "    Shares = data.groupby('Surname').apply(lambda x: x.shape[0])\n",
    "    data['SharedSurname'] = data['Surname'].map(Shares)\n",
    "    traindf, testdf    = saperate(data)\n",
    "    return traindf, testdf\n",
    "\n",
    "traindf, testdf = SharedSurname(traindf, testdf)\n",
    "#testdf  = SharedSurname(testdf)"
   ]
  },
  {
   "cell_type": "code",
   "execution_count": 32,
   "metadata": {
    "_cell_guid": "82e8a993-ebd4-4e9a-a9fd-4e67447dc593",
    "_uuid": "5abc461406f9a8f521a5764728449b1460a712c1",
    "execution": {
     "iopub.execute_input": "2022-08-17T10:08:51.713216Z",
     "iopub.status.busy": "2022-08-17T10:08:51.712710Z",
     "iopub.status.idle": "2022-08-17T10:08:51.736206Z",
     "shell.execute_reply": "2022-08-17T10:08:51.734685Z",
     "shell.execute_reply.started": "2022-08-17T10:08:51.713166Z"
    }
   },
   "outputs": [
    {
     "data": {
      "text/html": [
       "<div>\n",
       "<style scoped>\n",
       "    .dataframe tbody tr th:only-of-type {\n",
       "        vertical-align: middle;\n",
       "    }\n",
       "\n",
       "    .dataframe tbody tr th {\n",
       "        vertical-align: top;\n",
       "    }\n",
       "\n",
       "    .dataframe thead th {\n",
       "        text-align: right;\n",
       "    }\n",
       "</style>\n",
       "<table border=\"1\" class=\"dataframe\">\n",
       "  <thead>\n",
       "    <tr style=\"text-align: right;\">\n",
       "      <th></th>\n",
       "      <th>Survived</th>\n",
       "      <th>Pclass</th>\n",
       "      <th>Name</th>\n",
       "      <th>Sex</th>\n",
       "      <th>Age</th>\n",
       "      <th>Ticket</th>\n",
       "      <th>Fare</th>\n",
       "      <th>Cabin</th>\n",
       "      <th>Embarked</th>\n",
       "      <th>Family</th>\n",
       "      <th>Alone</th>\n",
       "      <th>FamilyGroup</th>\n",
       "      <th>CabinGroup</th>\n",
       "      <th>Title</th>\n",
       "      <th>TitleGroup</th>\n",
       "      <th>Surname</th>\n",
       "      <th>SharedSurname</th>\n",
       "      <th>AgeGroup</th>\n",
       "    </tr>\n",
       "    <tr>\n",
       "      <th>PassengerId</th>\n",
       "      <th></th>\n",
       "      <th></th>\n",
       "      <th></th>\n",
       "      <th></th>\n",
       "      <th></th>\n",
       "      <th></th>\n",
       "      <th></th>\n",
       "      <th></th>\n",
       "      <th></th>\n",
       "      <th></th>\n",
       "      <th></th>\n",
       "      <th></th>\n",
       "      <th></th>\n",
       "      <th></th>\n",
       "      <th></th>\n",
       "      <th></th>\n",
       "      <th></th>\n",
       "      <th></th>\n",
       "    </tr>\n",
       "  </thead>\n",
       "  <tbody>\n",
       "    <tr>\n",
       "      <th>892</th>\n",
       "      <td>NaN</td>\n",
       "      <td>3</td>\n",
       "      <td>Kelly, Mr. James</td>\n",
       "      <td>1</td>\n",
       "      <td>34.5</td>\n",
       "      <td>330911</td>\n",
       "      <td>7.8292</td>\n",
       "      <td>X</td>\n",
       "      <td>3</td>\n",
       "      <td>1</td>\n",
       "      <td>1</td>\n",
       "      <td>1.0</td>\n",
       "      <td>3</td>\n",
       "      <td>Mr</td>\n",
       "      <td>2</td>\n",
       "      <td>Kelly</td>\n",
       "      <td>5</td>\n",
       "      <td>2.0</td>\n",
       "    </tr>\n",
       "    <tr>\n",
       "      <th>893</th>\n",
       "      <td>NaN</td>\n",
       "      <td>3</td>\n",
       "      <td>Wilkes, Mrs. James (Ellen Needs)</td>\n",
       "      <td>0</td>\n",
       "      <td>47.0</td>\n",
       "      <td>363272</td>\n",
       "      <td>7.0000</td>\n",
       "      <td>X</td>\n",
       "      <td>2</td>\n",
       "      <td>2</td>\n",
       "      <td>0</td>\n",
       "      <td>2.0</td>\n",
       "      <td>3</td>\n",
       "      <td>Mrs</td>\n",
       "      <td>1</td>\n",
       "      <td>Wilkes</td>\n",
       "      <td>1</td>\n",
       "      <td>3.0</td>\n",
       "    </tr>\n",
       "    <tr>\n",
       "      <th>894</th>\n",
       "      <td>NaN</td>\n",
       "      <td>2</td>\n",
       "      <td>Myles, Mr. Thomas Francis</td>\n",
       "      <td>1</td>\n",
       "      <td>62.0</td>\n",
       "      <td>240276</td>\n",
       "      <td>9.6875</td>\n",
       "      <td>X</td>\n",
       "      <td>3</td>\n",
       "      <td>1</td>\n",
       "      <td>1</td>\n",
       "      <td>1.0</td>\n",
       "      <td>3</td>\n",
       "      <td>Mr</td>\n",
       "      <td>2</td>\n",
       "      <td>Myles</td>\n",
       "      <td>1</td>\n",
       "      <td>4.0</td>\n",
       "    </tr>\n",
       "  </tbody>\n",
       "</table>\n",
       "</div>"
      ],
      "text/plain": [
       "             Survived  Pclass                              Name  Sex   Age  \\\n",
       "PassengerId                                                                  \n",
       "892               NaN       3                  Kelly, Mr. James    1  34.5   \n",
       "893               NaN       3  Wilkes, Mrs. James (Ellen Needs)    0  47.0   \n",
       "894               NaN       2         Myles, Mr. Thomas Francis    1  62.0   \n",
       "\n",
       "             Ticket    Fare Cabin  Embarked  Family  Alone  FamilyGroup  \\\n",
       "PassengerId                                                               \n",
       "892          330911  7.8292     X         3       1      1          1.0   \n",
       "893          363272  7.0000     X         2       2      0          2.0   \n",
       "894          240276  9.6875     X         3       1      1          1.0   \n",
       "\n",
       "             CabinGroup Title  TitleGroup Surname  SharedSurname  AgeGroup  \n",
       "PassengerId                                                                 \n",
       "892                   3    Mr           2   Kelly              5       2.0  \n",
       "893                   3   Mrs           1  Wilkes              1       3.0  \n",
       "894                   3    Mr           2   Myles              1       4.0  "
      ]
     },
     "execution_count": 32,
     "metadata": {},
     "output_type": "execute_result"
    }
   ],
   "source": [
    "testdf.head(3)"
   ]
  },
  {
   "cell_type": "markdown",
   "metadata": {
    "_cell_guid": "83163b79-3d1d-4969-b77d-7efea8125a01",
    "_uuid": "da3b6d2d97f5598c58efa2efea6049aa209b894a"
   },
   "source": [
    "### Grouping Fare and creating a new column called *'FareGroup'* with their means by Pclass"
   ]
  },
  {
   "cell_type": "code",
   "execution_count": 33,
   "metadata": {
    "_cell_guid": "6f04a2ab-556a-4a96-80c4-873036597c44",
    "_uuid": "ba85fc0604af1252684e991de1996612695b8ffe",
    "execution": {
     "iopub.execute_input": "2022-08-17T10:08:51.739610Z",
     "iopub.status.busy": "2022-08-17T10:08:51.738218Z",
     "iopub.status.idle": "2022-08-17T10:08:51.761766Z",
     "shell.execute_reply": "2022-08-17T10:08:51.760379Z",
     "shell.execute_reply.started": "2022-08-17T10:08:51.739548Z"
    }
   },
   "outputs": [],
   "source": [
    "def fare_distribution(data1, data2):\n",
    "    data = combine(data1,data2)\n",
    "    payment = data.groupby('Pclass')['Fare'].mean()\n",
    "    data.loc[(data['Fare'] < payment[3]),'FareGroup'] = 1\n",
    "    data.loc[(data['Fare'] > payment[3]) & (data['Fare'] <  payment[2]),'FareGroup'] = 2\n",
    "    data.loc[(data['Fare'] > payment[2]) & (data['Fare'] <  payment[1]), 'FareGroup'] = 3\n",
    "    data.loc[(data['Fare'] > payment[1]),'FareGroup'] = 4\n",
    "    #data['Fare'] = data['Fare'].map({'Very Low': 0, 'Low': 1, 'Medium':2, 'High':3})\n",
    "    data['FareGroup'] = data['FareGroup'].astype(int)\n",
    "    traindf, testdf    = saperate(data)\n",
    "    return traindf, testdf\n",
    "#payment = fulldf.groupby('Pclass')['Fare'].mean()\n",
    "traindf, testdf = fare_distribution(traindf, testdf)\n",
    "#testdf = fare_distribution(testdf)\n"
   ]
  },
  {
   "cell_type": "code",
   "execution_count": 34,
   "metadata": {
    "execution": {
     "iopub.execute_input": "2022-08-17T10:08:51.764478Z",
     "iopub.status.busy": "2022-08-17T10:08:51.763329Z",
     "iopub.status.idle": "2022-08-17T10:08:51.786753Z",
     "shell.execute_reply": "2022-08-17T10:08:51.785452Z",
     "shell.execute_reply.started": "2022-08-17T10:08:51.764430Z"
    }
   },
   "outputs": [
    {
     "data": {
      "text/html": [
       "<div>\n",
       "<style scoped>\n",
       "    .dataframe tbody tr th:only-of-type {\n",
       "        vertical-align: middle;\n",
       "    }\n",
       "\n",
       "    .dataframe tbody tr th {\n",
       "        vertical-align: top;\n",
       "    }\n",
       "\n",
       "    .dataframe thead th {\n",
       "        text-align: right;\n",
       "    }\n",
       "</style>\n",
       "<table border=\"1\" class=\"dataframe\">\n",
       "  <thead>\n",
       "    <tr style=\"text-align: right;\">\n",
       "      <th></th>\n",
       "      <th>Survived</th>\n",
       "      <th>Pclass</th>\n",
       "      <th>Name</th>\n",
       "      <th>Sex</th>\n",
       "      <th>Age</th>\n",
       "      <th>Ticket</th>\n",
       "      <th>Fare</th>\n",
       "      <th>Cabin</th>\n",
       "      <th>Embarked</th>\n",
       "      <th>Family</th>\n",
       "      <th>Alone</th>\n",
       "      <th>FamilyGroup</th>\n",
       "      <th>CabinGroup</th>\n",
       "      <th>Title</th>\n",
       "      <th>TitleGroup</th>\n",
       "      <th>Surname</th>\n",
       "      <th>SharedSurname</th>\n",
       "      <th>AgeGroup</th>\n",
       "      <th>FareGroup</th>\n",
       "    </tr>\n",
       "    <tr>\n",
       "      <th>PassengerId</th>\n",
       "      <th></th>\n",
       "      <th></th>\n",
       "      <th></th>\n",
       "      <th></th>\n",
       "      <th></th>\n",
       "      <th></th>\n",
       "      <th></th>\n",
       "      <th></th>\n",
       "      <th></th>\n",
       "      <th></th>\n",
       "      <th></th>\n",
       "      <th></th>\n",
       "      <th></th>\n",
       "      <th></th>\n",
       "      <th></th>\n",
       "      <th></th>\n",
       "      <th></th>\n",
       "      <th></th>\n",
       "      <th></th>\n",
       "    </tr>\n",
       "  </thead>\n",
       "  <tbody>\n",
       "    <tr>\n",
       "      <th>892</th>\n",
       "      <td>NaN</td>\n",
       "      <td>3</td>\n",
       "      <td>Kelly, Mr. James</td>\n",
       "      <td>1</td>\n",
       "      <td>34.5</td>\n",
       "      <td>330911</td>\n",
       "      <td>7.8292</td>\n",
       "      <td>X</td>\n",
       "      <td>3</td>\n",
       "      <td>1</td>\n",
       "      <td>1</td>\n",
       "      <td>1.0</td>\n",
       "      <td>3</td>\n",
       "      <td>Mr</td>\n",
       "      <td>2</td>\n",
       "      <td>Kelly</td>\n",
       "      <td>5</td>\n",
       "      <td>2.0</td>\n",
       "      <td>1</td>\n",
       "    </tr>\n",
       "    <tr>\n",
       "      <th>893</th>\n",
       "      <td>NaN</td>\n",
       "      <td>3</td>\n",
       "      <td>Wilkes, Mrs. James (Ellen Needs)</td>\n",
       "      <td>0</td>\n",
       "      <td>47.0</td>\n",
       "      <td>363272</td>\n",
       "      <td>7.0000</td>\n",
       "      <td>X</td>\n",
       "      <td>2</td>\n",
       "      <td>2</td>\n",
       "      <td>0</td>\n",
       "      <td>2.0</td>\n",
       "      <td>3</td>\n",
       "      <td>Mrs</td>\n",
       "      <td>1</td>\n",
       "      <td>Wilkes</td>\n",
       "      <td>1</td>\n",
       "      <td>3.0</td>\n",
       "      <td>1</td>\n",
       "    </tr>\n",
       "    <tr>\n",
       "      <th>894</th>\n",
       "      <td>NaN</td>\n",
       "      <td>2</td>\n",
       "      <td>Myles, Mr. Thomas Francis</td>\n",
       "      <td>1</td>\n",
       "      <td>62.0</td>\n",
       "      <td>240276</td>\n",
       "      <td>9.6875</td>\n",
       "      <td>X</td>\n",
       "      <td>3</td>\n",
       "      <td>1</td>\n",
       "      <td>1</td>\n",
       "      <td>1.0</td>\n",
       "      <td>3</td>\n",
       "      <td>Mr</td>\n",
       "      <td>2</td>\n",
       "      <td>Myles</td>\n",
       "      <td>1</td>\n",
       "      <td>4.0</td>\n",
       "      <td>1</td>\n",
       "    </tr>\n",
       "  </tbody>\n",
       "</table>\n",
       "</div>"
      ],
      "text/plain": [
       "             Survived  Pclass                              Name  Sex   Age  \\\n",
       "PassengerId                                                                  \n",
       "892               NaN       3                  Kelly, Mr. James    1  34.5   \n",
       "893               NaN       3  Wilkes, Mrs. James (Ellen Needs)    0  47.0   \n",
       "894               NaN       2         Myles, Mr. Thomas Francis    1  62.0   \n",
       "\n",
       "             Ticket    Fare Cabin  Embarked  Family  Alone  FamilyGroup  \\\n",
       "PassengerId                                                               \n",
       "892          330911  7.8292     X         3       1      1          1.0   \n",
       "893          363272  7.0000     X         2       2      0          2.0   \n",
       "894          240276  9.6875     X         3       1      1          1.0   \n",
       "\n",
       "             CabinGroup Title  TitleGroup Surname  SharedSurname  AgeGroup  \\\n",
       "PassengerId                                                                  \n",
       "892                   3    Mr           2   Kelly              5       2.0   \n",
       "893                   3   Mrs           1  Wilkes              1       3.0   \n",
       "894                   3    Mr           2   Myles              1       4.0   \n",
       "\n",
       "             FareGroup  \n",
       "PassengerId             \n",
       "892                  1  \n",
       "893                  1  \n",
       "894                  1  "
      ]
     },
     "execution_count": 34,
     "metadata": {},
     "output_type": "execute_result"
    }
   ],
   "source": [
    "testdf.head(3)"
   ]
  },
  {
   "cell_type": "markdown",
   "metadata": {},
   "source": [
    "### Finding Frequancy of Tickets: "
   ]
  },
  {
   "cell_type": "code",
   "execution_count": 35,
   "metadata": {
    "_cell_guid": "b06ae864-3c83-4cc3-ba77-0d6064b453a4",
    "_uuid": "138221b2839a939ade86841905f5e05063e1fff1",
    "execution": {
     "iopub.execute_input": "2022-08-17T10:08:51.789646Z",
     "iopub.status.busy": "2022-08-17T10:08:51.788781Z",
     "iopub.status.idle": "2022-08-17T10:08:51.850791Z",
     "shell.execute_reply": "2022-08-17T10:08:51.849519Z",
     "shell.execute_reply.started": "2022-08-17T10:08:51.789588Z"
    }
   },
   "outputs": [
    {
     "name": "stderr",
     "output_type": "stream",
     "text": [
      "C:\\Users\\Samin\\AppData\\Local\\Temp\\ipykernel_12776\\663122943.py:6: FutureWarning: The default value of regex will change from True to False in a future version. In addition, single character regular expressions will *not* be treated as literal strings when regex=True.\n",
      "  data['Ticket'] = data['Ticket'].str.replace('.','').str.replace('/','').str.replace(' ','')\n"
     ]
    },
    {
     "data": {
      "text/html": [
       "<div>\n",
       "<style scoped>\n",
       "    .dataframe tbody tr th:only-of-type {\n",
       "        vertical-align: middle;\n",
       "    }\n",
       "\n",
       "    .dataframe tbody tr th {\n",
       "        vertical-align: top;\n",
       "    }\n",
       "\n",
       "    .dataframe thead th {\n",
       "        text-align: right;\n",
       "    }\n",
       "</style>\n",
       "<table border=\"1\" class=\"dataframe\">\n",
       "  <thead>\n",
       "    <tr style=\"text-align: right;\">\n",
       "      <th></th>\n",
       "      <th>Survived</th>\n",
       "      <th>Pclass</th>\n",
       "      <th>Name</th>\n",
       "      <th>Sex</th>\n",
       "      <th>Age</th>\n",
       "      <th>Ticket</th>\n",
       "      <th>Fare</th>\n",
       "      <th>Cabin</th>\n",
       "      <th>Embarked</th>\n",
       "      <th>Family</th>\n",
       "      <th>...</th>\n",
       "      <th>FamilyGroup</th>\n",
       "      <th>CabinGroup</th>\n",
       "      <th>Title</th>\n",
       "      <th>TitleGroup</th>\n",
       "      <th>Surname</th>\n",
       "      <th>SharedSurname</th>\n",
       "      <th>AgeGroup</th>\n",
       "      <th>FareGroup</th>\n",
       "      <th>SharedTicketCount</th>\n",
       "      <th>TicketLength</th>\n",
       "    </tr>\n",
       "    <tr>\n",
       "      <th>PassengerId</th>\n",
       "      <th></th>\n",
       "      <th></th>\n",
       "      <th></th>\n",
       "      <th></th>\n",
       "      <th></th>\n",
       "      <th></th>\n",
       "      <th></th>\n",
       "      <th></th>\n",
       "      <th></th>\n",
       "      <th></th>\n",
       "      <th></th>\n",
       "      <th></th>\n",
       "      <th></th>\n",
       "      <th></th>\n",
       "      <th></th>\n",
       "      <th></th>\n",
       "      <th></th>\n",
       "      <th></th>\n",
       "      <th></th>\n",
       "      <th></th>\n",
       "      <th></th>\n",
       "    </tr>\n",
       "  </thead>\n",
       "  <tbody>\n",
       "    <tr>\n",
       "      <th>892</th>\n",
       "      <td>NaN</td>\n",
       "      <td>3</td>\n",
       "      <td>Kelly, Mr. James</td>\n",
       "      <td>1</td>\n",
       "      <td>34.5</td>\n",
       "      <td>330911</td>\n",
       "      <td>7.8292</td>\n",
       "      <td>X</td>\n",
       "      <td>3</td>\n",
       "      <td>1</td>\n",
       "      <td>...</td>\n",
       "      <td>1.0</td>\n",
       "      <td>3</td>\n",
       "      <td>Mr</td>\n",
       "      <td>2</td>\n",
       "      <td>Kelly</td>\n",
       "      <td>5</td>\n",
       "      <td>2.0</td>\n",
       "      <td>1</td>\n",
       "      <td>1</td>\n",
       "      <td>6</td>\n",
       "    </tr>\n",
       "    <tr>\n",
       "      <th>893</th>\n",
       "      <td>NaN</td>\n",
       "      <td>3</td>\n",
       "      <td>Wilkes, Mrs. James (Ellen Needs)</td>\n",
       "      <td>0</td>\n",
       "      <td>47.0</td>\n",
       "      <td>363272</td>\n",
       "      <td>7.0000</td>\n",
       "      <td>X</td>\n",
       "      <td>2</td>\n",
       "      <td>2</td>\n",
       "      <td>...</td>\n",
       "      <td>2.0</td>\n",
       "      <td>3</td>\n",
       "      <td>Mrs</td>\n",
       "      <td>1</td>\n",
       "      <td>Wilkes</td>\n",
       "      <td>1</td>\n",
       "      <td>3.0</td>\n",
       "      <td>1</td>\n",
       "      <td>1</td>\n",
       "      <td>6</td>\n",
       "    </tr>\n",
       "    <tr>\n",
       "      <th>894</th>\n",
       "      <td>NaN</td>\n",
       "      <td>2</td>\n",
       "      <td>Myles, Mr. Thomas Francis</td>\n",
       "      <td>1</td>\n",
       "      <td>62.0</td>\n",
       "      <td>240276</td>\n",
       "      <td>9.6875</td>\n",
       "      <td>X</td>\n",
       "      <td>3</td>\n",
       "      <td>1</td>\n",
       "      <td>...</td>\n",
       "      <td>1.0</td>\n",
       "      <td>3</td>\n",
       "      <td>Mr</td>\n",
       "      <td>2</td>\n",
       "      <td>Myles</td>\n",
       "      <td>1</td>\n",
       "      <td>4.0</td>\n",
       "      <td>1</td>\n",
       "      <td>1</td>\n",
       "      <td>6</td>\n",
       "    </tr>\n",
       "    <tr>\n",
       "      <th>895</th>\n",
       "      <td>NaN</td>\n",
       "      <td>3</td>\n",
       "      <td>Wirz, Mr. Albert</td>\n",
       "      <td>1</td>\n",
       "      <td>27.0</td>\n",
       "      <td>315154</td>\n",
       "      <td>8.6625</td>\n",
       "      <td>X</td>\n",
       "      <td>2</td>\n",
       "      <td>1</td>\n",
       "      <td>...</td>\n",
       "      <td>1.0</td>\n",
       "      <td>3</td>\n",
       "      <td>Mr</td>\n",
       "      <td>2</td>\n",
       "      <td>Wirz</td>\n",
       "      <td>1</td>\n",
       "      <td>2.0</td>\n",
       "      <td>1</td>\n",
       "      <td>1</td>\n",
       "      <td>6</td>\n",
       "    </tr>\n",
       "    <tr>\n",
       "      <th>896</th>\n",
       "      <td>NaN</td>\n",
       "      <td>3</td>\n",
       "      <td>Hirvonen, Mrs. Alexander (Helga E Lindqvist)</td>\n",
       "      <td>0</td>\n",
       "      <td>22.0</td>\n",
       "      <td>3101298</td>\n",
       "      <td>12.2875</td>\n",
       "      <td>X</td>\n",
       "      <td>2</td>\n",
       "      <td>3</td>\n",
       "      <td>...</td>\n",
       "      <td>3.0</td>\n",
       "      <td>3</td>\n",
       "      <td>Mrs</td>\n",
       "      <td>1</td>\n",
       "      <td>Hirvonen</td>\n",
       "      <td>2</td>\n",
       "      <td>2.0</td>\n",
       "      <td>1</td>\n",
       "      <td>2</td>\n",
       "      <td>7</td>\n",
       "    </tr>\n",
       "    <tr>\n",
       "      <th>...</th>\n",
       "      <td>...</td>\n",
       "      <td>...</td>\n",
       "      <td>...</td>\n",
       "      <td>...</td>\n",
       "      <td>...</td>\n",
       "      <td>...</td>\n",
       "      <td>...</td>\n",
       "      <td>...</td>\n",
       "      <td>...</td>\n",
       "      <td>...</td>\n",
       "      <td>...</td>\n",
       "      <td>...</td>\n",
       "      <td>...</td>\n",
       "      <td>...</td>\n",
       "      <td>...</td>\n",
       "      <td>...</td>\n",
       "      <td>...</td>\n",
       "      <td>...</td>\n",
       "      <td>...</td>\n",
       "      <td>...</td>\n",
       "      <td>...</td>\n",
       "    </tr>\n",
       "    <tr>\n",
       "      <th>1305</th>\n",
       "      <td>NaN</td>\n",
       "      <td>3</td>\n",
       "      <td>Spector, Mr. Woolf</td>\n",
       "      <td>1</td>\n",
       "      <td>28.0</td>\n",
       "      <td>A53236</td>\n",
       "      <td>8.0500</td>\n",
       "      <td>X</td>\n",
       "      <td>2</td>\n",
       "      <td>1</td>\n",
       "      <td>...</td>\n",
       "      <td>1.0</td>\n",
       "      <td>3</td>\n",
       "      <td>Mr</td>\n",
       "      <td>2</td>\n",
       "      <td>Spector</td>\n",
       "      <td>1</td>\n",
       "      <td>2.0</td>\n",
       "      <td>1</td>\n",
       "      <td>1</td>\n",
       "      <td>6</td>\n",
       "    </tr>\n",
       "    <tr>\n",
       "      <th>1306</th>\n",
       "      <td>NaN</td>\n",
       "      <td>1</td>\n",
       "      <td>Oliva y Ocana, Dona. Fermina</td>\n",
       "      <td>0</td>\n",
       "      <td>39.0</td>\n",
       "      <td>PC17758</td>\n",
       "      <td>108.9000</td>\n",
       "      <td>M</td>\n",
       "      <td>1</td>\n",
       "      <td>1</td>\n",
       "      <td>...</td>\n",
       "      <td>1.0</td>\n",
       "      <td>1</td>\n",
       "      <td>Dona</td>\n",
       "      <td>4</td>\n",
       "      <td>Oliva</td>\n",
       "      <td>1</td>\n",
       "      <td>2.0</td>\n",
       "      <td>4</td>\n",
       "      <td>3</td>\n",
       "      <td>7</td>\n",
       "    </tr>\n",
       "    <tr>\n",
       "      <th>1307</th>\n",
       "      <td>NaN</td>\n",
       "      <td>3</td>\n",
       "      <td>Saether, Mr. Simon Sivertsen</td>\n",
       "      <td>1</td>\n",
       "      <td>38.5</td>\n",
       "      <td>SOTONOQ3101262</td>\n",
       "      <td>7.2500</td>\n",
       "      <td>X</td>\n",
       "      <td>2</td>\n",
       "      <td>1</td>\n",
       "      <td>...</td>\n",
       "      <td>1.0</td>\n",
       "      <td>3</td>\n",
       "      <td>Mr</td>\n",
       "      <td>2</td>\n",
       "      <td>Saether</td>\n",
       "      <td>1</td>\n",
       "      <td>2.0</td>\n",
       "      <td>1</td>\n",
       "      <td>1</td>\n",
       "      <td>14</td>\n",
       "    </tr>\n",
       "    <tr>\n",
       "      <th>1308</th>\n",
       "      <td>NaN</td>\n",
       "      <td>3</td>\n",
       "      <td>Ware, Mr. Frederick</td>\n",
       "      <td>1</td>\n",
       "      <td>28.0</td>\n",
       "      <td>359309</td>\n",
       "      <td>8.0500</td>\n",
       "      <td>X</td>\n",
       "      <td>2</td>\n",
       "      <td>1</td>\n",
       "      <td>...</td>\n",
       "      <td>1.0</td>\n",
       "      <td>3</td>\n",
       "      <td>Mr</td>\n",
       "      <td>2</td>\n",
       "      <td>Ware</td>\n",
       "      <td>4</td>\n",
       "      <td>2.0</td>\n",
       "      <td>1</td>\n",
       "      <td>1</td>\n",
       "      <td>6</td>\n",
       "    </tr>\n",
       "    <tr>\n",
       "      <th>1309</th>\n",
       "      <td>NaN</td>\n",
       "      <td>3</td>\n",
       "      <td>Peter, Master. Michael J</td>\n",
       "      <td>1</td>\n",
       "      <td>28.0</td>\n",
       "      <td>2668</td>\n",
       "      <td>22.3583</td>\n",
       "      <td>X</td>\n",
       "      <td>1</td>\n",
       "      <td>3</td>\n",
       "      <td>...</td>\n",
       "      <td>3.0</td>\n",
       "      <td>3</td>\n",
       "      <td>Master</td>\n",
       "      <td>1</td>\n",
       "      <td>Peter</td>\n",
       "      <td>3</td>\n",
       "      <td>2.0</td>\n",
       "      <td>3</td>\n",
       "      <td>3</td>\n",
       "      <td>4</td>\n",
       "    </tr>\n",
       "  </tbody>\n",
       "</table>\n",
       "<p>418 rows × 21 columns</p>\n",
       "</div>"
      ],
      "text/plain": [
       "             Survived  Pclass                                          Name  \\\n",
       "PassengerId                                                                   \n",
       "892               NaN       3                              Kelly, Mr. James   \n",
       "893               NaN       3              Wilkes, Mrs. James (Ellen Needs)   \n",
       "894               NaN       2                     Myles, Mr. Thomas Francis   \n",
       "895               NaN       3                              Wirz, Mr. Albert   \n",
       "896               NaN       3  Hirvonen, Mrs. Alexander (Helga E Lindqvist)   \n",
       "...               ...     ...                                           ...   \n",
       "1305              NaN       3                            Spector, Mr. Woolf   \n",
       "1306              NaN       1                  Oliva y Ocana, Dona. Fermina   \n",
       "1307              NaN       3                  Saether, Mr. Simon Sivertsen   \n",
       "1308              NaN       3                           Ware, Mr. Frederick   \n",
       "1309              NaN       3                      Peter, Master. Michael J   \n",
       "\n",
       "             Sex   Age          Ticket      Fare Cabin  Embarked  Family  ...  \\\n",
       "PassengerId                                                               ...   \n",
       "892            1  34.5          330911    7.8292     X         3       1  ...   \n",
       "893            0  47.0          363272    7.0000     X         2       2  ...   \n",
       "894            1  62.0          240276    9.6875     X         3       1  ...   \n",
       "895            1  27.0          315154    8.6625     X         2       1  ...   \n",
       "896            0  22.0         3101298   12.2875     X         2       3  ...   \n",
       "...          ...   ...             ...       ...   ...       ...     ...  ...   \n",
       "1305           1  28.0          A53236    8.0500     X         2       1  ...   \n",
       "1306           0  39.0         PC17758  108.9000     M         1       1  ...   \n",
       "1307           1  38.5  SOTONOQ3101262    7.2500     X         2       1  ...   \n",
       "1308           1  28.0          359309    8.0500     X         2       1  ...   \n",
       "1309           1  28.0            2668   22.3583     X         1       3  ...   \n",
       "\n",
       "             FamilyGroup  CabinGroup    Title TitleGroup   Surname  \\\n",
       "PassengerId                                                          \n",
       "892                  1.0           3       Mr          2     Kelly   \n",
       "893                  2.0           3      Mrs          1    Wilkes   \n",
       "894                  1.0           3       Mr          2     Myles   \n",
       "895                  1.0           3       Mr          2      Wirz   \n",
       "896                  3.0           3      Mrs          1  Hirvonen   \n",
       "...                  ...         ...      ...        ...       ...   \n",
       "1305                 1.0           3       Mr          2   Spector   \n",
       "1306                 1.0           1     Dona          4     Oliva   \n",
       "1307                 1.0           3       Mr          2   Saether   \n",
       "1308                 1.0           3       Mr          2      Ware   \n",
       "1309                 3.0           3   Master          1     Peter   \n",
       "\n",
       "            SharedSurname  AgeGroup  FareGroup  SharedTicketCount  \\\n",
       "PassengerId                                                         \n",
       "892                     5       2.0          1                  1   \n",
       "893                     1       3.0          1                  1   \n",
       "894                     1       4.0          1                  1   \n",
       "895                     1       2.0          1                  1   \n",
       "896                     2       2.0          1                  2   \n",
       "...                   ...       ...        ...                ...   \n",
       "1305                    1       2.0          1                  1   \n",
       "1306                    1       2.0          4                  3   \n",
       "1307                    1       2.0          1                  1   \n",
       "1308                    4       2.0          1                  1   \n",
       "1309                    3       2.0          3                  3   \n",
       "\n",
       "             TicketLength  \n",
       "PassengerId                \n",
       "892                     6  \n",
       "893                     6  \n",
       "894                     6  \n",
       "895                     6  \n",
       "896                     7  \n",
       "...                   ...  \n",
       "1305                    6  \n",
       "1306                    7  \n",
       "1307                   14  \n",
       "1308                    6  \n",
       "1309                    4  \n",
       "\n",
       "[418 rows x 21 columns]"
      ]
     },
     "execution_count": 35,
     "metadata": {},
     "output_type": "execute_result"
    }
   ],
   "source": [
    "def Tickets(data1, data2):\n",
    "    data = combine(data1,data2)\n",
    "    #Creating a new column to display the freq of the tickets present\n",
    "    data['SharedTicketCount'] = data.groupby('Ticket')[['Fare']].transform('count').astype(int)\n",
    "    #Removing any characters other than alphabets and numbers to count the ticket length\n",
    "    data['Ticket'] = data['Ticket'].str.replace('.','').str.replace('/','').str.replace(' ','')\n",
    "    data['TicketLength'] = data['Ticket'].apply(lambda x: len(str(x)))\n",
    "    traindf, testdf    = saperate(data)\n",
    "    return traindf, testdf\n",
    "traindf, testdf = Tickets(traindf, testdf)\n",
    "testdf"
   ]
  },
  {
   "cell_type": "code",
   "execution_count": 36,
   "metadata": {
    "execution": {
     "iopub.execute_input": "2022-08-17T10:08:51.853265Z",
     "iopub.status.busy": "2022-08-17T10:08:51.852496Z",
     "iopub.status.idle": "2022-08-17T10:08:51.886265Z",
     "shell.execute_reply": "2022-08-17T10:08:51.884962Z",
     "shell.execute_reply.started": "2022-08-17T10:08:51.853209Z"
    }
   },
   "outputs": [
    {
     "data": {
      "text/html": [
       "<div>\n",
       "<style scoped>\n",
       "    .dataframe tbody tr th:only-of-type {\n",
       "        vertical-align: middle;\n",
       "    }\n",
       "\n",
       "    .dataframe tbody tr th {\n",
       "        vertical-align: top;\n",
       "    }\n",
       "\n",
       "    .dataframe thead th {\n",
       "        text-align: right;\n",
       "    }\n",
       "</style>\n",
       "<table border=\"1\" class=\"dataframe\">\n",
       "  <thead>\n",
       "    <tr style=\"text-align: right;\">\n",
       "      <th></th>\n",
       "      <th>Survived</th>\n",
       "      <th>Pclass</th>\n",
       "      <th>Name</th>\n",
       "      <th>Sex</th>\n",
       "      <th>Age</th>\n",
       "      <th>Ticket</th>\n",
       "      <th>Fare</th>\n",
       "      <th>Cabin</th>\n",
       "      <th>Embarked</th>\n",
       "      <th>Family</th>\n",
       "      <th>...</th>\n",
       "      <th>FamilyGroup</th>\n",
       "      <th>CabinGroup</th>\n",
       "      <th>Title</th>\n",
       "      <th>TitleGroup</th>\n",
       "      <th>Surname</th>\n",
       "      <th>SharedSurname</th>\n",
       "      <th>AgeGroup</th>\n",
       "      <th>FareGroup</th>\n",
       "      <th>SharedTicketCount</th>\n",
       "      <th>TicketLength</th>\n",
       "    </tr>\n",
       "    <tr>\n",
       "      <th>PassengerId</th>\n",
       "      <th></th>\n",
       "      <th></th>\n",
       "      <th></th>\n",
       "      <th></th>\n",
       "      <th></th>\n",
       "      <th></th>\n",
       "      <th></th>\n",
       "      <th></th>\n",
       "      <th></th>\n",
       "      <th></th>\n",
       "      <th></th>\n",
       "      <th></th>\n",
       "      <th></th>\n",
       "      <th></th>\n",
       "      <th></th>\n",
       "      <th></th>\n",
       "      <th></th>\n",
       "      <th></th>\n",
       "      <th></th>\n",
       "      <th></th>\n",
       "      <th></th>\n",
       "    </tr>\n",
       "  </thead>\n",
       "  <tbody>\n",
       "    <tr>\n",
       "      <th>892</th>\n",
       "      <td>NaN</td>\n",
       "      <td>3</td>\n",
       "      <td>Kelly, Mr. James</td>\n",
       "      <td>1</td>\n",
       "      <td>34.5</td>\n",
       "      <td>330911</td>\n",
       "      <td>7.8292</td>\n",
       "      <td>X</td>\n",
       "      <td>3</td>\n",
       "      <td>1</td>\n",
       "      <td>...</td>\n",
       "      <td>1.0</td>\n",
       "      <td>3</td>\n",
       "      <td>Mr</td>\n",
       "      <td>2</td>\n",
       "      <td>Kelly</td>\n",
       "      <td>5</td>\n",
       "      <td>2.0</td>\n",
       "      <td>1</td>\n",
       "      <td>1</td>\n",
       "      <td>6</td>\n",
       "    </tr>\n",
       "    <tr>\n",
       "      <th>893</th>\n",
       "      <td>NaN</td>\n",
       "      <td>3</td>\n",
       "      <td>Wilkes, Mrs. James (Ellen Needs)</td>\n",
       "      <td>0</td>\n",
       "      <td>47.0</td>\n",
       "      <td>363272</td>\n",
       "      <td>7.0000</td>\n",
       "      <td>X</td>\n",
       "      <td>2</td>\n",
       "      <td>2</td>\n",
       "      <td>...</td>\n",
       "      <td>2.0</td>\n",
       "      <td>3</td>\n",
       "      <td>Mrs</td>\n",
       "      <td>1</td>\n",
       "      <td>Wilkes</td>\n",
       "      <td>1</td>\n",
       "      <td>3.0</td>\n",
       "      <td>1</td>\n",
       "      <td>1</td>\n",
       "      <td>6</td>\n",
       "    </tr>\n",
       "    <tr>\n",
       "      <th>894</th>\n",
       "      <td>NaN</td>\n",
       "      <td>2</td>\n",
       "      <td>Myles, Mr. Thomas Francis</td>\n",
       "      <td>1</td>\n",
       "      <td>62.0</td>\n",
       "      <td>240276</td>\n",
       "      <td>9.6875</td>\n",
       "      <td>X</td>\n",
       "      <td>3</td>\n",
       "      <td>1</td>\n",
       "      <td>...</td>\n",
       "      <td>1.0</td>\n",
       "      <td>3</td>\n",
       "      <td>Mr</td>\n",
       "      <td>2</td>\n",
       "      <td>Myles</td>\n",
       "      <td>1</td>\n",
       "      <td>4.0</td>\n",
       "      <td>1</td>\n",
       "      <td>1</td>\n",
       "      <td>6</td>\n",
       "    </tr>\n",
       "    <tr>\n",
       "      <th>895</th>\n",
       "      <td>NaN</td>\n",
       "      <td>3</td>\n",
       "      <td>Wirz, Mr. Albert</td>\n",
       "      <td>1</td>\n",
       "      <td>27.0</td>\n",
       "      <td>315154</td>\n",
       "      <td>8.6625</td>\n",
       "      <td>X</td>\n",
       "      <td>2</td>\n",
       "      <td>1</td>\n",
       "      <td>...</td>\n",
       "      <td>1.0</td>\n",
       "      <td>3</td>\n",
       "      <td>Mr</td>\n",
       "      <td>2</td>\n",
       "      <td>Wirz</td>\n",
       "      <td>1</td>\n",
       "      <td>2.0</td>\n",
       "      <td>1</td>\n",
       "      <td>1</td>\n",
       "      <td>6</td>\n",
       "    </tr>\n",
       "    <tr>\n",
       "      <th>896</th>\n",
       "      <td>NaN</td>\n",
       "      <td>3</td>\n",
       "      <td>Hirvonen, Mrs. Alexander (Helga E Lindqvist)</td>\n",
       "      <td>0</td>\n",
       "      <td>22.0</td>\n",
       "      <td>3101298</td>\n",
       "      <td>12.2875</td>\n",
       "      <td>X</td>\n",
       "      <td>2</td>\n",
       "      <td>3</td>\n",
       "      <td>...</td>\n",
       "      <td>3.0</td>\n",
       "      <td>3</td>\n",
       "      <td>Mrs</td>\n",
       "      <td>1</td>\n",
       "      <td>Hirvonen</td>\n",
       "      <td>2</td>\n",
       "      <td>2.0</td>\n",
       "      <td>1</td>\n",
       "      <td>2</td>\n",
       "      <td>7</td>\n",
       "    </tr>\n",
       "  </tbody>\n",
       "</table>\n",
       "<p>5 rows × 21 columns</p>\n",
       "</div>"
      ],
      "text/plain": [
       "             Survived  Pclass                                          Name  \\\n",
       "PassengerId                                                                   \n",
       "892               NaN       3                              Kelly, Mr. James   \n",
       "893               NaN       3              Wilkes, Mrs. James (Ellen Needs)   \n",
       "894               NaN       2                     Myles, Mr. Thomas Francis   \n",
       "895               NaN       3                              Wirz, Mr. Albert   \n",
       "896               NaN       3  Hirvonen, Mrs. Alexander (Helga E Lindqvist)   \n",
       "\n",
       "             Sex   Age   Ticket     Fare Cabin  Embarked  Family  ...  \\\n",
       "PassengerId                                                       ...   \n",
       "892            1  34.5   330911   7.8292     X         3       1  ...   \n",
       "893            0  47.0   363272   7.0000     X         2       2  ...   \n",
       "894            1  62.0   240276   9.6875     X         3       1  ...   \n",
       "895            1  27.0   315154   8.6625     X         2       1  ...   \n",
       "896            0  22.0  3101298  12.2875     X         2       3  ...   \n",
       "\n",
       "             FamilyGroup  CabinGroup  Title TitleGroup   Surname  \\\n",
       "PassengerId                                                        \n",
       "892                  1.0           3     Mr          2     Kelly   \n",
       "893                  2.0           3    Mrs          1    Wilkes   \n",
       "894                  1.0           3     Mr          2     Myles   \n",
       "895                  1.0           3     Mr          2      Wirz   \n",
       "896                  3.0           3    Mrs          1  Hirvonen   \n",
       "\n",
       "            SharedSurname  AgeGroup  FareGroup  SharedTicketCount  \\\n",
       "PassengerId                                                         \n",
       "892                     5       2.0          1                  1   \n",
       "893                     1       3.0          1                  1   \n",
       "894                     1       4.0          1                  1   \n",
       "895                     1       2.0          1                  1   \n",
       "896                     2       2.0          1                  2   \n",
       "\n",
       "             TicketLength  \n",
       "PassengerId                \n",
       "892                     6  \n",
       "893                     6  \n",
       "894                     6  \n",
       "895                     6  \n",
       "896                     7  \n",
       "\n",
       "[5 rows x 21 columns]"
      ]
     },
     "execution_count": 36,
     "metadata": {},
     "output_type": "execute_result"
    }
   ],
   "source": [
    "testdf.head()"
   ]
  },
  {
   "cell_type": "code",
   "execution_count": 37,
   "metadata": {
    "_cell_guid": "d5652cb8-1b85-4a43-a88f-44785cd30c1b",
    "_uuid": "895394da3fd216445197a03c416b47029a10fdaa",
    "execution": {
     "iopub.execute_input": "2022-08-17T10:08:51.888708Z",
     "iopub.status.busy": "2022-08-17T10:08:51.888186Z",
     "iopub.status.idle": "2022-08-17T10:08:51.901663Z",
     "shell.execute_reply": "2022-08-17T10:08:51.900580Z",
     "shell.execute_reply.started": "2022-08-17T10:08:51.888657Z"
    }
   },
   "outputs": [
    {
     "data": {
      "text/plain": [
       "Index(['Survived', 'Pclass', 'Name', 'Sex', 'Age', 'Ticket', 'Fare', 'Cabin',\n",
       "       'Embarked', 'Family', 'Alone', 'FamilyGroup', 'CabinGroup', 'Title',\n",
       "       'TitleGroup', 'Surname', 'SharedSurname', 'AgeGroup', 'FareGroup',\n",
       "       'SharedTicketCount', 'TicketLength'],\n",
       "      dtype='object')"
      ]
     },
     "execution_count": 37,
     "metadata": {},
     "output_type": "execute_result"
    }
   ],
   "source": [
    "traindf.columns"
   ]
  },
  {
   "cell_type": "code",
   "execution_count": 38,
   "metadata": {
    "_cell_guid": "ee98425e-2efb-4ab3-a9d6-00838f875339",
    "_uuid": "d5abfb89e988497738dd49cc4d1382681910adb6",
    "execution": {
     "iopub.execute_input": "2022-08-17T10:08:51.903634Z",
     "iopub.status.busy": "2022-08-17T10:08:51.902873Z",
     "iopub.status.idle": "2022-08-17T10:08:51.939222Z",
     "shell.execute_reply": "2022-08-17T10:08:51.938229Z",
     "shell.execute_reply.started": "2022-08-17T10:08:51.903589Z"
    }
   },
   "outputs": [
    {
     "data": {
      "text/html": [
       "<div>\n",
       "<style scoped>\n",
       "    .dataframe tbody tr th:only-of-type {\n",
       "        vertical-align: middle;\n",
       "    }\n",
       "\n",
       "    .dataframe tbody tr th {\n",
       "        vertical-align: top;\n",
       "    }\n",
       "\n",
       "    .dataframe thead th {\n",
       "        text-align: right;\n",
       "    }\n",
       "</style>\n",
       "<table border=\"1\" class=\"dataframe\">\n",
       "  <thead>\n",
       "    <tr style=\"text-align: right;\">\n",
       "      <th></th>\n",
       "      <th>Survived</th>\n",
       "      <th>Pclass</th>\n",
       "      <th>Name</th>\n",
       "      <th>Sex</th>\n",
       "      <th>Age</th>\n",
       "      <th>Ticket</th>\n",
       "      <th>Fare</th>\n",
       "      <th>Cabin</th>\n",
       "      <th>Embarked</th>\n",
       "      <th>Family</th>\n",
       "      <th>...</th>\n",
       "      <th>FamilyGroup</th>\n",
       "      <th>CabinGroup</th>\n",
       "      <th>Title</th>\n",
       "      <th>TitleGroup</th>\n",
       "      <th>Surname</th>\n",
       "      <th>SharedSurname</th>\n",
       "      <th>AgeGroup</th>\n",
       "      <th>FareGroup</th>\n",
       "      <th>SharedTicketCount</th>\n",
       "      <th>TicketLength</th>\n",
       "    </tr>\n",
       "    <tr>\n",
       "      <th>PassengerId</th>\n",
       "      <th></th>\n",
       "      <th></th>\n",
       "      <th></th>\n",
       "      <th></th>\n",
       "      <th></th>\n",
       "      <th></th>\n",
       "      <th></th>\n",
       "      <th></th>\n",
       "      <th></th>\n",
       "      <th></th>\n",
       "      <th></th>\n",
       "      <th></th>\n",
       "      <th></th>\n",
       "      <th></th>\n",
       "      <th></th>\n",
       "      <th></th>\n",
       "      <th></th>\n",
       "      <th></th>\n",
       "      <th></th>\n",
       "      <th></th>\n",
       "      <th></th>\n",
       "    </tr>\n",
       "  </thead>\n",
       "  <tbody>\n",
       "    <tr>\n",
       "      <th>1</th>\n",
       "      <td>0.0</td>\n",
       "      <td>3</td>\n",
       "      <td>Braund, Mr. Owen Harris</td>\n",
       "      <td>1</td>\n",
       "      <td>22.0</td>\n",
       "      <td>A521171</td>\n",
       "      <td>7.2500</td>\n",
       "      <td>X</td>\n",
       "      <td>2</td>\n",
       "      <td>2</td>\n",
       "      <td>...</td>\n",
       "      <td>2.0</td>\n",
       "      <td>3</td>\n",
       "      <td>Mr</td>\n",
       "      <td>2</td>\n",
       "      <td>Braund</td>\n",
       "      <td>2</td>\n",
       "      <td>2.0</td>\n",
       "      <td>1</td>\n",
       "      <td>1</td>\n",
       "      <td>7</td>\n",
       "    </tr>\n",
       "    <tr>\n",
       "      <th>2</th>\n",
       "      <td>1.0</td>\n",
       "      <td>1</td>\n",
       "      <td>Cumings, Mrs. John Bradley (Florence Briggs Th...</td>\n",
       "      <td>0</td>\n",
       "      <td>38.0</td>\n",
       "      <td>PC17599</td>\n",
       "      <td>71.2833</td>\n",
       "      <td>M</td>\n",
       "      <td>1</td>\n",
       "      <td>2</td>\n",
       "      <td>...</td>\n",
       "      <td>2.0</td>\n",
       "      <td>1</td>\n",
       "      <td>Mrs</td>\n",
       "      <td>1</td>\n",
       "      <td>Cumings</td>\n",
       "      <td>2</td>\n",
       "      <td>2.0</td>\n",
       "      <td>3</td>\n",
       "      <td>2</td>\n",
       "      <td>7</td>\n",
       "    </tr>\n",
       "    <tr>\n",
       "      <th>3</th>\n",
       "      <td>1.0</td>\n",
       "      <td>3</td>\n",
       "      <td>Heikkinen, Miss. Laina</td>\n",
       "      <td>0</td>\n",
       "      <td>26.0</td>\n",
       "      <td>STONO23101282</td>\n",
       "      <td>7.9250</td>\n",
       "      <td>X</td>\n",
       "      <td>2</td>\n",
       "      <td>1</td>\n",
       "      <td>...</td>\n",
       "      <td>1.0</td>\n",
       "      <td>3</td>\n",
       "      <td>Miss</td>\n",
       "      <td>1</td>\n",
       "      <td>Heikkinen</td>\n",
       "      <td>1</td>\n",
       "      <td>2.0</td>\n",
       "      <td>1</td>\n",
       "      <td>1</td>\n",
       "      <td>13</td>\n",
       "    </tr>\n",
       "    <tr>\n",
       "      <th>4</th>\n",
       "      <td>1.0</td>\n",
       "      <td>1</td>\n",
       "      <td>Futrelle, Mrs. Jacques Heath (Lily May Peel)</td>\n",
       "      <td>0</td>\n",
       "      <td>35.0</td>\n",
       "      <td>113803</td>\n",
       "      <td>53.1000</td>\n",
       "      <td>M</td>\n",
       "      <td>2</td>\n",
       "      <td>2</td>\n",
       "      <td>...</td>\n",
       "      <td>2.0</td>\n",
       "      <td>1</td>\n",
       "      <td>Mrs</td>\n",
       "      <td>1</td>\n",
       "      <td>Futrelle</td>\n",
       "      <td>2</td>\n",
       "      <td>2.0</td>\n",
       "      <td>3</td>\n",
       "      <td>2</td>\n",
       "      <td>6</td>\n",
       "    </tr>\n",
       "    <tr>\n",
       "      <th>5</th>\n",
       "      <td>0.0</td>\n",
       "      <td>3</td>\n",
       "      <td>Allen, Mr. William Henry</td>\n",
       "      <td>1</td>\n",
       "      <td>35.0</td>\n",
       "      <td>373450</td>\n",
       "      <td>8.0500</td>\n",
       "      <td>X</td>\n",
       "      <td>2</td>\n",
       "      <td>1</td>\n",
       "      <td>...</td>\n",
       "      <td>1.0</td>\n",
       "      <td>3</td>\n",
       "      <td>Mr</td>\n",
       "      <td>2</td>\n",
       "      <td>Allen</td>\n",
       "      <td>2</td>\n",
       "      <td>2.0</td>\n",
       "      <td>1</td>\n",
       "      <td>1</td>\n",
       "      <td>6</td>\n",
       "    </tr>\n",
       "  </tbody>\n",
       "</table>\n",
       "<p>5 rows × 21 columns</p>\n",
       "</div>"
      ],
      "text/plain": [
       "             Survived  Pclass  \\\n",
       "PassengerId                     \n",
       "1                 0.0       3   \n",
       "2                 1.0       1   \n",
       "3                 1.0       3   \n",
       "4                 1.0       1   \n",
       "5                 0.0       3   \n",
       "\n",
       "                                                          Name  Sex   Age  \\\n",
       "PassengerId                                                                 \n",
       "1                                      Braund, Mr. Owen Harris    1  22.0   \n",
       "2            Cumings, Mrs. John Bradley (Florence Briggs Th...    0  38.0   \n",
       "3                                       Heikkinen, Miss. Laina    0  26.0   \n",
       "4                 Futrelle, Mrs. Jacques Heath (Lily May Peel)    0  35.0   \n",
       "5                                     Allen, Mr. William Henry    1  35.0   \n",
       "\n",
       "                    Ticket     Fare Cabin  Embarked  Family  ...  FamilyGroup  \\\n",
       "PassengerId                                                  ...                \n",
       "1                  A521171   7.2500     X         2       2  ...          2.0   \n",
       "2                  PC17599  71.2833     M         1       2  ...          2.0   \n",
       "3            STONO23101282   7.9250     X         2       1  ...          1.0   \n",
       "4                   113803  53.1000     M         2       2  ...          2.0   \n",
       "5                   373450   8.0500     X         2       1  ...          1.0   \n",
       "\n",
       "             CabinGroup  Title TitleGroup    Surname SharedSurname  AgeGroup  \\\n",
       "PassengerId                                                                    \n",
       "1                     3     Mr          2     Braund             2       2.0   \n",
       "2                     1    Mrs          1    Cumings             2       2.0   \n",
       "3                     3   Miss          1  Heikkinen             1       2.0   \n",
       "4                     1    Mrs          1   Futrelle             2       2.0   \n",
       "5                     3     Mr          2      Allen             2       2.0   \n",
       "\n",
       "             FareGroup  SharedTicketCount  TicketLength  \n",
       "PassengerId                                              \n",
       "1                    1                  1             7  \n",
       "2                    3                  2             7  \n",
       "3                    1                  1            13  \n",
       "4                    3                  2             6  \n",
       "5                    1                  1             6  \n",
       "\n",
       "[5 rows x 21 columns]"
      ]
     },
     "execution_count": 38,
     "metadata": {},
     "output_type": "execute_result"
    }
   ],
   "source": [
    "traindf.head()"
   ]
  },
  {
   "cell_type": "code",
   "execution_count": 39,
   "metadata": {
    "execution": {
     "iopub.execute_input": "2022-08-17T10:08:51.940902Z",
     "iopub.status.busy": "2022-08-17T10:08:51.940497Z",
     "iopub.status.idle": "2022-08-17T10:08:51.976430Z",
     "shell.execute_reply": "2022-08-17T10:08:51.975097Z",
     "shell.execute_reply.started": "2022-08-17T10:08:51.940863Z"
    }
   },
   "outputs": [
    {
     "data": {
      "text/html": [
       "<div>\n",
       "<style scoped>\n",
       "    .dataframe tbody tr th:only-of-type {\n",
       "        vertical-align: middle;\n",
       "    }\n",
       "\n",
       "    .dataframe tbody tr th {\n",
       "        vertical-align: top;\n",
       "    }\n",
       "\n",
       "    .dataframe thead th {\n",
       "        text-align: right;\n",
       "    }\n",
       "</style>\n",
       "<table border=\"1\" class=\"dataframe\">\n",
       "  <thead>\n",
       "    <tr style=\"text-align: right;\">\n",
       "      <th></th>\n",
       "      <th>Survived</th>\n",
       "      <th>Pclass</th>\n",
       "      <th>Name</th>\n",
       "      <th>Sex</th>\n",
       "      <th>Age</th>\n",
       "      <th>Ticket</th>\n",
       "      <th>Fare</th>\n",
       "      <th>Cabin</th>\n",
       "      <th>Embarked</th>\n",
       "      <th>Family</th>\n",
       "      <th>...</th>\n",
       "      <th>FamilyGroup</th>\n",
       "      <th>CabinGroup</th>\n",
       "      <th>Title</th>\n",
       "      <th>TitleGroup</th>\n",
       "      <th>Surname</th>\n",
       "      <th>SharedSurname</th>\n",
       "      <th>AgeGroup</th>\n",
       "      <th>FareGroup</th>\n",
       "      <th>SharedTicketCount</th>\n",
       "      <th>TicketLength</th>\n",
       "    </tr>\n",
       "    <tr>\n",
       "      <th>PassengerId</th>\n",
       "      <th></th>\n",
       "      <th></th>\n",
       "      <th></th>\n",
       "      <th></th>\n",
       "      <th></th>\n",
       "      <th></th>\n",
       "      <th></th>\n",
       "      <th></th>\n",
       "      <th></th>\n",
       "      <th></th>\n",
       "      <th></th>\n",
       "      <th></th>\n",
       "      <th></th>\n",
       "      <th></th>\n",
       "      <th></th>\n",
       "      <th></th>\n",
       "      <th></th>\n",
       "      <th></th>\n",
       "      <th></th>\n",
       "      <th></th>\n",
       "      <th></th>\n",
       "    </tr>\n",
       "  </thead>\n",
       "  <tbody>\n",
       "    <tr>\n",
       "      <th>892</th>\n",
       "      <td>NaN</td>\n",
       "      <td>3</td>\n",
       "      <td>Kelly, Mr. James</td>\n",
       "      <td>1</td>\n",
       "      <td>34.5</td>\n",
       "      <td>330911</td>\n",
       "      <td>7.8292</td>\n",
       "      <td>X</td>\n",
       "      <td>3</td>\n",
       "      <td>1</td>\n",
       "      <td>...</td>\n",
       "      <td>1.0</td>\n",
       "      <td>3</td>\n",
       "      <td>Mr</td>\n",
       "      <td>2</td>\n",
       "      <td>Kelly</td>\n",
       "      <td>5</td>\n",
       "      <td>2.0</td>\n",
       "      <td>1</td>\n",
       "      <td>1</td>\n",
       "      <td>6</td>\n",
       "    </tr>\n",
       "    <tr>\n",
       "      <th>893</th>\n",
       "      <td>NaN</td>\n",
       "      <td>3</td>\n",
       "      <td>Wilkes, Mrs. James (Ellen Needs)</td>\n",
       "      <td>0</td>\n",
       "      <td>47.0</td>\n",
       "      <td>363272</td>\n",
       "      <td>7.0000</td>\n",
       "      <td>X</td>\n",
       "      <td>2</td>\n",
       "      <td>2</td>\n",
       "      <td>...</td>\n",
       "      <td>2.0</td>\n",
       "      <td>3</td>\n",
       "      <td>Mrs</td>\n",
       "      <td>1</td>\n",
       "      <td>Wilkes</td>\n",
       "      <td>1</td>\n",
       "      <td>3.0</td>\n",
       "      <td>1</td>\n",
       "      <td>1</td>\n",
       "      <td>6</td>\n",
       "    </tr>\n",
       "    <tr>\n",
       "      <th>894</th>\n",
       "      <td>NaN</td>\n",
       "      <td>2</td>\n",
       "      <td>Myles, Mr. Thomas Francis</td>\n",
       "      <td>1</td>\n",
       "      <td>62.0</td>\n",
       "      <td>240276</td>\n",
       "      <td>9.6875</td>\n",
       "      <td>X</td>\n",
       "      <td>3</td>\n",
       "      <td>1</td>\n",
       "      <td>...</td>\n",
       "      <td>1.0</td>\n",
       "      <td>3</td>\n",
       "      <td>Mr</td>\n",
       "      <td>2</td>\n",
       "      <td>Myles</td>\n",
       "      <td>1</td>\n",
       "      <td>4.0</td>\n",
       "      <td>1</td>\n",
       "      <td>1</td>\n",
       "      <td>6</td>\n",
       "    </tr>\n",
       "    <tr>\n",
       "      <th>895</th>\n",
       "      <td>NaN</td>\n",
       "      <td>3</td>\n",
       "      <td>Wirz, Mr. Albert</td>\n",
       "      <td>1</td>\n",
       "      <td>27.0</td>\n",
       "      <td>315154</td>\n",
       "      <td>8.6625</td>\n",
       "      <td>X</td>\n",
       "      <td>2</td>\n",
       "      <td>1</td>\n",
       "      <td>...</td>\n",
       "      <td>1.0</td>\n",
       "      <td>3</td>\n",
       "      <td>Mr</td>\n",
       "      <td>2</td>\n",
       "      <td>Wirz</td>\n",
       "      <td>1</td>\n",
       "      <td>2.0</td>\n",
       "      <td>1</td>\n",
       "      <td>1</td>\n",
       "      <td>6</td>\n",
       "    </tr>\n",
       "    <tr>\n",
       "      <th>896</th>\n",
       "      <td>NaN</td>\n",
       "      <td>3</td>\n",
       "      <td>Hirvonen, Mrs. Alexander (Helga E Lindqvist)</td>\n",
       "      <td>0</td>\n",
       "      <td>22.0</td>\n",
       "      <td>3101298</td>\n",
       "      <td>12.2875</td>\n",
       "      <td>X</td>\n",
       "      <td>2</td>\n",
       "      <td>3</td>\n",
       "      <td>...</td>\n",
       "      <td>3.0</td>\n",
       "      <td>3</td>\n",
       "      <td>Mrs</td>\n",
       "      <td>1</td>\n",
       "      <td>Hirvonen</td>\n",
       "      <td>2</td>\n",
       "      <td>2.0</td>\n",
       "      <td>1</td>\n",
       "      <td>2</td>\n",
       "      <td>7</td>\n",
       "    </tr>\n",
       "  </tbody>\n",
       "</table>\n",
       "<p>5 rows × 21 columns</p>\n",
       "</div>"
      ],
      "text/plain": [
       "             Survived  Pclass                                          Name  \\\n",
       "PassengerId                                                                   \n",
       "892               NaN       3                              Kelly, Mr. James   \n",
       "893               NaN       3              Wilkes, Mrs. James (Ellen Needs)   \n",
       "894               NaN       2                     Myles, Mr. Thomas Francis   \n",
       "895               NaN       3                              Wirz, Mr. Albert   \n",
       "896               NaN       3  Hirvonen, Mrs. Alexander (Helga E Lindqvist)   \n",
       "\n",
       "             Sex   Age   Ticket     Fare Cabin  Embarked  Family  ...  \\\n",
       "PassengerId                                                       ...   \n",
       "892            1  34.5   330911   7.8292     X         3       1  ...   \n",
       "893            0  47.0   363272   7.0000     X         2       2  ...   \n",
       "894            1  62.0   240276   9.6875     X         3       1  ...   \n",
       "895            1  27.0   315154   8.6625     X         2       1  ...   \n",
       "896            0  22.0  3101298  12.2875     X         2       3  ...   \n",
       "\n",
       "             FamilyGroup  CabinGroup  Title TitleGroup   Surname  \\\n",
       "PassengerId                                                        \n",
       "892                  1.0           3     Mr          2     Kelly   \n",
       "893                  2.0           3    Mrs          1    Wilkes   \n",
       "894                  1.0           3     Mr          2     Myles   \n",
       "895                  1.0           3     Mr          2      Wirz   \n",
       "896                  3.0           3    Mrs          1  Hirvonen   \n",
       "\n",
       "            SharedSurname  AgeGroup  FareGroup  SharedTicketCount  \\\n",
       "PassengerId                                                         \n",
       "892                     5       2.0          1                  1   \n",
       "893                     1       3.0          1                  1   \n",
       "894                     1       4.0          1                  1   \n",
       "895                     1       2.0          1                  1   \n",
       "896                     2       2.0          1                  2   \n",
       "\n",
       "             TicketLength  \n",
       "PassengerId                \n",
       "892                     6  \n",
       "893                     6  \n",
       "894                     6  \n",
       "895                     6  \n",
       "896                     7  \n",
       "\n",
       "[5 rows x 21 columns]"
      ]
     },
     "execution_count": 39,
     "metadata": {},
     "output_type": "execute_result"
    }
   ],
   "source": [
    "testdf.head()"
   ]
  },
  {
   "cell_type": "code",
   "execution_count": 40,
   "metadata": {
    "_cell_guid": "ffcb8089-7356-471f-afd0-0c011c203115",
    "_uuid": "e2f39b38588241f431f1a0b6162e6b48735f46bb",
    "execution": {
     "iopub.execute_input": "2022-08-17T10:08:51.978656Z",
     "iopub.status.busy": "2022-08-17T10:08:51.978005Z",
     "iopub.status.idle": "2022-08-17T10:08:51.992675Z",
     "shell.execute_reply": "2022-08-17T10:08:51.991350Z",
     "shell.execute_reply.started": "2022-08-17T10:08:51.978614Z"
    }
   },
   "outputs": [
    {
     "data": {
      "text/plain": [
       "((891, 11), (891,))"
      ]
     },
     "execution_count": 40,
     "metadata": {},
     "output_type": "execute_result"
    }
   ],
   "source": [
    "X = traindf.drop(['Name','Title','Surname','Survived','Cabin','Ticket',\n",
    "                  'Age','Fare','Family','Alone'],axis = 1)\n",
    "y = traindf['Survived']\n",
    "X_test = testdf.drop(['Name','Title','Surname','Survived','Cabin','Ticket',\n",
    "                  'Age','Fare','Family','Alone'],axis = 1)\n",
    "X.shape , y.shape"
   ]
  },
  {
   "cell_type": "code",
   "execution_count": 41,
   "metadata": {
    "_cell_guid": "a3145198-cca2-47a0-9fb9-4388ea43f9ac",
    "_uuid": "0ada422bce0ecc0d95eb97ebc0a27040f575b90b",
    "execution": {
     "iopub.execute_input": "2022-08-17T10:08:51.995122Z",
     "iopub.status.busy": "2022-08-17T10:08:51.994480Z",
     "iopub.status.idle": "2022-08-17T10:08:52.002881Z",
     "shell.execute_reply": "2022-08-17T10:08:52.001912Z",
     "shell.execute_reply.started": "2022-08-17T10:08:51.995071Z"
    }
   },
   "outputs": [
    {
     "data": {
      "text/plain": [
       "Index(['Pclass', 'Sex', 'Embarked', 'FamilyGroup', 'CabinGroup', 'TitleGroup',\n",
       "       'SharedSurname', 'AgeGroup', 'FareGroup', 'SharedTicketCount',\n",
       "       'TicketLength'],\n",
       "      dtype='object')"
      ]
     },
     "execution_count": 41,
     "metadata": {},
     "output_type": "execute_result"
    }
   ],
   "source": [
    "X.columns"
   ]
  },
  {
   "cell_type": "markdown",
   "metadata": {
    "_cell_guid": "16d38501-5ada-4def-9b81-ef04f4fbcb47",
    "_uuid": "32e69f6bfb89fc3f02f25163fc3cbef3d1eea920"
   },
   "source": [
    "# Correlation"
   ]
  },
  {
   "cell_type": "code",
   "execution_count": 42,
   "metadata": {
    "_cell_guid": "23a89cb7-838b-498b-adb6-54f8527dc681",
    "_uuid": "2d8239e43fed361dac1e8ab8049b786cc62a846e",
    "execution": {
     "iopub.execute_input": "2022-08-17T10:08:52.005267Z",
     "iopub.status.busy": "2022-08-17T10:08:52.004538Z",
     "iopub.status.idle": "2022-08-17T10:08:53.543416Z",
     "shell.execute_reply": "2022-08-17T10:08:53.542292Z",
     "shell.execute_reply.started": "2022-08-17T10:08:52.005219Z"
    }
   },
   "outputs": [
    {
     "data": {
      "text/plain": [
       "<AxesSubplot:>"
      ]
     },
     "execution_count": 42,
     "metadata": {},
     "output_type": "execute_result"
    },
    {
     "data": {
      "image/png": "[encoded data removed]",
      "text/plain": [
       "<Figure size 1800x1152 with 2 Axes>"
      ]
     },
     "metadata": {},
     "output_type": "display_data"
    }
   ],
   "source": [
    "f, ax = plt.subplots(figsize = [25,16])\n",
    "sns.heatmap(traindf.corr(),linewidths = .5, annot = True, cmap = 'YlGnBu', square = True)"
   ]
  },
  {
   "cell_type": "markdown",
   "metadata": {
    "_cell_guid": "e90d2011-27fe-46bb-aa8f-a778d2a6f24c",
    "_uuid": "6e3a8e0f975e0ec1b2b39132847d1f7666cf658f"
   },
   "source": [
    "### Since categorical features have been created from the features present in the dataset taking only the categorical for training the models."
   ]
  },
  {
   "cell_type": "code",
   "execution_count": 43,
   "metadata": {
    "_cell_guid": "51880bcd-cc65-4f53-ab45-854460886cf1",
    "_uuid": "40288fbf3c8bbcb654ea88d5ff173d0290cd34a1",
    "execution": {
     "iopub.execute_input": "2022-08-17T10:08:53.545683Z",
     "iopub.status.busy": "2022-08-17T10:08:53.545267Z",
     "iopub.status.idle": "2022-08-17T10:08:53.552393Z",
     "shell.execute_reply": "2022-08-17T10:08:53.551306Z",
     "shell.execute_reply.started": "2022-08-17T10:08:53.545641Z"
    }
   },
   "outputs": [],
   "source": [
    "from sklearn.tree import DecisionTreeClassifier\n",
    "from sklearn.model_selection import train_test_split, KFold, cross_val_score, GridSearchCV\n",
    "from sklearn.ensemble import RandomForestClassifier\n",
    "from sklearn.linear_model import LogisticRegression\n",
    "from sklearn.svm import SVC\n",
    "from sklearn.neighbors import KNeighborsClassifier\n",
    "from sklearn.naive_bayes import GaussianNB\n",
    "import orsvm"
   ]
  },
  {
   "cell_type": "code",
   "execution_count": 44,
   "metadata": {
    "_cell_guid": "aabf1570-7270-45bd-9edf-b8112ed924ec",
    "_uuid": "7e56eff1b183fad9c87ff698c3eece75ef82aca0",
    "execution": {
     "iopub.execute_input": "2022-08-17T10:08:53.554396Z",
     "iopub.status.busy": "2022-08-17T10:08:53.553951Z",
     "iopub.status.idle": "2022-08-17T10:08:53.564991Z",
     "shell.execute_reply": "2022-08-17T10:08:53.564059Z",
     "shell.execute_reply.started": "2022-08-17T10:08:53.554361Z"
    }
   },
   "outputs": [
    {
     "data": {
      "text/plain": [
       "Index(['Pclass', 'Sex', 'Embarked', 'FamilyGroup', 'CabinGroup', 'TitleGroup',\n",
       "       'SharedSurname', 'AgeGroup', 'FareGroup', 'SharedTicketCount',\n",
       "       'TicketLength'],\n",
       "      dtype='object')"
      ]
     },
     "execution_count": 44,
     "metadata": {},
     "output_type": "execute_result"
    }
   ],
   "source": [
    "X.columns"
   ]
  },
  {
   "cell_type": "code",
   "execution_count": 45,
   "metadata": {
    "_cell_guid": "1aa22047-c9e3-4268-a8b8-ae365dbdfddb",
    "_uuid": "5512536b469268f1df14d6e072f64b941fca4878",
    "execution": {
     "iopub.execute_input": "2022-08-17T10:08:53.569043Z",
     "iopub.status.busy": "2022-08-17T10:08:53.568430Z",
     "iopub.status.idle": "2022-08-17T10:08:53.576732Z",
     "shell.execute_reply": "2022-08-17T10:08:53.575458Z",
     "shell.execute_reply.started": "2022-08-17T10:08:53.568984Z"
    }
   },
   "outputs": [],
   "source": [
    "npX = np.array(X).copy()\n",
    "npy = np.array(y).copy()"
   ]
  },
  {
   "cell_type": "markdown",
   "metadata": {
    "_cell_guid": "b76e8000-8689-419a-a7b4-c590267aeb0c",
    "_uuid": "6d3fd9191575827b11457b6f23d141ff21bac326"
   },
   "source": [
    "<h1><center>Models</center></h1>"
   ]
  },
  {
   "cell_type": "code",
   "execution_count": 46,
   "metadata": {
    "_cell_guid": "bf375756-1371-4a08-a4f1-5f2c23707b8f",
    "_uuid": "baad822c33515e144a81ad914283acb609e9d4ef",
    "execution": {
     "iopub.execute_input": "2022-08-17T10:08:53.578850Z",
     "iopub.status.busy": "2022-08-17T10:08:53.578104Z",
     "iopub.status.idle": "2022-08-17T10:08:53.585659Z",
     "shell.execute_reply": "2022-08-17T10:08:53.584751Z",
     "shell.execute_reply.started": "2022-08-17T10:08:53.578815Z"
    }
   },
   "outputs": [],
   "source": [
    "clf_rf = RandomForestClassifier()\n",
    "clf_dt = DecisionTreeClassifier()\n",
    "clf_knn = KNeighborsClassifier()\n",
    "clf_nb = GaussianNB()\n",
    "clf_lr = LogisticRegression()\n",
    "clf_svm = SVC() #RBF"
   ]
  },
  {
   "cell_type": "code",
   "execution_count": 47,
   "metadata": {
    "_cell_guid": "088950f8-46a8-42d8-97ce-ae7b4081a4bb",
    "_uuid": "1e15a23fad517f55d533c6680828de6d309985a6",
    "execution": {
     "iopub.execute_input": "2022-08-17T10:08:53.588128Z",
     "iopub.status.busy": "2022-08-17T10:08:53.587067Z",
     "iopub.status.idle": "2022-08-17T10:08:54.758043Z",
     "shell.execute_reply": "2022-08-17T10:08:54.756908Z",
     "shell.execute_reply.started": "2022-08-17T10:08:53.588093Z"
    }
   },
   "outputs": [],
   "source": [
    "Classifiers = ['RandomForest','DecisionTree','KNN','Naive Bayes','LogisticRegression','SVM']\n",
    "scores = []\n",
    "models = [clf_rf, clf_dt, clf_knn, clf_nb, clf_lr,clf_svm]\n",
    "for model in models:\n",
    "    score = cross_val_score(model, npX, npy, scoring = 'accuracy', cv = 10, n_jobs = -1).mean()\n",
    "    scores.append(score)"
   ]
  },
  {
   "cell_type": "code",
   "execution_count": 48,
   "metadata": {
    "_cell_guid": "fe1d50ab-f19c-45ef-876c-ecd1a67335ea",
    "_uuid": "a992d4cdd19118cd685ca3db733e0d82fe1fd48e",
    "execution": {
     "iopub.execute_input": "2022-08-17T10:08:54.759626Z",
     "iopub.status.busy": "2022-08-17T10:08:54.759246Z",
     "iopub.status.idle": "2022-08-17T10:08:54.767718Z",
     "shell.execute_reply": "2022-08-17T10:08:54.766100Z",
     "shell.execute_reply.started": "2022-08-17T10:08:54.759593Z"
    }
   },
   "outputs": [],
   "source": [
    "mode = pd.DataFrame(scores, index = Classifiers, columns = ['score']).sort_values(by = 'score',\n",
    "             ascending = False)"
   ]
  },
  {
   "cell_type": "code",
   "execution_count": 49,
   "metadata": {
    "_cell_guid": "d607f2f0-e00b-42eb-97dd-aa99e20985ee",
    "_uuid": "20aadb5a406ca1a671b25d383619990dd0d90b86",
    "execution": {
     "iopub.execute_input": "2022-08-17T10:08:54.770976Z",
     "iopub.status.busy": "2022-08-17T10:08:54.769556Z",
     "iopub.status.idle": "2022-08-17T10:08:54.786693Z",
     "shell.execute_reply": "2022-08-17T10:08:54.785171Z",
     "shell.execute_reply.started": "2022-08-17T10:08:54.770918Z"
    }
   },
   "outputs": [
    {
     "data": {
      "text/html": [
       "<div>\n",
       "<style scoped>\n",
       "    .dataframe tbody tr th:only-of-type {\n",
       "        vertical-align: middle;\n",
       "    }\n",
       "\n",
       "    .dataframe tbody tr th {\n",
       "        vertical-align: top;\n",
       "    }\n",
       "\n",
       "    .dataframe thead th {\n",
       "        text-align: right;\n",
       "    }\n",
       "</style>\n",
       "<table border=\"1\" class=\"dataframe\">\n",
       "  <thead>\n",
       "    <tr style=\"text-align: right;\">\n",
       "      <th></th>\n",
       "      <th>score</th>\n",
       "    </tr>\n",
       "  </thead>\n",
       "  <tbody>\n",
       "    <tr>\n",
       "      <th>SVM</th>\n",
       "      <td>0.833895</td>\n",
       "    </tr>\n",
       "    <tr>\n",
       "      <th>RandomForest</th>\n",
       "      <td>0.829401</td>\n",
       "    </tr>\n",
       "    <tr>\n",
       "      <th>LogisticRegression</th>\n",
       "      <td>0.824919</td>\n",
       "    </tr>\n",
       "    <tr>\n",
       "      <th>DecisionTree</th>\n",
       "      <td>0.808077</td>\n",
       "    </tr>\n",
       "    <tr>\n",
       "      <th>KNN</th>\n",
       "      <td>0.799101</td>\n",
       "    </tr>\n",
       "    <tr>\n",
       "      <th>Naive Bayes</th>\n",
       "      <td>0.793508</td>\n",
       "    </tr>\n",
       "  </tbody>\n",
       "</table>\n",
       "</div>"
      ],
      "text/plain": [
       "                       score\n",
       "SVM                 0.833895\n",
       "RandomForest        0.829401\n",
       "LogisticRegression  0.824919\n",
       "DecisionTree        0.808077\n",
       "KNN                 0.799101\n",
       "Naive Bayes         0.793508"
      ]
     },
     "execution_count": 49,
     "metadata": {},
     "output_type": "execute_result"
    }
   ],
   "source": [
    "mode"
   ]
  },
  {
   "cell_type": "code",
   "execution_count": 50,
   "metadata": {
    "execution": {
     "iopub.execute_input": "2022-08-17T10:08:54.788708Z",
     "iopub.status.busy": "2022-08-17T10:08:54.788324Z",
     "iopub.status.idle": "2022-08-17T10:08:54.814241Z",
     "shell.execute_reply": "2022-08-17T10:08:54.813173Z",
     "shell.execute_reply.started": "2022-08-17T10:08:54.788674Z"
    }
   },
   "outputs": [
    {
     "data": {
      "text/plain": [
       "<bound method NDFrame.head of              Survived  Pclass                                          Name  \\\n",
       "PassengerId                                                                   \n",
       "892               NaN       3                              Kelly, Mr. James   \n",
       "893               NaN       3              Wilkes, Mrs. James (Ellen Needs)   \n",
       "894               NaN       2                     Myles, Mr. Thomas Francis   \n",
       "895               NaN       3                              Wirz, Mr. Albert   \n",
       "896               NaN       3  Hirvonen, Mrs. Alexander (Helga E Lindqvist)   \n",
       "...               ...     ...                                           ...   \n",
       "1305              NaN       3                            Spector, Mr. Woolf   \n",
       "1306              NaN       1                  Oliva y Ocana, Dona. Fermina   \n",
       "1307              NaN       3                  Saether, Mr. Simon Sivertsen   \n",
       "1308              NaN       3                           Ware, Mr. Frederick   \n",
       "1309              NaN       3                      Peter, Master. Michael J   \n",
       "\n",
       "             Sex   Age          Ticket      Fare Cabin  Embarked  Family  ...  \\\n",
       "PassengerId                                                               ...   \n",
       "892            1  34.5          330911    7.8292     X         3       1  ...   \n",
       "893            0  47.0          363272    7.0000     X         2       2  ...   \n",
       "894            1  62.0          240276    9.6875     X         3       1  ...   \n",
       "895            1  27.0          315154    8.6625     X         2       1  ...   \n",
       "896            0  22.0         3101298   12.2875     X         2       3  ...   \n",
       "...          ...   ...             ...       ...   ...       ...     ...  ...   \n",
       "1305           1  28.0          A53236    8.0500     X         2       1  ...   \n",
       "1306           0  39.0         PC17758  108.9000     M         1       1  ...   \n",
       "1307           1  38.5  SOTONOQ3101262    7.2500     X         2       1  ...   \n",
       "1308           1  28.0          359309    8.0500     X         2       1  ...   \n",
       "1309           1  28.0            2668   22.3583     X         1       3  ...   \n",
       "\n",
       "             FamilyGroup  CabinGroup    Title TitleGroup   Surname  \\\n",
       "PassengerId                                                          \n",
       "892                  1.0           3       Mr          2     Kelly   \n",
       "893                  2.0           3      Mrs          1    Wilkes   \n",
       "894                  1.0           3       Mr          2     Myles   \n",
       "895                  1.0           3       Mr          2      Wirz   \n",
       "896                  3.0           3      Mrs          1  Hirvonen   \n",
       "...                  ...         ...      ...        ...       ...   \n",
       "1305                 1.0           3       Mr          2   Spector   \n",
       "1306                 1.0           1     Dona          4     Oliva   \n",
       "1307                 1.0           3       Mr          2   Saether   \n",
       "1308                 1.0           3       Mr          2      Ware   \n",
       "1309                 3.0           3   Master          1     Peter   \n",
       "\n",
       "            SharedSurname  AgeGroup  FareGroup  SharedTicketCount  \\\n",
       "PassengerId                                                         \n",
       "892                     5       2.0          1                  1   \n",
       "893                     1       3.0          1                  1   \n",
       "894                     1       4.0          1                  1   \n",
       "895                     1       2.0          1                  1   \n",
       "896                     2       2.0          1                  2   \n",
       "...                   ...       ...        ...                ...   \n",
       "1305                    1       2.0          1                  1   \n",
       "1306                    1       2.0          4                  3   \n",
       "1307                    1       2.0          1                  1   \n",
       "1308                    4       2.0          1                  1   \n",
       "1309                    3       2.0          3                  3   \n",
       "\n",
       "             TicketLength  \n",
       "PassengerId                \n",
       "892                     6  \n",
       "893                     6  \n",
       "894                     6  \n",
       "895                     6  \n",
       "896                     7  \n",
       "...                   ...  \n",
       "1305                    6  \n",
       "1306                    7  \n",
       "1307                   14  \n",
       "1308                    6  \n",
       "1309                    4  \n",
       "\n",
       "[418 rows x 21 columns]>"
      ]
     },
     "execution_count": 50,
     "metadata": {},
     "output_type": "execute_result"
    }
   ],
   "source": [
    "testdf.head"
   ]
  },
  {
   "cell_type": "code",
   "execution_count": 51,
   "metadata": {
    "execution": {
     "iopub.execute_input": "2022-08-17T10:08:54.816304Z",
     "iopub.status.busy": "2022-08-17T10:08:54.815908Z",
     "iopub.status.idle": "2022-08-17T10:08:54.865509Z",
     "shell.execute_reply": "2022-08-17T10:08:54.864308Z",
     "shell.execute_reply.started": "2022-08-17T10:08:54.816268Z"
    }
   },
   "outputs": [],
   "source": [
    "clf_svm = SVC()\n",
    "clf_svm.fit(npX,npy)\n",
    "testdf = testdf.drop(['Name','Title','Surname','Survived','Cabin','Ticket',\n",
    "                  'Age','Fare','Family','Alone'],axis = 1)\n",
    "nptest = np.array(testdf)\n",
    "pred = clf_svm.predict(nptest)\n",
    "int_pred = pred.astype(int)\n",
    "predictions = pd.DataFrame(int_pred, index = testdf.index, columns = ['Survived'])\n",
    "predictions.to_csv('submission.csv')"
   ]
  },
  {
   "cell_type": "markdown",
   "metadata": {},
   "source": [
    "## Fit data-set using Chebyshev Kernel"
   ]
  },
  {
   "cell_type": "code",
   "execution_count": 52,
   "metadata": {},
   "outputs": [],
   "source": [
    "# Create an object from Model class of ORSVM\n",
    "obj=orsvm.Model(kernel=\"Chebyshev\",order=3,T=0.5,form='r')"
   ]
  },
  {
   "cell_type": "code",
   "execution_count": 53,
   "metadata": {},
   "outputs": [
    {
     "name": "stdout",
     "output_type": "stream",
     "text": [
      "********** 17/08/2022 15:20:11 **********\n",
      "** OSVM kernel: Chebyshev\n",
      "** Order: 3\n",
      "** Fractional mode, transition : 0.5\n",
      "** Avegage support vector determiner selected!\n",
      "** sv threshold: 10^ 140\n"
     ]
    }
   ],
   "source": [
    "# fit the model and Capture parameters\n",
    "Weights, SupportVectors, Bias, KernelInstance = obj.ModelFit(npX,npy)"
   ]
  },
  {
   "cell_type": "code",
   "execution_count": 54,
   "metadata": {},
   "outputs": [
    {
     "name": "stdout",
     "output_type": "stream",
     "text": [
      "** Accuracy score: 0.6161616161616161\n",
      "** Classification Report:\n",
      "               precision    recall  f1-score   support\n",
      "\n",
      "         0.0       0.62      1.00      0.76       549\n",
      "         1.0       0.00      0.00      0.00       342\n",
      "\n",
      "    accuracy                           0.62       891\n",
      "   macro avg       0.31      0.50      0.38       891\n",
      "weighted avg       0.38      0.62      0.47       891\n",
      "\n",
      "** Confusion Matrix:\n",
      " [[549   0]\n",
      " [342   0]]\n"
     ]
    },
    {
     "name": "stderr",
     "output_type": "stream",
     "text": [
      "D:\\Users\\Samin\\anaconda3\\lib\\site-packages\\sklearn\\metrics\\_classification.py:1318: UndefinedMetricWarning: Precision and F-score are ill-defined and being set to 0.0 in labels with no predicted samples. Use `zero_division` parameter to control this behavior.\n",
      "  _warn_prf(average, modifier, msg_start, len(result))\n",
      "D:\\Users\\Samin\\anaconda3\\lib\\site-packages\\sklearn\\metrics\\_classification.py:1318: UndefinedMetricWarning: Precision and F-score are ill-defined and being set to 0.0 in labels with no predicted samples. Use `zero_division` parameter to control this behavior.\n",
      "  _warn_prf(average, modifier, msg_start, len(result))\n",
      "D:\\Users\\Samin\\anaconda3\\lib\\site-packages\\sklearn\\metrics\\_classification.py:1318: UndefinedMetricWarning: Precision and F-score are ill-defined and being set to 0.0 in labels with no predicted samples. Use `zero_division` parameter to control this behavior.\n",
      "  _warn_prf(average, modifier, msg_start, len(result))\n"
     ]
    },
    {
     "data": {
      "text/plain": [
       "0.6161616161616161"
      ]
     },
     "execution_count": 54,
     "metadata": {},
     "output_type": "execute_result"
    }
   ],
   "source": [
    "# Model Prediction function\n",
    "obj.ModelPredict(npX,npy,Bias,KernelInstance)"
   ]
  },
  {
   "cell_type": "markdown",
   "metadata": {},
   "source": [
    "## Fit data-set using Legendre Kernel"
   ]
  },
  {
   "cell_type": "code",
   "execution_count": 55,
   "metadata": {},
   "outputs": [],
   "source": [
    "# Create an object from Model class of ORSVM\n",
    "obj=orsvm.Model(kernel=\"Legendre\",order=4,T=0.3)"
   ]
  },
  {
   "cell_type": "code",
   "execution_count": 56,
   "metadata": {},
   "outputs": [
    {
     "name": "stdout",
     "output_type": "stream",
     "text": [
      "********** 17/08/2022 15:21:15 **********\n",
      "** OSVM kernel: Legendre\n",
      "** Order: 4\n",
      "** Fractional mode, transition : 0.3\n",
      "** Avegage support vector determiner selected!\n",
      "** sv threshold: 10^ 110\n"
     ]
    }
   ],
   "source": [
    "# fit the model and Capture parameters\n",
    "Weights, SupportVectors, Bias, KernelInstance = obj.ModelFit(npX,npy)"
   ]
  },
  {
   "cell_type": "code",
   "execution_count": 57,
   "metadata": {},
   "outputs": [
    {
     "name": "stdout",
     "output_type": "stream",
     "text": [
      "** Accuracy score: 0.6161616161616161\n",
      "** Classification Report:\n",
      "               precision    recall  f1-score   support\n",
      "\n",
      "         0.0       0.62      1.00      0.76       549\n",
      "         1.0       0.00      0.00      0.00       342\n",
      "\n",
      "    accuracy                           0.62       891\n",
      "   macro avg       0.31      0.50      0.38       891\n",
      "weighted avg       0.38      0.62      0.47       891\n",
      "\n",
      "** Confusion Matrix:\n",
      " [[549   0]\n",
      " [342   0]]\n"
     ]
    },
    {
     "name": "stderr",
     "output_type": "stream",
     "text": [
      "D:\\Users\\Samin\\anaconda3\\lib\\site-packages\\sklearn\\metrics\\_classification.py:1318: UndefinedMetricWarning: Precision and F-score are ill-defined and being set to 0.0 in labels with no predicted samples. Use `zero_division` parameter to control this behavior.\n",
      "  _warn_prf(average, modifier, msg_start, len(result))\n",
      "D:\\Users\\Samin\\anaconda3\\lib\\site-packages\\sklearn\\metrics\\_classification.py:1318: UndefinedMetricWarning: Precision and F-score are ill-defined and being set to 0.0 in labels with no predicted samples. Use `zero_division` parameter to control this behavior.\n",
      "  _warn_prf(average, modifier, msg_start, len(result))\n",
      "D:\\Users\\Samin\\anaconda3\\lib\\site-packages\\sklearn\\metrics\\_classification.py:1318: UndefinedMetricWarning: Precision and F-score are ill-defined and being set to 0.0 in labels with no predicted samples. Use `zero_division` parameter to control this behavior.\n",
      "  _warn_prf(average, modifier, msg_start, len(result))\n"
     ]
    },
    {
     "data": {
      "text/plain": [
       "0.6161616161616161"
      ]
     },
     "execution_count": 57,
     "metadata": {},
     "output_type": "execute_result"
    }
   ],
   "source": [
    "# Model Prediction function\n",
    "obj.ModelPredict(npX,npy,Bias,KernelInstance)"
   ]
  },
  {
   "cell_type": "markdown",
   "metadata": {},
   "source": [
    "## Fit data-set using Gegenbauer Kernel"
   ]
  },
  {
   "cell_type": "code",
   "execution_count": 58,
   "metadata": {},
   "outputs": [],
   "source": [
    "# Create an object from Model class of ORSVM\n",
    "obj=orsvm.Model(kernel=\"Gegenbauer\",order=4,param1=0.5,T=0.3)\n"
   ]
  },
  {
   "cell_type": "code",
   "execution_count": 59,
   "metadata": {},
   "outputs": [
    {
     "name": "stdout",
     "output_type": "stream",
     "text": [
      "********** 17/08/2022 15:22:46 **********\n",
      "** OSVM kernel: Gegenbauer\n",
      "** Order: 4\n",
      "** Fractional mode, transition : 0.3\n",
      "** Avegage support vector determiner selected!\n",
      "** sv threshold: 10^ 110\n"
     ]
    }
   ],
   "source": [
    "# fit the model and Capture parameters\n",
    "Weights, SupportVectors, Bias, KernelInstance = obj.ModelFit(npX,npy)"
   ]
  },
  {
   "cell_type": "code",
   "execution_count": 60,
   "metadata": {},
   "outputs": [
    {
     "name": "stdout",
     "output_type": "stream",
     "text": [
      "** Accuracy score: 0.6161616161616161\n",
      "** Classification Report:\n",
      "               precision    recall  f1-score   support\n",
      "\n",
      "         0.0       0.62      1.00      0.76       549\n",
      "         1.0       0.00      0.00      0.00       342\n",
      "\n",
      "    accuracy                           0.62       891\n",
      "   macro avg       0.31      0.50      0.38       891\n",
      "weighted avg       0.38      0.62      0.47       891\n",
      "\n",
      "** Confusion Matrix:\n",
      " [[549   0]\n",
      " [342   0]]\n"
     ]
    },
    {
     "name": "stderr",
     "output_type": "stream",
     "text": [
      "D:\\Users\\Samin\\anaconda3\\lib\\site-packages\\sklearn\\metrics\\_classification.py:1318: UndefinedMetricWarning: Precision and F-score are ill-defined and being set to 0.0 in labels with no predicted samples. Use `zero_division` parameter to control this behavior.\n",
      "  _warn_prf(average, modifier, msg_start, len(result))\n",
      "D:\\Users\\Samin\\anaconda3\\lib\\site-packages\\sklearn\\metrics\\_classification.py:1318: UndefinedMetricWarning: Precision and F-score are ill-defined and being set to 0.0 in labels with no predicted samples. Use `zero_division` parameter to control this behavior.\n",
      "  _warn_prf(average, modifier, msg_start, len(result))\n",
      "D:\\Users\\Samin\\anaconda3\\lib\\site-packages\\sklearn\\metrics\\_classification.py:1318: UndefinedMetricWarning: Precision and F-score are ill-defined and being set to 0.0 in labels with no predicted samples. Use `zero_division` parameter to control this behavior.\n",
      "  _warn_prf(average, modifier, msg_start, len(result))\n"
     ]
    },
    {
     "data": {
      "text/plain": [
       "0.6161616161616161"
      ]
     },
     "execution_count": 60,
     "metadata": {},
     "output_type": "execute_result"
    }
   ],
   "source": [
    "# Model Prediction function\n",
    "obj.ModelPredict(npX,npy,Bias,KernelInstance)"
   ]
  },
  {
   "cell_type": "markdown",
   "metadata": {},
   "source": [
    "## Fit data-set using Jacobi Kernel"
   ]
  },
  {
   "cell_type": "code",
   "execution_count": 61,
   "metadata": {},
   "outputs": [],
   "source": [
    "# Create an object from Model class of ORSVM\n",
    "obj=orsvm.Model(kernel=\"Jacobi\",order=3,param1=-0.8,param2=0.2,T=0.8,noise=0.1)"
   ]
  },
  {
   "cell_type": "code",
   "execution_count": 62,
   "metadata": {},
   "outputs": [
    {
     "name": "stdout",
     "output_type": "stream",
     "text": [
      "********** 17/08/2022 15:25:57 **********\n",
      "** OSVM kernel: Jacobi\n",
      "** Order: 3\n",
      "** Fractional mode, transition : 0.8\n",
      "** Avegage support vector determiner selected!\n",
      "** sv threshold: 10^ 110\n"
     ]
    }
   ],
   "source": [
    "# fit the model and Capture parameters\n",
    "Weights, SupportVectors, Bias, KernelInstance = obj.ModelFit(npX,npy)"
   ]
  },
  {
   "cell_type": "code",
   "execution_count": 63,
   "metadata": {},
   "outputs": [
    {
     "name": "stdout",
     "output_type": "stream",
     "text": [
      "** Accuracy score: 0.6161616161616161\n",
      "** Classification Report:\n",
      "               precision    recall  f1-score   support\n",
      "\n",
      "         0.0       0.62      1.00      0.76       549\n",
      "         1.0       0.00      0.00      0.00       342\n",
      "\n",
      "    accuracy                           0.62       891\n",
      "   macro avg       0.31      0.50      0.38       891\n",
      "weighted avg       0.38      0.62      0.47       891\n",
      "\n",
      "** Confusion Matrix:\n",
      " [[549   0]\n",
      " [342   0]]\n"
     ]
    },
    {
     "name": "stderr",
     "output_type": "stream",
     "text": [
      "D:\\Users\\Samin\\anaconda3\\lib\\site-packages\\sklearn\\metrics\\_classification.py:1318: UndefinedMetricWarning: Precision and F-score are ill-defined and being set to 0.0 in labels with no predicted samples. Use `zero_division` parameter to control this behavior.\n",
      "  _warn_prf(average, modifier, msg_start, len(result))\n",
      "D:\\Users\\Samin\\anaconda3\\lib\\site-packages\\sklearn\\metrics\\_classification.py:1318: UndefinedMetricWarning: Precision and F-score are ill-defined and being set to 0.0 in labels with no predicted samples. Use `zero_division` parameter to control this behavior.\n",
      "  _warn_prf(average, modifier, msg_start, len(result))\n",
      "D:\\Users\\Samin\\anaconda3\\lib\\site-packages\\sklearn\\metrics\\_classification.py:1318: UndefinedMetricWarning: Precision and F-score are ill-defined and being set to 0.0 in labels with no predicted samples. Use `zero_division` parameter to control this behavior.\n",
      "  _warn_prf(average, modifier, msg_start, len(result))\n"
     ]
    },
    {
     "data": {
      "text/plain": [
       "0.6161616161616161"
      ]
     },
     "execution_count": 63,
     "metadata": {},
     "output_type": "execute_result"
    }
   ],
   "source": [
    "# Model Prediction function\n",
    "obj.ModelPredict(npX,npy,Bias,KernelInstance)"
   ]
  }
 ],
 "metadata": {
  "kernelspec": {
   "display_name": "Python 3 (ipykernel)",
   "language": "python",
   "name": "python3"
  },
  "language_info": {
   "codemirror_mode": {
    "name": "ipython",
    "version": 3
   },
   "file_extension": ".py",
   "mimetype": "text/x-python",
   "name": "python",
   "nbconvert_exporter": "python",
   "pygments_lexer": "ipython3",
   "version": "3.9.12"
  }
 },
 "nbformat": 4,
 "nbformat_minor": 4
}
