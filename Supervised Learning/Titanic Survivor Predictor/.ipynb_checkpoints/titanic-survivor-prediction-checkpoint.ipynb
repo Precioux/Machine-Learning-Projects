{
 "cells": [
  {
   "cell_type": "code",
   "execution_count": 1,
   "metadata": {
    "_cell_guid": "59c47284-b760-492f-bd5e-3703e203dd8a",
    "_uuid": "cae4742eede6bdac0d4f76de4021d11ef2a2343f",
    "execution": {
     "iopub.execute_input": "2022-08-17T08:30:27.658269Z",
     "iopub.status.busy": "2022-08-17T08:30:27.657435Z",
     "iopub.status.idle": "2022-08-17T08:30:27.672912Z",
     "shell.execute_reply": "2022-08-17T08:30:27.671077Z",
     "shell.execute_reply.started": "2022-08-17T08:30:27.658206Z"
    }
   },
   "outputs": [],
   "source": [
    "import numpy as np\n",
    "import pandas as pd\n",
    "import matplotlib.pyplot as plt\n",
    "%matplotlib inline\n",
    "import seaborn as sns\n",
    "from scipy import stats\n",
    "from scipy.stats import norm\n",
    "import seaborn as sns\n",
    "sns.set(context = 'paper', palette = 'winter_r', style = 'darkgrid', rc= {'figure.facecolor': 'gray',}, font_scale=1.5)"
   ]
  },
  {
   "cell_type": "code",
   "execution_count": 2,
   "metadata": {
    "_cell_guid": "a58bf3ce-f426-49f4-ace0-38e783c50bec",
    "_uuid": "322ec68dde0462823cec68e7e3a8ce5fbaebac3a",
    "execution": {
     "iopub.execute_input": "2022-08-17T08:30:27.711658Z",
     "iopub.status.busy": "2022-08-17T08:30:27.711166Z",
     "iopub.status.idle": "2022-08-17T08:30:27.736845Z",
     "shell.execute_reply": "2022-08-17T08:30:27.733299Z",
     "shell.execute_reply.started": "2022-08-17T08:30:27.711617Z"
    }
   },
   "outputs": [
    {
     "ename": "FileNotFoundError",
     "evalue": "[Errno 2] No such file or directory: '../input/train.csv'",
     "output_type": "error",
     "traceback": [
      "\u001b[1;31m---------------------------------------------------------------------------\u001b[0m",
      "\u001b[1;31mFileNotFoundError\u001b[0m                         Traceback (most recent call last)",
      "Input \u001b[1;32mIn [2]\u001b[0m, in \u001b[0;36m<cell line: 4>\u001b[1;34m()\u001b[0m\n\u001b[0;32m      1\u001b[0m \u001b[38;5;28;01mdef\u001b[39;00m \u001b[38;5;21mReadcsv\u001b[39m(data):\n\u001b[0;32m      2\u001b[0m     \u001b[38;5;28;01mreturn\u001b[39;00m (pd\u001b[38;5;241m.\u001b[39mread_csv(data,index_col \u001b[38;5;241m=\u001b[39m \u001b[38;5;124m'\u001b[39m\u001b[38;5;124mPassengerId\u001b[39m\u001b[38;5;124m'\u001b[39m))\n\u001b[1;32m----> 4\u001b[0m traindf \u001b[38;5;241m=\u001b[39m \u001b[43mReadcsv\u001b[49m\u001b[43m(\u001b[49m\u001b[38;5;124;43m'\u001b[39;49m\u001b[38;5;124;43m../input/train.csv\u001b[39;49m\u001b[38;5;124;43m'\u001b[39;49m\u001b[43m)\u001b[49m\n\u001b[0;32m      5\u001b[0m testdf  \u001b[38;5;241m=\u001b[39m Readcsv(\u001b[38;5;124m'\u001b[39m\u001b[38;5;124m../input/test.csv\u001b[39m\u001b[38;5;124m'\u001b[39m)\n",
      "Input \u001b[1;32mIn [2]\u001b[0m, in \u001b[0;36mReadcsv\u001b[1;34m(data)\u001b[0m\n\u001b[0;32m      1\u001b[0m \u001b[38;5;28;01mdef\u001b[39;00m \u001b[38;5;21mReadcsv\u001b[39m(data):\n\u001b[1;32m----> 2\u001b[0m     \u001b[38;5;28;01mreturn\u001b[39;00m (\u001b[43mpd\u001b[49m\u001b[38;5;241;43m.\u001b[39;49m\u001b[43mread_csv\u001b[49m\u001b[43m(\u001b[49m\u001b[43mdata\u001b[49m\u001b[43m,\u001b[49m\u001b[43mindex_col\u001b[49m\u001b[43m \u001b[49m\u001b[38;5;241;43m=\u001b[39;49m\u001b[43m \u001b[49m\u001b[38;5;124;43m'\u001b[39;49m\u001b[38;5;124;43mPassengerId\u001b[39;49m\u001b[38;5;124;43m'\u001b[39;49m\u001b[43m)\u001b[49m)\n",
      "File \u001b[1;32mD:\\Users\\Samin\\anaconda3\\lib\\site-packages\\pandas\\util\\_decorators.py:311\u001b[0m, in \u001b[0;36mdeprecate_nonkeyword_arguments.<locals>.decorate.<locals>.wrapper\u001b[1;34m(*args, **kwargs)\u001b[0m\n\u001b[0;32m    305\u001b[0m \u001b[38;5;28;01mif\u001b[39;00m \u001b[38;5;28mlen\u001b[39m(args) \u001b[38;5;241m>\u001b[39m num_allow_args:\n\u001b[0;32m    306\u001b[0m     warnings\u001b[38;5;241m.\u001b[39mwarn(\n\u001b[0;32m    307\u001b[0m         msg\u001b[38;5;241m.\u001b[39mformat(arguments\u001b[38;5;241m=\u001b[39marguments),\n\u001b[0;32m    308\u001b[0m         \u001b[38;5;167;01mFutureWarning\u001b[39;00m,\n\u001b[0;32m    309\u001b[0m         stacklevel\u001b[38;5;241m=\u001b[39mstacklevel,\n\u001b[0;32m    310\u001b[0m     )\n\u001b[1;32m--> 311\u001b[0m \u001b[38;5;28;01mreturn\u001b[39;00m func(\u001b[38;5;241m*\u001b[39margs, \u001b[38;5;241m*\u001b[39m\u001b[38;5;241m*\u001b[39mkwargs)\n",
      "File \u001b[1;32mD:\\Users\\Samin\\anaconda3\\lib\\site-packages\\pandas\\io\\parsers\\readers.py:680\u001b[0m, in \u001b[0;36mread_csv\u001b[1;34m(filepath_or_buffer, sep, delimiter, header, names, index_col, usecols, squeeze, prefix, mangle_dupe_cols, dtype, engine, converters, true_values, false_values, skipinitialspace, skiprows, skipfooter, nrows, na_values, keep_default_na, na_filter, verbose, skip_blank_lines, parse_dates, infer_datetime_format, keep_date_col, date_parser, dayfirst, cache_dates, iterator, chunksize, compression, thousands, decimal, lineterminator, quotechar, quoting, doublequote, escapechar, comment, encoding, encoding_errors, dialect, error_bad_lines, warn_bad_lines, on_bad_lines, delim_whitespace, low_memory, memory_map, float_precision, storage_options)\u001b[0m\n\u001b[0;32m    665\u001b[0m kwds_defaults \u001b[38;5;241m=\u001b[39m _refine_defaults_read(\n\u001b[0;32m    666\u001b[0m     dialect,\n\u001b[0;32m    667\u001b[0m     delimiter,\n\u001b[1;32m   (...)\u001b[0m\n\u001b[0;32m    676\u001b[0m     defaults\u001b[38;5;241m=\u001b[39m{\u001b[38;5;124m\"\u001b[39m\u001b[38;5;124mdelimiter\u001b[39m\u001b[38;5;124m\"\u001b[39m: \u001b[38;5;124m\"\u001b[39m\u001b[38;5;124m,\u001b[39m\u001b[38;5;124m\"\u001b[39m},\n\u001b[0;32m    677\u001b[0m )\n\u001b[0;32m    678\u001b[0m kwds\u001b[38;5;241m.\u001b[39mupdate(kwds_defaults)\n\u001b[1;32m--> 680\u001b[0m \u001b[38;5;28;01mreturn\u001b[39;00m \u001b[43m_read\u001b[49m\u001b[43m(\u001b[49m\u001b[43mfilepath_or_buffer\u001b[49m\u001b[43m,\u001b[49m\u001b[43m \u001b[49m\u001b[43mkwds\u001b[49m\u001b[43m)\u001b[49m\n",
      "File \u001b[1;32mD:\\Users\\Samin\\anaconda3\\lib\\site-packages\\pandas\\io\\parsers\\readers.py:575\u001b[0m, in \u001b[0;36m_read\u001b[1;34m(filepath_or_buffer, kwds)\u001b[0m\n\u001b[0;32m    572\u001b[0m _validate_names(kwds\u001b[38;5;241m.\u001b[39mget(\u001b[38;5;124m\"\u001b[39m\u001b[38;5;124mnames\u001b[39m\u001b[38;5;124m\"\u001b[39m, \u001b[38;5;28;01mNone\u001b[39;00m))\n\u001b[0;32m    574\u001b[0m \u001b[38;5;66;03m# Create the parser.\u001b[39;00m\n\u001b[1;32m--> 575\u001b[0m parser \u001b[38;5;241m=\u001b[39m TextFileReader(filepath_or_buffer, \u001b[38;5;241m*\u001b[39m\u001b[38;5;241m*\u001b[39mkwds)\n\u001b[0;32m    577\u001b[0m \u001b[38;5;28;01mif\u001b[39;00m chunksize \u001b[38;5;129;01mor\u001b[39;00m iterator:\n\u001b[0;32m    578\u001b[0m     \u001b[38;5;28;01mreturn\u001b[39;00m parser\n",
      "File \u001b[1;32mD:\\Users\\Samin\\anaconda3\\lib\\site-packages\\pandas\\io\\parsers\\readers.py:933\u001b[0m, in \u001b[0;36mTextFileReader.__init__\u001b[1;34m(self, f, engine, **kwds)\u001b[0m\n\u001b[0;32m    930\u001b[0m     \u001b[38;5;28mself\u001b[39m\u001b[38;5;241m.\u001b[39moptions[\u001b[38;5;124m\"\u001b[39m\u001b[38;5;124mhas_index_names\u001b[39m\u001b[38;5;124m\"\u001b[39m] \u001b[38;5;241m=\u001b[39m kwds[\u001b[38;5;124m\"\u001b[39m\u001b[38;5;124mhas_index_names\u001b[39m\u001b[38;5;124m\"\u001b[39m]\n\u001b[0;32m    932\u001b[0m \u001b[38;5;28mself\u001b[39m\u001b[38;5;241m.\u001b[39mhandles: IOHandles \u001b[38;5;241m|\u001b[39m \u001b[38;5;28;01mNone\u001b[39;00m \u001b[38;5;241m=\u001b[39m \u001b[38;5;28;01mNone\u001b[39;00m\n\u001b[1;32m--> 933\u001b[0m \u001b[38;5;28mself\u001b[39m\u001b[38;5;241m.\u001b[39m_engine \u001b[38;5;241m=\u001b[39m \u001b[38;5;28;43mself\u001b[39;49m\u001b[38;5;241;43m.\u001b[39;49m\u001b[43m_make_engine\u001b[49m\u001b[43m(\u001b[49m\u001b[43mf\u001b[49m\u001b[43m,\u001b[49m\u001b[43m \u001b[49m\u001b[38;5;28;43mself\u001b[39;49m\u001b[38;5;241;43m.\u001b[39;49m\u001b[43mengine\u001b[49m\u001b[43m)\u001b[49m\n",
      "File \u001b[1;32mD:\\Users\\Samin\\anaconda3\\lib\\site-packages\\pandas\\io\\parsers\\readers.py:1217\u001b[0m, in \u001b[0;36mTextFileReader._make_engine\u001b[1;34m(self, f, engine)\u001b[0m\n\u001b[0;32m   1213\u001b[0m     mode \u001b[38;5;241m=\u001b[39m \u001b[38;5;124m\"\u001b[39m\u001b[38;5;124mrb\u001b[39m\u001b[38;5;124m\"\u001b[39m\n\u001b[0;32m   1214\u001b[0m \u001b[38;5;66;03m# error: No overload variant of \"get_handle\" matches argument types\u001b[39;00m\n\u001b[0;32m   1215\u001b[0m \u001b[38;5;66;03m# \"Union[str, PathLike[str], ReadCsvBuffer[bytes], ReadCsvBuffer[str]]\"\u001b[39;00m\n\u001b[0;32m   1216\u001b[0m \u001b[38;5;66;03m# , \"str\", \"bool\", \"Any\", \"Any\", \"Any\", \"Any\", \"Any\"\u001b[39;00m\n\u001b[1;32m-> 1217\u001b[0m \u001b[38;5;28mself\u001b[39m\u001b[38;5;241m.\u001b[39mhandles \u001b[38;5;241m=\u001b[39m \u001b[43mget_handle\u001b[49m\u001b[43m(\u001b[49m\u001b[43m  \u001b[49m\u001b[38;5;66;43;03m# type: ignore[call-overload]\u001b[39;49;00m\n\u001b[0;32m   1218\u001b[0m \u001b[43m    \u001b[49m\u001b[43mf\u001b[49m\u001b[43m,\u001b[49m\n\u001b[0;32m   1219\u001b[0m \u001b[43m    \u001b[49m\u001b[43mmode\u001b[49m\u001b[43m,\u001b[49m\n\u001b[0;32m   1220\u001b[0m \u001b[43m    \u001b[49m\u001b[43mencoding\u001b[49m\u001b[38;5;241;43m=\u001b[39;49m\u001b[38;5;28;43mself\u001b[39;49m\u001b[38;5;241;43m.\u001b[39;49m\u001b[43moptions\u001b[49m\u001b[38;5;241;43m.\u001b[39;49m\u001b[43mget\u001b[49m\u001b[43m(\u001b[49m\u001b[38;5;124;43m\"\u001b[39;49m\u001b[38;5;124;43mencoding\u001b[39;49m\u001b[38;5;124;43m\"\u001b[39;49m\u001b[43m,\u001b[49m\u001b[43m \u001b[49m\u001b[38;5;28;43;01mNone\u001b[39;49;00m\u001b[43m)\u001b[49m\u001b[43m,\u001b[49m\n\u001b[0;32m   1221\u001b[0m \u001b[43m    \u001b[49m\u001b[43mcompression\u001b[49m\u001b[38;5;241;43m=\u001b[39;49m\u001b[38;5;28;43mself\u001b[39;49m\u001b[38;5;241;43m.\u001b[39;49m\u001b[43moptions\u001b[49m\u001b[38;5;241;43m.\u001b[39;49m\u001b[43mget\u001b[49m\u001b[43m(\u001b[49m\u001b[38;5;124;43m\"\u001b[39;49m\u001b[38;5;124;43mcompression\u001b[39;49m\u001b[38;5;124;43m\"\u001b[39;49m\u001b[43m,\u001b[49m\u001b[43m \u001b[49m\u001b[38;5;28;43;01mNone\u001b[39;49;00m\u001b[43m)\u001b[49m\u001b[43m,\u001b[49m\n\u001b[0;32m   1222\u001b[0m \u001b[43m    \u001b[49m\u001b[43mmemory_map\u001b[49m\u001b[38;5;241;43m=\u001b[39;49m\u001b[38;5;28;43mself\u001b[39;49m\u001b[38;5;241;43m.\u001b[39;49m\u001b[43moptions\u001b[49m\u001b[38;5;241;43m.\u001b[39;49m\u001b[43mget\u001b[49m\u001b[43m(\u001b[49m\u001b[38;5;124;43m\"\u001b[39;49m\u001b[38;5;124;43mmemory_map\u001b[39;49m\u001b[38;5;124;43m\"\u001b[39;49m\u001b[43m,\u001b[49m\u001b[43m \u001b[49m\u001b[38;5;28;43;01mFalse\u001b[39;49;00m\u001b[43m)\u001b[49m\u001b[43m,\u001b[49m\n\u001b[0;32m   1223\u001b[0m \u001b[43m    \u001b[49m\u001b[43mis_text\u001b[49m\u001b[38;5;241;43m=\u001b[39;49m\u001b[43mis_text\u001b[49m\u001b[43m,\u001b[49m\n\u001b[0;32m   1224\u001b[0m \u001b[43m    \u001b[49m\u001b[43merrors\u001b[49m\u001b[38;5;241;43m=\u001b[39;49m\u001b[38;5;28;43mself\u001b[39;49m\u001b[38;5;241;43m.\u001b[39;49m\u001b[43moptions\u001b[49m\u001b[38;5;241;43m.\u001b[39;49m\u001b[43mget\u001b[49m\u001b[43m(\u001b[49m\u001b[38;5;124;43m\"\u001b[39;49m\u001b[38;5;124;43mencoding_errors\u001b[39;49m\u001b[38;5;124;43m\"\u001b[39;49m\u001b[43m,\u001b[49m\u001b[43m \u001b[49m\u001b[38;5;124;43m\"\u001b[39;49m\u001b[38;5;124;43mstrict\u001b[39;49m\u001b[38;5;124;43m\"\u001b[39;49m\u001b[43m)\u001b[49m\u001b[43m,\u001b[49m\n\u001b[0;32m   1225\u001b[0m \u001b[43m    \u001b[49m\u001b[43mstorage_options\u001b[49m\u001b[38;5;241;43m=\u001b[39;49m\u001b[38;5;28;43mself\u001b[39;49m\u001b[38;5;241;43m.\u001b[39;49m\u001b[43moptions\u001b[49m\u001b[38;5;241;43m.\u001b[39;49m\u001b[43mget\u001b[49m\u001b[43m(\u001b[49m\u001b[38;5;124;43m\"\u001b[39;49m\u001b[38;5;124;43mstorage_options\u001b[39;49m\u001b[38;5;124;43m\"\u001b[39;49m\u001b[43m,\u001b[49m\u001b[43m \u001b[49m\u001b[38;5;28;43;01mNone\u001b[39;49;00m\u001b[43m)\u001b[49m\u001b[43m,\u001b[49m\n\u001b[0;32m   1226\u001b[0m \u001b[43m\u001b[49m\u001b[43m)\u001b[49m\n\u001b[0;32m   1227\u001b[0m \u001b[38;5;28;01massert\u001b[39;00m \u001b[38;5;28mself\u001b[39m\u001b[38;5;241m.\u001b[39mhandles \u001b[38;5;129;01mis\u001b[39;00m \u001b[38;5;129;01mnot\u001b[39;00m \u001b[38;5;28;01mNone\u001b[39;00m\n\u001b[0;32m   1228\u001b[0m f \u001b[38;5;241m=\u001b[39m \u001b[38;5;28mself\u001b[39m\u001b[38;5;241m.\u001b[39mhandles\u001b[38;5;241m.\u001b[39mhandle\n",
      "File \u001b[1;32mD:\\Users\\Samin\\anaconda3\\lib\\site-packages\\pandas\\io\\common.py:789\u001b[0m, in \u001b[0;36mget_handle\u001b[1;34m(path_or_buf, mode, encoding, compression, memory_map, is_text, errors, storage_options)\u001b[0m\n\u001b[0;32m    784\u001b[0m \u001b[38;5;28;01melif\u001b[39;00m \u001b[38;5;28misinstance\u001b[39m(handle, \u001b[38;5;28mstr\u001b[39m):\n\u001b[0;32m    785\u001b[0m     \u001b[38;5;66;03m# Check whether the filename is to be opened in binary mode.\u001b[39;00m\n\u001b[0;32m    786\u001b[0m     \u001b[38;5;66;03m# Binary mode does not support 'encoding' and 'newline'.\u001b[39;00m\n\u001b[0;32m    787\u001b[0m     \u001b[38;5;28;01mif\u001b[39;00m ioargs\u001b[38;5;241m.\u001b[39mencoding \u001b[38;5;129;01mand\u001b[39;00m \u001b[38;5;124m\"\u001b[39m\u001b[38;5;124mb\u001b[39m\u001b[38;5;124m\"\u001b[39m \u001b[38;5;129;01mnot\u001b[39;00m \u001b[38;5;129;01min\u001b[39;00m ioargs\u001b[38;5;241m.\u001b[39mmode:\n\u001b[0;32m    788\u001b[0m         \u001b[38;5;66;03m# Encoding\u001b[39;00m\n\u001b[1;32m--> 789\u001b[0m         handle \u001b[38;5;241m=\u001b[39m \u001b[38;5;28;43mopen\u001b[39;49m\u001b[43m(\u001b[49m\n\u001b[0;32m    790\u001b[0m \u001b[43m            \u001b[49m\u001b[43mhandle\u001b[49m\u001b[43m,\u001b[49m\n\u001b[0;32m    791\u001b[0m \u001b[43m            \u001b[49m\u001b[43mioargs\u001b[49m\u001b[38;5;241;43m.\u001b[39;49m\u001b[43mmode\u001b[49m\u001b[43m,\u001b[49m\n\u001b[0;32m    792\u001b[0m \u001b[43m            \u001b[49m\u001b[43mencoding\u001b[49m\u001b[38;5;241;43m=\u001b[39;49m\u001b[43mioargs\u001b[49m\u001b[38;5;241;43m.\u001b[39;49m\u001b[43mencoding\u001b[49m\u001b[43m,\u001b[49m\n\u001b[0;32m    793\u001b[0m \u001b[43m            \u001b[49m\u001b[43merrors\u001b[49m\u001b[38;5;241;43m=\u001b[39;49m\u001b[43merrors\u001b[49m\u001b[43m,\u001b[49m\n\u001b[0;32m    794\u001b[0m \u001b[43m            \u001b[49m\u001b[43mnewline\u001b[49m\u001b[38;5;241;43m=\u001b[39;49m\u001b[38;5;124;43m\"\u001b[39;49m\u001b[38;5;124;43m\"\u001b[39;49m\u001b[43m,\u001b[49m\n\u001b[0;32m    795\u001b[0m \u001b[43m        \u001b[49m\u001b[43m)\u001b[49m\n\u001b[0;32m    796\u001b[0m     \u001b[38;5;28;01melse\u001b[39;00m:\n\u001b[0;32m    797\u001b[0m         \u001b[38;5;66;03m# Binary mode\u001b[39;00m\n\u001b[0;32m    798\u001b[0m         handle \u001b[38;5;241m=\u001b[39m \u001b[38;5;28mopen\u001b[39m(handle, ioargs\u001b[38;5;241m.\u001b[39mmode)\n",
      "\u001b[1;31mFileNotFoundError\u001b[0m: [Errno 2] No such file or directory: '../input/train.csv'"
     ]
    }
   ],
   "source": [
    "def Readcsv(data):\n",
    "    return (pd.read_csv(data,index_col = 'PassengerId'))\n",
    "\n",
    "traindf = Readcsv('../input/train.csv')\n",
    "testdf  = Readcsv('../input/test.csv')   "
   ]
  },
  {
   "cell_type": "code",
   "execution_count": null,
   "metadata": {
    "_cell_guid": "6551a8ec-3108-4562-8d18-cd504eb9352c",
    "_uuid": "aad652f3e0e97eb3705a51cdbfd66c9335a621b6",
    "execution": {
     "iopub.execute_input": "2022-08-17T08:30:27.740523Z",
     "iopub.status.busy": "2022-08-17T08:30:27.739563Z",
     "iopub.status.idle": "2022-08-17T08:30:27.750576Z",
     "shell.execute_reply": "2022-08-17T08:30:27.749213Z",
     "shell.execute_reply.started": "2022-08-17T08:30:27.740433Z"
    }
   },
   "outputs": [],
   "source": [
    "traindf.columns, testdf.columns"
   ]
  },
  {
   "cell_type": "markdown",
   "metadata": {
    "_cell_guid": "67b52475-3359-43e0-8e68-b010e5343e89",
    "_uuid": "02f5dda2a2ff45580e51ac640557bb390b0cb85a"
   },
   "source": [
    "# Dataset Explaination\n",
    "\n",
    "**Survived**: Wheather the person Survived or not.\n",
    "\n",
    "**Pclass**: Passanger class indicates the class of that person aboard the ship.\n",
    "\n",
    "**SibSp**: Shows the number of Sibling/Spouces they had.\n",
    "\n",
    "**Parch**: Parch indicates Parents with children\n",
    "\n",
    "**TIcket**: Ticket name/Number.\n",
    "\n",
    "**Fare**: How much the Passenger paid.\n",
    "\n",
    "**Cabin**: Cabin name of that Passenger.\n",
    "\n",
    "**Embarked**: Point of Embarkation where *C* means Cherbourg, *Q* means Queenstown, *S* means Southampton."
   ]
  },
  {
   "cell_type": "code",
   "execution_count": null,
   "metadata": {
    "_cell_guid": "dbd0c09d-5b3a-4b1e-9f65-0ad530432f00",
    "_uuid": "774499b1573cd9a5952fef7e432a508f72348abb",
    "execution": {
     "iopub.execute_input": "2022-08-17T08:30:27.777869Z",
     "iopub.status.busy": "2022-08-17T08:30:27.777207Z",
     "iopub.status.idle": "2022-08-17T08:30:27.803276Z",
     "shell.execute_reply": "2022-08-17T08:30:27.801406Z",
     "shell.execute_reply.started": "2022-08-17T08:30:27.777822Z"
    }
   },
   "outputs": [],
   "source": [
    "traindf.head()"
   ]
  },
  {
   "cell_type": "markdown",
   "metadata": {
    "_cell_guid": "57d516c8-408a-4a68-acc2-e98c593a09e7",
    "_uuid": "4ed817dcfa27725028f88895985f985d487afd8b"
   },
   "source": [
    "## We can differentiate the data into two groups:\n",
    "\n",
    "**Categorical**: From the dataset we can see that *Survived*, *Pclass*, *Sex*, *Embarked* are categorical. Why? they have discrete values such has 0 or 1.\n",
    "\n",
    "**Continuous**: From the dataset we can see that *Age* and *Fare* has a value which can be **measured.**"
   ]
  },
  {
   "cell_type": "code",
   "execution_count": null,
   "metadata": {
    "_cell_guid": "4fe88e99-8ed8-4424-9051-e74875597931",
    "_uuid": "e212fbd68dea74b0124bdcefdbb25d4fd6fc6c1b",
    "execution": {
     "iopub.execute_input": "2022-08-17T08:30:27.807194Z",
     "iopub.status.busy": "2022-08-17T08:30:27.806595Z",
     "iopub.status.idle": "2022-08-17T08:30:27.821238Z",
     "shell.execute_reply": "2022-08-17T08:30:27.819512Z",
     "shell.execute_reply.started": "2022-08-17T08:30:27.807147Z"
    }
   },
   "outputs": [],
   "source": [
    "traindf.isnull().sum()"
   ]
  },
  {
   "cell_type": "markdown",
   "metadata": {
    "_cell_guid": "bd57a192-881b-4662-9c57-c0cd834cbe7d",
    "_uuid": "fdc98eaa45d9d74f6edf9326d3b4d3aba5b69d2c"
   },
   "source": [
    "<h1><center>Exploratory Analysis</center></h1>"
   ]
  },
  {
   "cell_type": "markdown",
   "metadata": {},
   "source": [
    "# Age"
   ]
  },
  {
   "cell_type": "code",
   "execution_count": null,
   "metadata": {
    "_cell_guid": "d3c7fab3-da36-4b60-91c6-00ee92b8a3f0",
    "_uuid": "153efaf44774e052ac1f9aef80f65c750afa71dc",
    "execution": {
     "iopub.execute_input": "2022-08-17T08:30:27.829790Z",
     "iopub.status.busy": "2022-08-17T08:30:27.829323Z",
     "iopub.status.idle": "2022-08-17T08:30:28.342068Z",
     "shell.execute_reply": "2022-08-17T08:30:28.340831Z",
     "shell.execute_reply.started": "2022-08-17T08:30:27.829748Z"
    }
   },
   "outputs": [],
   "source": [
    "plt.figure(figsize = [17,6])\n",
    "a = sns.distplot(traindf['Age'].dropna(),bins = range(0,81,1), rug = True, fit = norm)"
   ]
  },
  {
   "cell_type": "markdown",
   "metadata": {
    "_cell_guid": "4ab7df19-5a58-478b-8ec0-076f9020a786",
    "_uuid": "1df833694c69e6b640ac79fa95dfbd881784e8de"
   },
   "source": [
    "What does the graph tell us? Most of the Passengers aboard the Titanic were in the range of 16~ to 40. The age distribution shows bi-modal curve."
   ]
  },
  {
   "cell_type": "code",
   "execution_count": null,
   "metadata": {
    "_cell_guid": "f86aed8b-ef53-4394-a6fc-282289e4c423",
    "_uuid": "a707f877465173c3e48ba528720b02141000fb38",
    "execution": {
     "iopub.execute_input": "2022-08-17T08:30:28.345933Z",
     "iopub.status.busy": "2022-08-17T08:30:28.345000Z",
     "iopub.status.idle": "2022-08-17T08:30:31.984860Z",
     "shell.execute_reply": "2022-08-17T08:30:31.983349Z",
     "shell.execute_reply.started": "2022-08-17T08:30:28.345894Z"
    }
   },
   "outputs": [],
   "source": [
    "f, ax = plt.subplots(4, 3,figsize=[22,12])\n",
    "#sns.set_palette('Set1', 8, .75)\n",
    "#sns.set_style('whitegrid')\n",
    "#plt.subplot(331)\n",
    "sns.violinplot(x = 'Sex', y = 'Survived', data = traindf,ax = ax[0,0])\n",
    "#sns.despine(offset=10, trim=True)\n",
    "#plt.subplot(332)\n",
    "sns.barplot(x = 'Pclass',y ='Survived',data = traindf,hue = 'Embarked',ax = ax[0,1])\n",
    "#plt.subplot(333)\n",
    "sns.distplot(traindf[traindf['Survived']==1]['Age'].dropna(),norm_hist = True,bins = np.arange(0,81,1),color = 'blue',\n",
    "            ax = ax[0,2])\n",
    "sns.distplot(traindf[traindf['Survived']==0]['Age'].dropna(),norm_hist = True,bins = np.arange(0,81,1), color = 'red',\n",
    "            ax = ax[0,2])\n",
    "#plt.subplot(334)\n",
    "sns.violinplot(x = 'Sex', y = 'Fare', data = traindf,ax = ax[1,0])\n",
    "#plt.subplot(335)\n",
    "sns.barplot(x ='Pclass', y = 'Fare',data = traindf , hue = 'Embarked', ax = ax[1,1])\n",
    "#plt.subplot(336)\n",
    "sns.distplot(traindf[traindf['Survived']==1]['Fare'].dropna(),bins = np.arange(0,580,10),color = 'blue',\n",
    "            ax = ax[1,2])\n",
    "sns.distplot(traindf[traindf['Survived']==0]['Fare'].dropna(),bins = np.arange(0,580,10),color = 'red',\n",
    "            ax = ax[1,2])\n",
    "\n",
    "#plt.subplot(337)\n",
    "sns.violinplot(x = 'Sex', y ='SibSp',data = traindf,ax = ax[2,0])\n",
    "#plt.subplot(338)\n",
    "sns.barplot(x= 'Pclass', y = 'SibSp', data = traindf, hue = 'Embarked', ax = ax[2,1])\n",
    "#plt.subplot(339)\n",
    "sns.regplot(x = 'Fare', y = 'Age', data = traindf, ax = ax[2,2])\n",
    "#plt.subplot(341)\n",
    "sns.violinplot(x = 'Sex', y = 'Parch', data = traindf, ax = ax[3,0])\n",
    "#plt.subplot(342)\n",
    "sns.barplot(x = 'Pclass', y = 'Parch', data = traindf, hue = 'Embarked', ax = ax[3,1])\n",
    "plt.close(12)\n",
    "plt.close(13)\n",
    "plt.close(14)"
   ]
  },
  {
   "cell_type": "markdown",
   "metadata": {
    "_cell_guid": "2f92c492-ff3e-4fa7-a83d-7bfe86d6e260",
    "_uuid": "d2f3e7edf66dafb7c9d74033e199c7d0be2a4b94"
   },
   "source": [
    "# Graph Explaination\n",
    "**1.** Starting from the first graph, we can see that very few males survived as compared to female  and very few females died in comparision to males.\n",
    "\n",
    "**2.** First and second class had the most survival rate than the third class whereas pessangers who boarded from *'S'* had the least survival rate.\n",
    "\n",
    "**3.** The *blue* and *red* distribution shows whether the pessanger survived or not.\n",
    "\n",
    "**4. & 5.** There were many passengers from both category who paid nothing to board the ship particularly from the **third** class \n",
    "\n",
    "**6.** The distribution of Fare with respect to Survival *blue* indicating Survived while *red* indicating dead.\n",
    "\n",
    "**7. & 8.** There were more *female* SibSp(siblings and spouces) as compared to *male* and majority of them were from **First** class from *Q* station followed by **third** class.\n",
    "\n",
    "**9.** Distribution of Fare by Age shows that there were many passengers paying nothing being majority while a few paying more than 500!\n",
    "\n",
    "**10. & 11.** By looking at the graph we can see that it is similar with SibSp to some extent with the only difference that *Parch* is flattened and the bar plot says that *Parch* there were no Passengers from *Q* aboard as *1st* and *2nd* class.\n",
    "\n"
   ]
  },
  {
   "cell_type": "code",
   "execution_count": null,
   "metadata": {
    "_cell_guid": "40e61c28-80e2-43f8-afda-0632a7a500cf",
    "_uuid": "9b2cebae3d6b7837f08095fbb5ea725cd058a672",
    "execution": {
     "iopub.execute_input": "2022-08-17T08:30:31.986940Z",
     "iopub.status.busy": "2022-08-17T08:30:31.986461Z",
     "iopub.status.idle": "2022-08-17T08:30:32.008149Z",
     "shell.execute_reply": "2022-08-17T08:30:32.006761Z",
     "shell.execute_reply.started": "2022-08-17T08:30:31.986897Z"
    }
   },
   "outputs": [],
   "source": [
    "traindf[traindf['Fare']>500]"
   ]
  },
  {
   "cell_type": "markdown",
   "metadata": {
    "_cell_guid": "ed464ac9-08db-4f10-8134-9cc321c3bd19",
    "_uuid": "5d58413df61639f65fc2481cdceac01087a9e6af"
   },
   "source": [
    "We can see that those who paid highest have the same ticket names. we'll investigate this further."
   ]
  },
  {
   "cell_type": "code",
   "execution_count": null,
   "metadata": {
    "_cell_guid": "dfbc3943-f436-43a9-b180-5f5513939ae1",
    "_uuid": "71d261ab35fd6458cd3e571cfc009099e7bef08f",
    "execution": {
     "iopub.execute_input": "2022-08-17T08:30:32.011541Z",
     "iopub.status.busy": "2022-08-17T08:30:32.010941Z",
     "iopub.status.idle": "2022-08-17T08:30:32.016819Z",
     "shell.execute_reply": "2022-08-17T08:30:32.015391Z",
     "shell.execute_reply.started": "2022-08-17T08:30:32.011500Z"
    }
   },
   "outputs": [],
   "source": [
    "def get_isnull(train,test):\n",
    "    return(train.isnull().sum(), test.isnull().sum())    "
   ]
  },
  {
   "cell_type": "code",
   "execution_count": null,
   "metadata": {
    "_cell_guid": "091c7a0c-55eb-4dab-907d-1fadb4d1958b",
    "_uuid": "030f4473663a7e2e13d76ef257da7ae3f4202d2b",
    "execution": {
     "iopub.execute_input": "2022-08-17T08:30:32.018765Z",
     "iopub.status.busy": "2022-08-17T08:30:32.018191Z",
     "iopub.status.idle": "2022-08-17T08:30:32.035561Z",
     "shell.execute_reply": "2022-08-17T08:30:32.034400Z",
     "shell.execute_reply.started": "2022-08-17T08:30:32.018723Z"
    }
   },
   "outputs": [],
   "source": [
    "get_isnull(traindf,testdf)"
   ]
  },
  {
   "cell_type": "markdown",
   "metadata": {
    "_cell_guid": "527a4797-4c5c-4743-8304-dea612c2879c",
    "_uuid": "7aafaf8eb6933484f3e12da2a7bd485c52e284ab"
   },
   "source": [
    "There are alot of missing values present in both the datasets which is not good for our model."
   ]
  },
  {
   "cell_type": "code",
   "execution_count": null,
   "metadata": {
    "_cell_guid": "51b8e834-283b-4d96-a52e-51e21a2219f4",
    "_uuid": "26f290405e01d147f8848a412a9d18b6dda667b6",
    "execution": {
     "iopub.execute_input": "2022-08-17T08:30:32.038450Z",
     "iopub.status.busy": "2022-08-17T08:30:32.037732Z",
     "iopub.status.idle": "2022-08-17T08:30:32.044210Z",
     "shell.execute_reply": "2022-08-17T08:30:32.042852Z",
     "shell.execute_reply.started": "2022-08-17T08:30:32.038401Z"
    }
   },
   "outputs": [],
   "source": [
    "#function for concatation so that we won't have to repeat them again and again in future.\n",
    "def combine(data1,data2):\n",
    "    fulldf = pd.concat([data1,data2])\n",
    "    return fulldf"
   ]
  },
  {
   "cell_type": "code",
   "execution_count": null,
   "metadata": {
    "_cell_guid": "5816fb78-5f9e-4d44-b7ea-abaf5f92438b",
    "_uuid": "8d29b14c48c96c68bf54fb6a12942f02d54efd6c",
    "execution": {
     "iopub.execute_input": "2022-08-17T08:30:32.046293Z",
     "iopub.status.busy": "2022-08-17T08:30:32.045463Z",
     "iopub.status.idle": "2022-08-17T08:30:32.057181Z",
     "shell.execute_reply": "2022-08-17T08:30:32.056195Z",
     "shell.execute_reply.started": "2022-08-17T08:30:32.046256Z"
    }
   },
   "outputs": [],
   "source": [
    "#Function for separation so that we won't have to repeat them again.\n",
    "def saperate(data):\n",
    "    data1 = data.iloc[:len(traindf)]\n",
    "    data2 = data.iloc[len(traindf):]\n",
    "    return data1, data2"
   ]
  },
  {
   "cell_type": "code",
   "execution_count": null,
   "metadata": {
    "_cell_guid": "129137dd-562e-4a87-b39d-4889503dc1b1",
    "_uuid": "7a744578a078dae34269402d1225a617ac0d0c04",
    "execution": {
     "iopub.execute_input": "2022-08-17T08:30:32.059459Z",
     "iopub.status.busy": "2022-08-17T08:30:32.058334Z",
     "iopub.status.idle": "2022-08-17T08:30:32.085912Z",
     "shell.execute_reply": "2022-08-17T08:30:32.084366Z",
     "shell.execute_reply.started": "2022-08-17T08:30:32.059407Z"
    }
   },
   "outputs": [],
   "source": [
    "testdf[testdf['Fare'].isnull()]"
   ]
  },
  {
   "cell_type": "markdown",
   "metadata": {
    "_cell_guid": "95ad7847-a650-4617-8408-cab12a8c58bd",
    "_uuid": "9c67da5254aa6101e86796c5be3c6e24079cc82b"
   },
   "source": [
    "median is used instead of mean so that the value does not sway too much in a direction."
   ]
  },
  {
   "cell_type": "code",
   "execution_count": null,
   "metadata": {
    "_cell_guid": "cc78b088-b32a-4119-99d4-99147ac8d97a",
    "_uuid": "da5c008e3d6c5cba41cc1b5f443e5a29d6a204ad",
    "execution": {
     "iopub.execute_input": "2022-08-17T08:30:32.088639Z",
     "iopub.status.busy": "2022-08-17T08:30:32.087560Z",
     "iopub.status.idle": "2022-08-17T08:30:32.106085Z",
     "shell.execute_reply": "2022-08-17T08:30:32.104910Z",
     "shell.execute_reply.started": "2022-08-17T08:30:32.088591Z"
    }
   },
   "outputs": [],
   "source": [
    "def filling(data1,data2):\n",
    "    data = combine(data1,data2)\n",
    "    data['Embarked'] = data['Embarked'].fillna('C')\n",
    "    data['Age']      = data['Age'].fillna(data['Age'].median())\n",
    "    data['Fare']     = data['Fare'].fillna(data['Fare'].median())\n",
    "    data['Cabin']    = data['Cabin'].fillna('Z')\n",
    "    data['Cabin']    = data['Cabin'].apply(lambda x: str(x)[0])\n",
    "    traindf, testdf    = saperate(data)\n",
    "    return traindf, testdf\n",
    "traindf, testdf = filling(traindf, testdf)\n",
    "#testdf = filling(testdf)\n"
   ]
  },
  {
   "cell_type": "code",
   "execution_count": null,
   "metadata": {
    "_cell_guid": "b41feaeb-4429-4a86-b086-fd9a48cf0aeb",
    "_uuid": "432ba74ee5930803a0e52bc6a6183778878eec54",
    "execution": {
     "iopub.execute_input": "2022-08-17T08:30:32.110988Z",
     "iopub.status.busy": "2022-08-17T08:30:32.110150Z",
     "iopub.status.idle": "2022-08-17T08:30:32.562592Z",
     "shell.execute_reply": "2022-08-17T08:30:32.561754Z",
     "shell.execute_reply.started": "2022-08-17T08:30:32.110944Z"
    }
   },
   "outputs": [],
   "source": [
    "sns.barplot(x= 'Cabin', y = 'Survived', data = traindf ,order = ['A', 'B', 'C', 'D', 'E', 'F', 'G', 'Z', 'T'])"
   ]
  },
  {
   "cell_type": "code",
   "execution_count": null,
   "metadata": {
    "_cell_guid": "d70143ba-1f63-4e38-b82e-beebadf56880",
    "_uuid": "5f25edd11cde92b6644535e9bf8e2affc846e21c",
    "execution": {
     "iopub.execute_input": "2022-08-17T08:30:32.565406Z",
     "iopub.status.busy": "2022-08-17T08:30:32.564537Z",
     "iopub.status.idle": "2022-08-17T08:30:32.581061Z",
     "shell.execute_reply": "2022-08-17T08:30:32.579751Z",
     "shell.execute_reply.started": "2022-08-17T08:30:32.565358Z"
    }
   },
   "outputs": [],
   "source": [
    "def pew(data1, data2):\n",
    "    data = combine(data1,data2)\n",
    "    data['Cabin'] = data['Cabin'].replace(['B', 'D', 'E'], 'H')   #High\n",
    "    data['Cabin'] = data['Cabin'].replace(['F', 'C'], 'M')        #Medium\n",
    "    data['Cabin'] = data['Cabin'].replace(['T', 'G', 'A',], 'L')  #Low\n",
    "    data['Cabin'] = data['Cabin'].replace(['Z'],'X')              #Missing\n",
    "    traindf, testdf    = saperate(data)\n",
    "    return traindf, testdf\n",
    "traindf, testdf = pew(traindf,testdf)\n",
    "#testdf  = pew(testdf)"
   ]
  },
  {
   "cell_type": "markdown",
   "metadata": {
    "_cell_guid": "233cdfab-9f1e-496e-bffb-021b9dc55b19",
    "_uuid": "ac5250f4503f28d7b6be918fb98c53831217a1d6"
   },
   "source": [
    "It's better that we combine both SibSp and Parch as they can be represented as family."
   ]
  },
  {
   "cell_type": "code",
   "execution_count": null,
   "metadata": {
    "_cell_guid": "12c4040c-a4e6-4771-a783-822eaaeafcbf",
    "_uuid": "55a683f13a0b4f6953a53d8b297f0cb4795ee036",
    "execution": {
     "iopub.execute_input": "2022-08-17T08:30:32.583622Z",
     "iopub.status.busy": "2022-08-17T08:30:32.582456Z",
     "iopub.status.idle": "2022-08-17T08:30:32.598708Z",
     "shell.execute_reply": "2022-08-17T08:30:32.597656Z",
     "shell.execute_reply.started": "2022-08-17T08:30:32.583568Z"
    }
   },
   "outputs": [],
   "source": [
    "def family(data1, data2):\n",
    "    data = combine(data1,data2)\n",
    "    data['Family'] = data['SibSp'] + data['Parch'] + 1\n",
    "    data['Alone']  = data['Family'].apply(lambda x: 1 if x == 1 else 0)\n",
    "    data.drop(['SibSp','Parch'],axis = 1, inplace = True)\n",
    "    traindf, testdf    = saperate(data)\n",
    "    return traindf, testdf\n",
    "traindf, testdf = family(traindf, testdf)\n",
    "#testdf  = family(testdf)\n"
   ]
  },
  {
   "cell_type": "code",
   "execution_count": null,
   "metadata": {
    "_cell_guid": "67dfcf3b-672f-45ab-af61-fa0421cfcdc6",
    "_uuid": "bc7bcbf0aabf6ad8fb90d510da7ea5ec46e20d60",
    "execution": {
     "iopub.execute_input": "2022-08-17T08:30:32.601851Z",
     "iopub.status.busy": "2022-08-17T08:30:32.600416Z",
     "iopub.status.idle": "2022-08-17T08:30:34.266781Z",
     "shell.execute_reply": "2022-08-17T08:30:34.265562Z",
     "shell.execute_reply.started": "2022-08-17T08:30:32.601795Z"
    }
   },
   "outputs": [],
   "source": [
    "f,ax = plt.subplots(1,3,figsize=[20,7])\n",
    "sns.barplot(x = 'Alone', y = 'Survived', data = traindf,orient = 'h', ax = ax[0])\n",
    "sns.barplot(x = 'Survived', y = 'Family', data = traindf,orient = 'h', ax = ax[1])\n",
    "sns.factorplot(y = 'Family',data = traindf, kind = 'count', orient = 'h', ax = ax[2])\n",
    "plt.close(2)\n",
    "plt.close(3)"
   ]
  },
  {
   "cell_type": "markdown",
   "metadata": {
    "_cell_guid": "5b4eb2a9-057d-4bfe-84d9-d9cbe1202022",
    "_uuid": "1d618143df99e6068cda76c9cdcef381e6ee1fe1"
   },
   "source": [
    "Most of the Passengers aboard were alone. The Passengers who were alone had a lower survival rate which is also true for Passengers who had more than 4 members with them."
   ]
  },
  {
   "cell_type": "code",
   "execution_count": null,
   "metadata": {
    "_cell_guid": "855303e5-005e-4b21-a826-df0cddc120c6",
    "_uuid": "0d4a2938eebbde0d3a96712d0678f33b2e4d4a01",
    "execution": {
     "iopub.execute_input": "2022-08-17T08:30:34.268238Z",
     "iopub.status.busy": "2022-08-17T08:30:34.267919Z",
     "iopub.status.idle": "2022-08-17T08:30:34.290515Z",
     "shell.execute_reply": "2022-08-17T08:30:34.289345Z",
     "shell.execute_reply.started": "2022-08-17T08:30:34.268208Z"
    }
   },
   "outputs": [],
   "source": [
    "traindf.head()"
   ]
  },
  {
   "cell_type": "code",
   "execution_count": null,
   "metadata": {
    "_cell_guid": "46153b96-d215-4f0a-aba5-edd19563f741",
    "_uuid": "f435e39250c7462b5cf40c5123f3d8056b0b4940",
    "execution": {
     "iopub.execute_input": "2022-08-17T08:30:34.292220Z",
     "iopub.status.busy": "2022-08-17T08:30:34.291850Z",
     "iopub.status.idle": "2022-08-17T08:30:34.310807Z",
     "shell.execute_reply": "2022-08-17T08:30:34.308698Z",
     "shell.execute_reply.started": "2022-08-17T08:30:34.292186Z"
    }
   },
   "outputs": [],
   "source": [
    "def FamilyGroup(data1, data2):\n",
    "    data = combine(data1,data2)\n",
    "    data.loc[data['Family'] > 2, 'FamilyGroup'] = 3\n",
    "    data.loc[data['Family'] == 1, 'FamilyGroup'] = 1\n",
    "    data.loc[data['Family'] == 2, 'FamilyGroup'] = 2\n",
    "    traindf, testdf    = saperate(data)\n",
    "    return traindf, testdf\n",
    "traindf, testdf = FamilyGroup(traindf, testdf)\n",
    "#testdf  = FamilyGroup(testdf) "
   ]
  },
  {
   "cell_type": "code",
   "execution_count": null,
   "metadata": {
    "_cell_guid": "10943ecc-6111-4300-8456-118698705013",
    "_uuid": "4abd2ee815eb1d420a38389b282aac2d2e10104c",
    "execution": {
     "iopub.execute_input": "2022-08-17T08:30:34.313451Z",
     "iopub.status.busy": "2022-08-17T08:30:34.312632Z",
     "iopub.status.idle": "2022-08-17T08:30:34.328217Z",
     "shell.execute_reply": "2022-08-17T08:30:34.327295Z",
     "shell.execute_reply.started": "2022-08-17T08:30:34.313399Z"
    }
   },
   "outputs": [],
   "source": [
    "def mapping(data1, data2):\n",
    "    data = combine(data1,data2)\n",
    "    data['Embarked'] = data['Embarked'].map({'C':1, 'S':2, 'Q':3})\n",
    "    data['Sex']      = data['Sex'].map({'male': 1,'female':0})\n",
    "    data['CabinGroup'] = data['Cabin'].map({'H': 0, 'M': 1, 'L': 2, 'X':3})\n",
    "    traindf, testdf    = saperate(data)\n",
    "    return traindf, testdf\n",
    "traindf, testdf = mapping(traindf, testdf)\n",
    "#testdf  = mapping(testdf)"
   ]
  },
  {
   "cell_type": "code",
   "execution_count": null,
   "metadata": {
    "_cell_guid": "29797129-0af3-4b62-8e1e-6939959f3222",
    "_uuid": "ba22f728b68074756f52dff858c0e476cf3ae04c",
    "execution": {
     "iopub.execute_input": "2022-08-17T08:30:34.332069Z",
     "iopub.status.busy": "2022-08-17T08:30:34.329769Z",
     "iopub.status.idle": "2022-08-17T08:30:34.341315Z",
     "shell.execute_reply": "2022-08-17T08:30:34.340432Z",
     "shell.execute_reply.started": "2022-08-17T08:30:34.332022Z"
    }
   },
   "outputs": [],
   "source": [
    "traindf['CabinGroup'].value_counts()"
   ]
  },
  {
   "cell_type": "code",
   "execution_count": null,
   "metadata": {
    "_cell_guid": "51244a1d-e1e6-46a1-ac72-6a3f30ba29f3",
    "_uuid": "0f8d2b60c3d0927fcdb93d5a1d8ad4e7bce5bd8a",
    "execution": {
     "iopub.execute_input": "2022-08-17T08:30:34.344262Z",
     "iopub.status.busy": "2022-08-17T08:30:34.343366Z",
     "iopub.status.idle": "2022-08-17T08:30:34.365785Z",
     "shell.execute_reply": "2022-08-17T08:30:34.364160Z",
     "shell.execute_reply.started": "2022-08-17T08:30:34.344210Z"
    },
    "scrolled": true
   },
   "outputs": [],
   "source": [
    "traindf.head()"
   ]
  },
  {
   "cell_type": "code",
   "execution_count": null,
   "metadata": {
    "_cell_guid": "9fb45104-778f-4941-acfb-cbabb745e274",
    "_uuid": "86b55bde516379e4c7eb5672be9bb119cb8212f4",
    "execution": {
     "iopub.execute_input": "2022-08-17T08:30:34.368953Z",
     "iopub.status.busy": "2022-08-17T08:30:34.367936Z",
     "iopub.status.idle": "2022-08-17T08:30:34.417506Z",
     "shell.execute_reply": "2022-08-17T08:30:34.416154Z",
     "shell.execute_reply.started": "2022-08-17T08:30:34.368910Z"
    }
   },
   "outputs": [],
   "source": [
    "def Titles(data1, data2):\n",
    "    data = combine(data1,data2)\n",
    "    data['Title'] = data['Name'].apply(lambda x: str(x).split(',')[1].split('.')[0])\n",
    "    data['TitleGroup'] = 0\n",
    "    data['TitleGroup'] = data['Title'].replace(['Mme','Ms','Lady','Sir','Mlle','the Countess',],0,          #High\n",
    "                                            regex = True).replace(['Mrs','Miss','Master',],1,               #Medium\n",
    "                                            regex = True).replace(['Dr','Major','Col','Mr'],2,              #Low\n",
    "                                            regex = True).replace(['Don','Rev','Capt','Jonkheer','Dona'],4, #Least\n",
    "                                            regex = True)\n",
    "    #data['TitleGroup'] = data['TitleGroup'].replace({'male':1,'female':0,'Special':2})\n",
    "    traindf, testdf    = saperate(data)\n",
    "    return traindf, testdf\n",
    "traindf, testdf = Titles(traindf, testdf)\n",
    "#testdf  = Titles(testdf)\n",
    "##['Mrs','Miss','Mme','Ms','Lady','Mlle','Countess','Dona'],'female'\n",
    "##['Sir','Don','Rev','Mr',],'male'\n",
    "##['Col','Dr','Col','Capt','Major','Jonkheer','Master'],'Special'"
   ]
  },
  {
   "cell_type": "code",
   "execution_count": null,
   "metadata": {
    "_cell_guid": "5993872c-66f2-40a7-b2c3-f8cabfd2cb42",
    "_uuid": "d1b10efe3a2cb1e5b74f12600153e96a47792709",
    "execution": {
     "iopub.execute_input": "2022-08-17T08:30:34.419282Z",
     "iopub.status.busy": "2022-08-17T08:30:34.418952Z",
     "iopub.status.idle": "2022-08-17T08:30:34.985963Z",
     "shell.execute_reply": "2022-08-17T08:30:34.984573Z",
     "shell.execute_reply.started": "2022-08-17T08:30:34.419252Z"
    }
   },
   "outputs": [],
   "source": [
    "plt.figure(figsize = [8,5])\n",
    "sns.barplot(x = 'Survived', y = 'Title', data = traindf, palette = 'Blues_d',)"
   ]
  },
  {
   "cell_type": "code",
   "execution_count": null,
   "metadata": {
    "_cell_guid": "f62bdc2b-362c-4cee-8d19-3385d3b1d780",
    "_uuid": "5ddc5c90ab160e99e3d5c8b62aa3539a08d478f3",
    "execution": {
     "iopub.execute_input": "2022-08-17T08:30:34.987993Z",
     "iopub.status.busy": "2022-08-17T08:30:34.987617Z",
     "iopub.status.idle": "2022-08-17T08:30:35.010530Z",
     "shell.execute_reply": "2022-08-17T08:30:35.009412Z",
     "shell.execute_reply.started": "2022-08-17T08:30:34.987958Z"
    }
   },
   "outputs": [],
   "source": [
    "def surname(data1, data2):\n",
    "    data = combine(data1,data2)\n",
    "    data['Surname'] = data['Name'].apply(lambda x: str(x).split(' ')[0].split(',')[0])\n",
    "    Shares = 0\n",
    "    Shares = data.groupby('Surname').apply(lambda x: x.shape[0])\n",
    "    data['SharedSurname'] = data['Surname'].map(Shares)\n",
    "    traindf, testdf    = saperate(data)\n",
    "    return traindf, testdf\n",
    "\n",
    "traindf, testdf = surname(traindf, testdf)\n"
   ]
  },
  {
   "cell_type": "code",
   "execution_count": null,
   "metadata": {
    "_cell_guid": "04d51af1-25a5-4bea-83de-e353fe759f60",
    "_uuid": "125f6d13d65d197bf2add7d203c8d32241fe6170",
    "execution": {
     "iopub.execute_input": "2022-08-17T08:30:35.012323Z",
     "iopub.status.busy": "2022-08-17T08:30:35.011993Z",
     "iopub.status.idle": "2022-08-17T08:30:35.035503Z",
     "shell.execute_reply": "2022-08-17T08:30:35.034658Z",
     "shell.execute_reply.started": "2022-08-17T08:30:35.012292Z"
    }
   },
   "outputs": [],
   "source": [
    "traindf.loc[traindf['Ticket'].str.contains('113803')]"
   ]
  },
  {
   "cell_type": "markdown",
   "metadata": {},
   "source": [
    "### In this part we seprate passengers to different groups based on Age:"
   ]
  },
  {
   "cell_type": "code",
   "execution_count": null,
   "metadata": {
    "_cell_guid": "a99f6cce-717e-41bd-8bf8-b67a48d1bda5",
    "_uuid": "3a07d6a653519afca5cf6b5040d018a0d519b5b0",
    "execution": {
     "iopub.execute_input": "2022-08-17T08:30:35.037290Z",
     "iopub.status.busy": "2022-08-17T08:30:35.036951Z",
     "iopub.status.idle": "2022-08-17T08:30:35.398769Z",
     "shell.execute_reply": "2022-08-17T08:30:35.397358Z",
     "shell.execute_reply.started": "2022-08-17T08:30:35.037259Z"
    }
   },
   "outputs": [],
   "source": [
    "def age_distribution(data1, data2):\n",
    "    data = combine(data1,data2)\n",
    "    data.loc[data['Age'] <= 16, 'AgeGroup'] = 1\n",
    "    data.loc[(data['Age'] > 16) & (data['Age'] <= 40), 'AgeGroup'] = 2\n",
    "    data.loc[(data['Age'] > 40) & (data['Age'] < 60), 'AgeGroup'] = 3\n",
    "    data.loc[(data['Age'] >= 60), 'AgeGroup'] = 4\n",
    "    data['AgeGroup'].astype(int)\n",
    "    traindf, testdf    = saperate(data)\n",
    "    return traindf, testdf\n",
    "\n",
    "traindf, testdf = age_distribution(traindf, testdf)\n",
    "#testdf = age_distribution(testdf)\n",
    "plt.figure(figsize = [17,6])\n",
    "sns.barplot(x = traindf['AgeGroup'], y = traindf['Survived'])#data = traindf,)#ci = 95, orient = 'v')\n",
    "plt.rc('xtick',labelsize = 12)\n"
   ]
  },
  {
   "cell_type": "code",
   "execution_count": null,
   "metadata": {
    "_cell_guid": "f36674de-2436-4e8c-83d4-7f53369d1afd",
    "_uuid": "9b3e68daa523f12a8a7f424f8dc8fb133b858ae9",
    "execution": {
     "iopub.execute_input": "2022-08-17T08:30:35.400449Z",
     "iopub.status.busy": "2022-08-17T08:30:35.400083Z",
     "iopub.status.idle": "2022-08-17T08:30:35.427117Z",
     "shell.execute_reply": "2022-08-17T08:30:35.425973Z",
     "shell.execute_reply.started": "2022-08-17T08:30:35.400417Z"
    }
   },
   "outputs": [],
   "source": [
    "traindf.head(10)"
   ]
  },
  {
   "cell_type": "markdown",
   "metadata": {},
   "source": [
    "### There is much difference for *1st* and *2nd* Embarkation for *1st* and *3rd* Pclass in terms of fare for males and females while the *2nd* class fare is similar in all the Embarkations."
   ]
  },
  {
   "cell_type": "code",
   "execution_count": null,
   "metadata": {
    "_cell_guid": "b5a1b948-3bc6-4bb6-a8c9-9667cfa041dc",
    "_uuid": "f6b84a9185ab8fc168d5069f461690f089e445a4",
    "execution": {
     "iopub.execute_input": "2022-08-17T08:30:35.429394Z",
     "iopub.status.busy": "2022-08-17T08:30:35.428609Z",
     "iopub.status.idle": "2022-08-17T08:30:36.813299Z",
     "shell.execute_reply": "2022-08-17T08:30:36.811897Z",
     "shell.execute_reply.started": "2022-08-17T08:30:35.429354Z"
    }
   },
   "outputs": [],
   "source": [
    "sns.factorplot(x = 'Pclass', y = 'Fare', col = 'Embarked', hue = 'Sex', data = traindf, margin_titles = True)"
   ]
  },
  {
   "cell_type": "markdown",
   "metadata": {
    "_cell_guid": "7837e6bf-6309-42ac-bb7f-161c83d30269",
    "_uuid": "fff1ca35a90e8832cb0ea2143376fe281827d679"
   },
   "source": [
    "### Finding shared names in dataset :"
   ]
  },
  {
   "cell_type": "markdown",
   "metadata": {},
   "source": []
  },
  {
   "cell_type": "code",
   "execution_count": null,
   "metadata": {
    "_cell_guid": "74999ed1-0e54-45e2-94ac-640e84822399",
    "_uuid": "53756f2f52b5e03f4d5d05bb3744e026a50e7426",
    "execution": {
     "iopub.execute_input": "2022-08-17T08:30:36.815307Z",
     "iopub.status.busy": "2022-08-17T08:30:36.814933Z",
     "iopub.status.idle": "2022-08-17T08:30:36.839570Z",
     "shell.execute_reply": "2022-08-17T08:30:36.838396Z",
     "shell.execute_reply.started": "2022-08-17T08:30:36.815271Z"
    }
   },
   "outputs": [],
   "source": [
    "def SharedSurname(data1, data2):\n",
    "    data = combine(data1,data2)\n",
    "    Shares = 0\n",
    "    Shares = data.groupby('Surname').apply(lambda x: x.shape[0])\n",
    "    data['SharedSurname'] = data['Surname'].map(Shares)\n",
    "    traindf, testdf    = saperate(data)\n",
    "    return traindf, testdf\n",
    "\n",
    "traindf, testdf = SharedSurname(traindf, testdf)\n",
    "#testdf  = SharedSurname(testdf)"
   ]
  },
  {
   "cell_type": "code",
   "execution_count": null,
   "metadata": {
    "_cell_guid": "82e8a993-ebd4-4e9a-a9fd-4e67447dc593",
    "_uuid": "5abc461406f9a8f521a5764728449b1460a712c1",
    "execution": {
     "iopub.execute_input": "2022-08-17T08:30:36.841260Z",
     "iopub.status.busy": "2022-08-17T08:30:36.840902Z",
     "iopub.status.idle": "2022-08-17T08:30:36.863207Z",
     "shell.execute_reply": "2022-08-17T08:30:36.862189Z",
     "shell.execute_reply.started": "2022-08-17T08:30:36.841227Z"
    }
   },
   "outputs": [],
   "source": [
    "testdf.head(3)"
   ]
  },
  {
   "cell_type": "markdown",
   "metadata": {
    "_cell_guid": "83163b79-3d1d-4969-b77d-7efea8125a01",
    "_uuid": "da3b6d2d97f5598c58efa2efea6049aa209b894a"
   },
   "source": [
    "### Grouping Fare and creating a new column called *'FareGroup'* with their means by Pclass"
   ]
  },
  {
   "cell_type": "code",
   "execution_count": null,
   "metadata": {
    "_cell_guid": "6f04a2ab-556a-4a96-80c4-873036597c44",
    "_uuid": "ba85fc0604af1252684e991de1996612695b8ffe",
    "execution": {
     "iopub.execute_input": "2022-08-17T08:30:36.872149Z",
     "iopub.status.busy": "2022-08-17T08:30:36.871520Z",
     "iopub.status.idle": "2022-08-17T08:30:36.896948Z",
     "shell.execute_reply": "2022-08-17T08:30:36.895745Z",
     "shell.execute_reply.started": "2022-08-17T08:30:36.872113Z"
    }
   },
   "outputs": [],
   "source": [
    "def fare_distribution(data1, data2):\n",
    "    data = combine(data1,data2)\n",
    "    payment = data.groupby('Pclass')['Fare'].mean()\n",
    "    data.loc[(data['Fare'] < payment[3]),'FareGroup'] = 1\n",
    "    data.loc[(data['Fare'] > payment[3]) & (data['Fare'] <  payment[2]),'FareGroup'] = 2\n",
    "    data.loc[(data['Fare'] > payment[2]) & (data['Fare'] <  payment[1]), 'FareGroup'] = 3\n",
    "    data.loc[(data['Fare'] > payment[1]),'FareGroup'] = 4\n",
    "    #data['Fare'] = data['Fare'].map({'Very Low': 0, 'Low': 1, 'Medium':2, 'High':3})\n",
    "    data['FareGroup'] = data['FareGroup'].astype(int)\n",
    "    traindf, testdf    = saperate(data)\n",
    "    return traindf, testdf\n",
    "#payment = fulldf.groupby('Pclass')['Fare'].mean()\n",
    "traindf, testdf = fare_distribution(traindf, testdf)\n",
    "#testdf = fare_distribution(testdf)\n"
   ]
  },
  {
   "cell_type": "code",
   "execution_count": null,
   "metadata": {
    "execution": {
     "iopub.execute_input": "2022-08-17T08:30:36.899116Z",
     "iopub.status.busy": "2022-08-17T08:30:36.898754Z",
     "iopub.status.idle": "2022-08-17T08:30:36.920228Z",
     "shell.execute_reply": "2022-08-17T08:30:36.919172Z",
     "shell.execute_reply.started": "2022-08-17T08:30:36.899083Z"
    }
   },
   "outputs": [],
   "source": [
    "testdf.head(3)"
   ]
  },
  {
   "cell_type": "code",
   "execution_count": null,
   "metadata": {
    "_cell_guid": "3000094e-b77e-4f4d-a8aa-79e788cac5c1",
    "_uuid": "93076020f35626a724a1cee9760a2d9b2752c4d9",
    "execution": {
     "iopub.execute_input": "2022-08-17T08:30:36.921866Z",
     "iopub.status.busy": "2022-08-17T08:30:36.921486Z",
     "iopub.status.idle": "2022-08-17T08:30:36.955695Z",
     "shell.execute_reply": "2022-08-17T08:30:36.954405Z",
     "shell.execute_reply.started": "2022-08-17T08:30:36.921832Z"
    }
   },
   "outputs": [],
   "source": [
    "testdf"
   ]
  },
  {
   "cell_type": "markdown",
   "metadata": {},
   "source": [
    "### Finding Frequancy of Tickets: "
   ]
  },
  {
   "cell_type": "code",
   "execution_count": null,
   "metadata": {
    "_cell_guid": "b06ae864-3c83-4cc3-ba77-0d6064b453a4",
    "_uuid": "138221b2839a939ade86841905f5e05063e1fff1",
    "execution": {
     "iopub.execute_input": "2022-08-17T08:30:36.957688Z",
     "iopub.status.busy": "2022-08-17T08:30:36.957084Z",
     "iopub.status.idle": "2022-08-17T08:30:37.019355Z",
     "shell.execute_reply": "2022-08-17T08:30:37.018124Z",
     "shell.execute_reply.started": "2022-08-17T08:30:36.957639Z"
    }
   },
   "outputs": [],
   "source": [
    "# def Tickets(data1, data2):\n",
    "#     data = combine(data1,data2)\n",
    "#     #Creating a new column to display the freq of the tickets present\n",
    "#     data['SharedTicketCount'] = data.groupby('Ticket')[['Fare']].transform('count').astype(int)\n",
    "#     #Removing any characters other than alphabets and numbers to count the ticket length\n",
    "#     data['Ticket'] = data['Ticket'].str.replace('.','').str.replace('/','').str.replace(' ','')\n",
    "#     data['TicketLength'] = data['Ticket'].apply(lambda x: len(str(x)))\n",
    "#     traindf, testdf    = saperate(data)\n",
    "#     return traindf, testdf\n",
    "# traindf, testdf = Tickets(traindf, testdf)\n",
    "data = combine(traindf,testdf)\n",
    "#Creating a new column to display the freq of the tickets present\n",
    "data['SharedTicketCount'] = data.groupby('Ticket')[['Fare']].transform('count').astype(int)\n",
    "#Removing any characters other than alphabets and numbers to count the ticket length\n",
    "data['Ticket'] = data['Ticket'].str.replace('.','').str.replace('/','').str.replace(' ','')\n",
    "data['TicketLength'] = data['Ticket'].apply(lambda x: len(str(x)))\n",
    "traindf, testdf    = saperate(data)\n",
    "testdf"
   ]
  },
  {
   "cell_type": "code",
   "execution_count": null,
   "metadata": {
    "execution": {
     "iopub.execute_input": "2022-08-17T08:30:37.021534Z",
     "iopub.status.busy": "2022-08-17T08:30:37.021041Z",
     "iopub.status.idle": "2022-08-17T08:30:37.057592Z",
     "shell.execute_reply": "2022-08-17T08:30:37.056181Z",
     "shell.execute_reply.started": "2022-08-17T08:30:37.021484Z"
    }
   },
   "outputs": [],
   "source": [
    "testdf.head()"
   ]
  },
  {
   "cell_type": "code",
   "execution_count": null,
   "metadata": {
    "_cell_guid": "d5652cb8-1b85-4a43-a88f-44785cd30c1b",
    "_uuid": "895394da3fd216445197a03c416b47029a10fdaa",
    "execution": {
     "iopub.execute_input": "2022-08-17T08:30:37.060999Z",
     "iopub.status.busy": "2022-08-17T08:30:37.059578Z",
     "iopub.status.idle": "2022-08-17T08:30:37.069569Z",
     "shell.execute_reply": "2022-08-17T08:30:37.068189Z",
     "shell.execute_reply.started": "2022-08-17T08:30:37.060950Z"
    }
   },
   "outputs": [],
   "source": [
    "traindf.columns"
   ]
  },
  {
   "cell_type": "code",
   "execution_count": null,
   "metadata": {
    "_cell_guid": "ee98425e-2efb-4ab3-a9d6-00838f875339",
    "_uuid": "d5abfb89e988497738dd49cc4d1382681910adb6",
    "execution": {
     "iopub.execute_input": "2022-08-17T08:30:37.072314Z",
     "iopub.status.busy": "2022-08-17T08:30:37.071141Z",
     "iopub.status.idle": "2022-08-17T08:30:37.106355Z",
     "shell.execute_reply": "2022-08-17T08:30:37.105433Z",
     "shell.execute_reply.started": "2022-08-17T08:30:37.072269Z"
    }
   },
   "outputs": [],
   "source": [
    "traindf.head()"
   ]
  },
  {
   "cell_type": "code",
   "execution_count": null,
   "metadata": {
    "execution": {
     "iopub.execute_input": "2022-08-17T08:30:37.108359Z",
     "iopub.status.busy": "2022-08-17T08:30:37.107974Z",
     "iopub.status.idle": "2022-08-17T08:30:37.140917Z",
     "shell.execute_reply": "2022-08-17T08:30:37.139188Z",
     "shell.execute_reply.started": "2022-08-17T08:30:37.108323Z"
    }
   },
   "outputs": [],
   "source": [
    "testdf.head()"
   ]
  },
  {
   "cell_type": "code",
   "execution_count": null,
   "metadata": {
    "_cell_guid": "ffcb8089-7356-471f-afd0-0c011c203115",
    "_uuid": "e2f39b38588241f431f1a0b6162e6b48735f46bb",
    "execution": {
     "iopub.execute_input": "2022-08-17T08:30:37.143447Z",
     "iopub.status.busy": "2022-08-17T08:30:37.143007Z",
     "iopub.status.idle": "2022-08-17T08:30:37.158187Z",
     "shell.execute_reply": "2022-08-17T08:30:37.156802Z",
     "shell.execute_reply.started": "2022-08-17T08:30:37.143408Z"
    }
   },
   "outputs": [],
   "source": [
    "X = traindf.drop(['Name','Title','Surname','Survived','Cabin','Ticket',\n",
    "                  'Age','Fare','Family','Alone'],axis = 1)\n",
    "y = traindf['Survived']\n",
    "X_test = testdf.drop(['Name','Title','Surname','Survived','Cabin','Ticket',\n",
    "                  'Age','Fare','Family','Alone'],axis = 1)\n",
    "X.shape , y.shape"
   ]
  },
  {
   "cell_type": "code",
   "execution_count": null,
   "metadata": {
    "_cell_guid": "a3145198-cca2-47a0-9fb9-4388ea43f9ac",
    "_uuid": "0ada422bce0ecc0d95eb97ebc0a27040f575b90b",
    "execution": {
     "iopub.execute_input": "2022-08-17T08:30:37.161296Z",
     "iopub.status.busy": "2022-08-17T08:30:37.160056Z",
     "iopub.status.idle": "2022-08-17T08:30:37.173398Z",
     "shell.execute_reply": "2022-08-17T08:30:37.172342Z",
     "shell.execute_reply.started": "2022-08-17T08:30:37.161254Z"
    }
   },
   "outputs": [],
   "source": [
    "X.columns"
   ]
  },
  {
   "cell_type": "markdown",
   "metadata": {
    "_cell_guid": "16d38501-5ada-4def-9b81-ef04f4fbcb47",
    "_uuid": "32e69f6bfb89fc3f02f25163fc3cbef3d1eea920"
   },
   "source": [
    "# Correlation"
   ]
  },
  {
   "cell_type": "code",
   "execution_count": null,
   "metadata": {
    "_cell_guid": "23a89cb7-838b-498b-adb6-54f8527dc681",
    "_uuid": "2d8239e43fed361dac1e8ab8049b786cc62a846e",
    "execution": {
     "iopub.execute_input": "2022-08-17T08:30:37.176055Z",
     "iopub.status.busy": "2022-08-17T08:30:37.175234Z",
     "iopub.status.idle": "2022-08-17T08:30:38.687886Z",
     "shell.execute_reply": "2022-08-17T08:30:38.686704Z",
     "shell.execute_reply.started": "2022-08-17T08:30:37.176004Z"
    }
   },
   "outputs": [],
   "source": [
    "f, ax = plt.subplots(figsize = [25,16])\n",
    "sns.heatmap(traindf.corr(),linewidths = .5, annot = True, cmap = 'YlGnBu', square = True)"
   ]
  },
  {
   "cell_type": "markdown",
   "metadata": {
    "_cell_guid": "e90d2011-27fe-46bb-aa8f-a778d2a6f24c",
    "_uuid": "6e3a8e0f975e0ec1b2b39132847d1f7666cf658f"
   },
   "source": [
    "### Since categorical features have been created from the features present in the dataset taking only the categorical for training the models."
   ]
  },
  {
   "cell_type": "code",
   "execution_count": null,
   "metadata": {
    "_cell_guid": "51880bcd-cc65-4f53-ab45-854460886cf1",
    "_uuid": "40288fbf3c8bbcb654ea88d5ff173d0290cd34a1",
    "execution": {
     "iopub.execute_input": "2022-08-17T08:30:38.689527Z",
     "iopub.status.busy": "2022-08-17T08:30:38.689168Z",
     "iopub.status.idle": "2022-08-17T08:30:38.696092Z",
     "shell.execute_reply": "2022-08-17T08:30:38.694856Z",
     "shell.execute_reply.started": "2022-08-17T08:30:38.689493Z"
    }
   },
   "outputs": [],
   "source": [
    "from sklearn.tree import DecisionTreeClassifier\n",
    "from sklearn.model_selection import train_test_split, KFold, cross_val_score, GridSearchCV\n",
    "from sklearn.ensemble import RandomForestClassifier, AdaBoostClassifier, BaggingClassifier, ExtraTreesClassifier\n",
    "from sklearn.linear_model import LogisticRegression\n",
    "from sklearn.svm import SVC\n",
    "from sklearn.neighbors import KNeighborsClassifier\n",
    "from xgboost import XGBClassifier, plot_importance \n",
    "from sklearn.naive_bayes import GaussianNB"
   ]
  },
  {
   "cell_type": "code",
   "execution_count": null,
   "metadata": {
    "_cell_guid": "aabf1570-7270-45bd-9edf-b8112ed924ec",
    "_uuid": "7e56eff1b183fad9c87ff698c3eece75ef82aca0",
    "execution": {
     "iopub.execute_input": "2022-08-17T08:30:38.698062Z",
     "iopub.status.busy": "2022-08-17T08:30:38.697574Z",
     "iopub.status.idle": "2022-08-17T08:30:38.709823Z",
     "shell.execute_reply": "2022-08-17T08:30:38.708649Z",
     "shell.execute_reply.started": "2022-08-17T08:30:38.698025Z"
    }
   },
   "outputs": [],
   "source": [
    "X.columns"
   ]
  },
  {
   "cell_type": "code",
   "execution_count": null,
   "metadata": {
    "_cell_guid": "1aa22047-c9e3-4268-a8b8-ae365dbdfddb",
    "_uuid": "5512536b469268f1df14d6e072f64b941fca4878",
    "execution": {
     "iopub.execute_input": "2022-08-17T08:30:38.712235Z",
     "iopub.status.busy": "2022-08-17T08:30:38.711711Z",
     "iopub.status.idle": "2022-08-17T08:30:38.720539Z",
     "shell.execute_reply": "2022-08-17T08:30:38.719607Z",
     "shell.execute_reply.started": "2022-08-17T08:30:38.712172Z"
    }
   },
   "outputs": [],
   "source": [
    "npX = np.array(X).copy()\n",
    "npy = np.array(y).copy()"
   ]
  },
  {
   "cell_type": "markdown",
   "metadata": {
    "_cell_guid": "b76e8000-8689-419a-a7b4-c590267aeb0c",
    "_uuid": "6d3fd9191575827b11457b6f23d141ff21bac326"
   },
   "source": [
    "<h1><center>Models</center></h1>"
   ]
  },
  {
   "cell_type": "code",
   "execution_count": null,
   "metadata": {
    "_cell_guid": "bf375756-1371-4a08-a4f1-5f2c23707b8f",
    "_uuid": "baad822c33515e144a81ad914283acb609e9d4ef",
    "execution": {
     "iopub.execute_input": "2022-08-17T08:30:38.723326Z",
     "iopub.status.busy": "2022-08-17T08:30:38.722767Z",
     "iopub.status.idle": "2022-08-17T08:30:38.732038Z",
     "shell.execute_reply": "2022-08-17T08:30:38.730996Z",
     "shell.execute_reply.started": "2022-08-17T08:30:38.723276Z"
    }
   },
   "outputs": [],
   "source": [
    "clf_rf = RandomForestClassifier()\n",
    "clf_dt = DecisionTreeClassifier()\n",
    "clf_knn = KNeighborsClassifier()\n",
    "clf_nb = GaussianNB()\n",
    "clf_lr = LogisticRegression()\n",
    "clf_svm = SVC() #RBF"
   ]
  },
  {
   "cell_type": "code",
   "execution_count": null,
   "metadata": {
    "_cell_guid": "088950f8-46a8-42d8-97ce-ae7b4081a4bb",
    "_uuid": "1e15a23fad517f55d533c6680828de6d309985a6",
    "execution": {
     "iopub.execute_input": "2022-08-17T08:30:38.733441Z",
     "iopub.status.busy": "2022-08-17T08:30:38.733077Z",
     "iopub.status.idle": "2022-08-17T08:30:41.091169Z",
     "shell.execute_reply": "2022-08-17T08:30:41.088845Z",
     "shell.execute_reply.started": "2022-08-17T08:30:38.733399Z"
    }
   },
   "outputs": [],
   "source": [
    "Classifiers = ['RandomForest','DecisionTree','KNN','Naive Bayes','LogisticRegression','SVM']\n",
    "scores = []\n",
    "models = [clf_rf, clf_dt, clf_knn, clf_nb, clf_lr,clf_svm]\n",
    "for model in models:\n",
    "    score = cross_val_score(model, npX, npy, scoring = 'accuracy', cv = 10, n_jobs = -1).mean()\n",
    "    scores.append(score)"
   ]
  },
  {
   "cell_type": "code",
   "execution_count": null,
   "metadata": {
    "_cell_guid": "fe1d50ab-f19c-45ef-876c-ecd1a67335ea",
    "_uuid": "a992d4cdd19118cd685ca3db733e0d82fe1fd48e",
    "execution": {
     "iopub.execute_input": "2022-08-17T08:30:41.095381Z",
     "iopub.status.busy": "2022-08-17T08:30:41.094818Z",
     "iopub.status.idle": "2022-08-17T08:30:41.106647Z",
     "shell.execute_reply": "2022-08-17T08:30:41.105265Z",
     "shell.execute_reply.started": "2022-08-17T08:30:41.095334Z"
    }
   },
   "outputs": [],
   "source": [
    "mode = pd.DataFrame(scores, index = Classifiers, columns = ['score']).sort_values(by = 'score',\n",
    "             ascending = False)"
   ]
  },
  {
   "cell_type": "code",
   "execution_count": null,
   "metadata": {
    "_cell_guid": "d607f2f0-e00b-42eb-97dd-aa99e20985ee",
    "_uuid": "20aadb5a406ca1a671b25d383619990dd0d90b86",
    "execution": {
     "iopub.execute_input": "2022-08-17T08:30:41.109862Z",
     "iopub.status.busy": "2022-08-17T08:30:41.108567Z",
     "iopub.status.idle": "2022-08-17T08:30:41.130719Z",
     "shell.execute_reply": "2022-08-17T08:30:41.129703Z",
     "shell.execute_reply.started": "2022-08-17T08:30:41.109780Z"
    }
   },
   "outputs": [],
   "source": [
    "mode"
   ]
  },
  {
   "cell_type": "code",
   "execution_count": null,
   "metadata": {
    "execution": {
     "iopub.execute_input": "2022-08-17T08:30:41.135645Z",
     "iopub.status.busy": "2022-08-17T08:30:41.134490Z",
     "iopub.status.idle": "2022-08-17T08:30:41.158782Z",
     "shell.execute_reply": "2022-08-17T08:30:41.157573Z",
     "shell.execute_reply.started": "2022-08-17T08:30:41.135596Z"
    }
   },
   "outputs": [],
   "source": [
    "testdf.head"
   ]
  },
  {
   "cell_type": "code",
   "execution_count": null,
   "metadata": {
    "execution": {
     "iopub.execute_input": "2022-08-17T08:30:41.162729Z",
     "iopub.status.busy": "2022-08-17T08:30:41.161864Z",
     "iopub.status.idle": "2022-08-17T08:30:41.206991Z",
     "shell.execute_reply": "2022-08-17T08:30:41.205594Z",
     "shell.execute_reply.started": "2022-08-17T08:30:41.162660Z"
    }
   },
   "outputs": [],
   "source": [
    "testdf"
   ]
  },
  {
   "cell_type": "code",
   "execution_count": null,
   "metadata": {
    "execution": {
     "iopub.execute_input": "2022-08-17T08:30:41.208879Z",
     "iopub.status.busy": "2022-08-17T08:30:41.208483Z",
     "iopub.status.idle": "2022-08-17T08:30:41.217104Z",
     "shell.execute_reply": "2022-08-17T08:30:41.215830Z",
     "shell.execute_reply.started": "2022-08-17T08:30:41.208844Z"
    }
   },
   "outputs": [],
   "source": [
    "testdf.columns"
   ]
  },
  {
   "cell_type": "code",
   "execution_count": null,
   "metadata": {
    "execution": {
     "iopub.execute_input": "2022-08-17T08:30:41.219397Z",
     "iopub.status.busy": "2022-08-17T08:30:41.218999Z",
     "iopub.status.idle": "2022-08-17T08:30:41.271768Z",
     "shell.execute_reply": "2022-08-17T08:30:41.270273Z",
     "shell.execute_reply.started": "2022-08-17T08:30:41.219360Z"
    }
   },
   "outputs": [],
   "source": [
    "clf_svm = SVC()\n",
    "clf_svm.fit(npX,npy)\n",
    "testdf = testdf.drop(['Name','Title','Surname','Survived','Cabin','Ticket',\n",
    "                  'Age','Fare','Family','Alone'],axis = 1)\n",
    "nptest = np.array(testdf)\n",
    "pred = clf_svm.predict(nptest)\n",
    "predictions = pd.DataFrame(pred, index = testdf.index, columns = ['Survived'])\n",
    "predictions.to_csv('submission.csv')"
   ]
  }
 ],
 "metadata": {
  "kernelspec": {
   "display_name": "Python 3 (ipykernel)",
   "language": "python",
   "name": "python3"
  },
  "language_info": {
   "codemirror_mode": {
    "name": "ipython",
    "version": 3
   },
   "file_extension": ".py",
   "mimetype": "text/x-python",
   "name": "python",
   "nbconvert_exporter": "python",
   "pygments_lexer": "ipython3",
   "version": "3.9.12"
  }
 },
 "nbformat": 4,
 "nbformat_minor": 4
}
