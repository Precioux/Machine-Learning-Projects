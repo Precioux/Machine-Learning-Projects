{
 "cells": [
  {
   "cell_type": "code",
   "execution_count": 1,
   "metadata": {
    "_cell_guid": "b1076dfc-b9ad-4769-8c92-a6c4dae69d19",
    "_uuid": "8f2839f25d086af736a60e9eeb907d3b93b6e0e5",
    "execution": {
     "iopub.execute_input": "2022-09-05T14:48:20.154223Z",
     "iopub.status.busy": "2022-09-05T14:48:20.153874Z",
     "iopub.status.idle": "2022-09-05T14:48:20.168546Z",
     "shell.execute_reply": "2022-09-05T14:48:20.167725Z",
     "shell.execute_reply.started": "2022-09-05T14:48:20.154192Z"
    }
   },
   "outputs": [],
   "source": [
    "# This Python 3 environment comes with many helpful analytics libraries installed\n",
    "# It is defined by the kaggle/python Docker image: https://github.com/kaggle/docker-python\n",
    "# For example, here's several helpful packages to load\n",
    "\n",
    "# Input data files are available in the read-only \"../input/\" directory\n",
    "# For example, running this (by clicking run or pressing Shift+Enter) will list all files under the input directory\n",
    "\n",
    "import os\n",
    "for dirname, _, filenames in os.walk('/kaggle/input'):\n",
    "    for filename in filenames:\n",
    "        print(os.path.join(dirname, filename))\n",
    "\n",
    "# You can write up to 20GB to the current directory (/kaggle/working/) that gets preserved as output when you create a version using \"Save & Run All\" \n",
    "# You can also write temporary files to /kaggle/temp/, but they won't be saved outside of the current session"
   ]
  },
  {
   "cell_type": "markdown",
   "metadata": {},
   "source": [
    "### This Online Retail II data set contains all the transactions occurring for a UK-based and registered, non-store online retail between 01/12/2009 and 09/12/2011.The company mainly sells unique all-occasion gift-ware.\n",
    "\n",
    "### If you want to have detailed information about the features you can visit: https://archive.ics.uci.edu/ml/datasets/Online+Retail+IIHere \n",
    "\n",
    "### Our main goal is to cluster all the customers according to their attributes and gain more information about various customer patterns."
   ]
  },
  {
   "cell_type": "markdown",
   "metadata": {},
   "source": [
    "# Importing Libraries "
   ]
  },
  {
   "cell_type": "code",
   "execution_count": 2,
   "metadata": {
    "execution": {
     "iopub.execute_input": "2022-09-05T14:48:20.612934Z",
     "iopub.status.busy": "2022-09-05T14:48:20.612548Z",
     "iopub.status.idle": "2022-09-05T14:48:21.360529Z",
     "shell.execute_reply": "2022-09-05T14:48:21.359618Z",
     "shell.execute_reply.started": "2022-09-05T14:48:20.612904Z"
    }
   },
   "outputs": [],
   "source": [
    "# for data manipulation and analysis\n",
    "import pandas as pd\n",
    "import numpy as np\n",
    "\n",
    "# for plotting\n",
    "import seaborn as sns\n",
    "import matplotlib.pyplot as plt\n",
    "from mpl_toolkits import mplot3d\n",
    "sns.set_style('darkgrid')\n",
    "\n",
    "# Silhouette analysis\n",
    "from sklearn.metrics import silhouette_score\n",
    "\n",
    "# To perform KMeans clustering \n",
    "from sklearn.cluster import KMeans\n",
    "\n",
    "# for scaling\n",
    "from sklearn.preprocessing import StandardScaler\n",
    "\n",
    "import warnings\n",
    "warnings.filterwarnings('ignore')"
   ]
  },
  {
   "cell_type": "markdown",
   "metadata": {},
   "source": [
    "#### In order to import an exel file we need to install this libraries :"
   ]
  },
  {
   "cell_type": "code",
   "execution_count": 3,
   "metadata": {
    "execution": {
     "iopub.execute_input": "2022-09-05T14:48:21.362389Z",
     "iopub.status.busy": "2022-09-05T14:48:21.362126Z",
     "iopub.status.idle": "2022-09-05T14:48:32.271350Z",
     "shell.execute_reply": "2022-09-05T14:48:32.270331Z",
     "shell.execute_reply.started": "2022-09-05T14:48:21.362366Z"
    }
   },
   "outputs": [
    {
     "name": "stdout",
     "output_type": "stream",
     "text": [
      "Requirement already satisfied: openpyxl in d:\\users\\samin\\anaconda3\\lib\\site-packages (3.0.9)\n",
      "Requirement already satisfied: et-xmlfile in d:\\users\\samin\\anaconda3\\lib\\site-packages (from openpyxl) (1.1.0)\n",
      "Note: you may need to restart the kernel to use updated packages.\n"
     ]
    }
   ],
   "source": [
    "pip install openpyxl"
   ]
  },
  {
   "cell_type": "code",
   "execution_count": 4,
   "metadata": {
    "execution": {
     "iopub.execute_input": "2022-09-05T14:48:32.273075Z",
     "iopub.status.busy": "2022-09-05T14:48:32.272733Z",
     "iopub.status.idle": "2022-09-05T14:48:41.446113Z",
     "shell.execute_reply": "2022-09-05T14:48:41.445331Z",
     "shell.execute_reply.started": "2022-09-05T14:48:32.273044Z"
    }
   },
   "outputs": [
    {
     "name": "stdout",
     "output_type": "stream",
     "text": [
      "Requirement already satisfied: xlrd in d:\\users\\samin\\anaconda3\\lib\\site-packages (2.0.1)\n",
      "Note: you may need to restart the kernel to use updated packages.\n"
     ]
    }
   ],
   "source": [
    "pip install xlrd"
   ]
  },
  {
   "cell_type": "markdown",
   "metadata": {},
   "source": [
    "# 0) Importing Dataset\n",
    "#### loading the dataset :"
   ]
  },
  {
   "cell_type": "code",
   "execution_count": 5,
   "metadata": {
    "execution": {
     "iopub.execute_input": "2022-09-05T14:48:41.448222Z",
     "iopub.status.busy": "2022-09-05T14:48:41.447927Z",
     "iopub.status.idle": "2022-09-05T14:49:46.037568Z",
     "shell.execute_reply": "2022-09-05T14:49:46.036714Z",
     "shell.execute_reply.started": "2022-09-05T14:48:41.448192Z"
    }
   },
   "outputs": [
    {
     "ename": "FileNotFoundError",
     "evalue": "[Errno 2] No such file or directory: '/kaggle/input/online-retail-data-set-from-uci-ml-repo/Online Retail.xlsx'",
     "output_type": "error",
     "traceback": [
      "\u001b[1;31m---------------------------------------------------------------------------\u001b[0m",
      "\u001b[1;31mFileNotFoundError\u001b[0m                         Traceback (most recent call last)",
      "Input \u001b[1;32mIn [5]\u001b[0m, in \u001b[0;36m<cell line: 1>\u001b[1;34m()\u001b[0m\n\u001b[1;32m----> 1\u001b[0m df \u001b[38;5;241m=\u001b[39m \u001b[43mpd\u001b[49m\u001b[38;5;241;43m.\u001b[39;49m\u001b[43mread_excel\u001b[49m\u001b[43m(\u001b[49m\u001b[38;5;124;43m'\u001b[39;49m\u001b[38;5;124;43m/kaggle/input/online-retail-data-set-from-uci-ml-repo/Online Retail.xlsx\u001b[39;49m\u001b[38;5;124;43m'\u001b[39;49m\u001b[43m)\u001b[49m\n\u001b[0;32m      3\u001b[0m \u001b[38;5;66;03m# looking at top 5 rows\u001b[39;00m\n\u001b[0;32m      4\u001b[0m df\u001b[38;5;241m.\u001b[39mhead()\n",
      "File \u001b[1;32mD:\\Users\\Samin\\anaconda3\\lib\\site-packages\\pandas\\util\\_decorators.py:311\u001b[0m, in \u001b[0;36mdeprecate_nonkeyword_arguments.<locals>.decorate.<locals>.wrapper\u001b[1;34m(*args, **kwargs)\u001b[0m\n\u001b[0;32m    305\u001b[0m \u001b[38;5;28;01mif\u001b[39;00m \u001b[38;5;28mlen\u001b[39m(args) \u001b[38;5;241m>\u001b[39m num_allow_args:\n\u001b[0;32m    306\u001b[0m     warnings\u001b[38;5;241m.\u001b[39mwarn(\n\u001b[0;32m    307\u001b[0m         msg\u001b[38;5;241m.\u001b[39mformat(arguments\u001b[38;5;241m=\u001b[39marguments),\n\u001b[0;32m    308\u001b[0m         \u001b[38;5;167;01mFutureWarning\u001b[39;00m,\n\u001b[0;32m    309\u001b[0m         stacklevel\u001b[38;5;241m=\u001b[39mstacklevel,\n\u001b[0;32m    310\u001b[0m     )\n\u001b[1;32m--> 311\u001b[0m \u001b[38;5;28;01mreturn\u001b[39;00m func(\u001b[38;5;241m*\u001b[39margs, \u001b[38;5;241m*\u001b[39m\u001b[38;5;241m*\u001b[39mkwargs)\n",
      "File \u001b[1;32mD:\\Users\\Samin\\anaconda3\\lib\\site-packages\\pandas\\io\\excel\\_base.py:457\u001b[0m, in \u001b[0;36mread_excel\u001b[1;34m(io, sheet_name, header, names, index_col, usecols, squeeze, dtype, engine, converters, true_values, false_values, skiprows, nrows, na_values, keep_default_na, na_filter, verbose, parse_dates, date_parser, thousands, decimal, comment, skipfooter, convert_float, mangle_dupe_cols, storage_options)\u001b[0m\n\u001b[0;32m    455\u001b[0m \u001b[38;5;28;01mif\u001b[39;00m \u001b[38;5;129;01mnot\u001b[39;00m \u001b[38;5;28misinstance\u001b[39m(io, ExcelFile):\n\u001b[0;32m    456\u001b[0m     should_close \u001b[38;5;241m=\u001b[39m \u001b[38;5;28;01mTrue\u001b[39;00m\n\u001b[1;32m--> 457\u001b[0m     io \u001b[38;5;241m=\u001b[39m \u001b[43mExcelFile\u001b[49m\u001b[43m(\u001b[49m\u001b[43mio\u001b[49m\u001b[43m,\u001b[49m\u001b[43m \u001b[49m\u001b[43mstorage_options\u001b[49m\u001b[38;5;241;43m=\u001b[39;49m\u001b[43mstorage_options\u001b[49m\u001b[43m,\u001b[49m\u001b[43m \u001b[49m\u001b[43mengine\u001b[49m\u001b[38;5;241;43m=\u001b[39;49m\u001b[43mengine\u001b[49m\u001b[43m)\u001b[49m\n\u001b[0;32m    458\u001b[0m \u001b[38;5;28;01melif\u001b[39;00m engine \u001b[38;5;129;01mand\u001b[39;00m engine \u001b[38;5;241m!=\u001b[39m io\u001b[38;5;241m.\u001b[39mengine:\n\u001b[0;32m    459\u001b[0m     \u001b[38;5;28;01mraise\u001b[39;00m \u001b[38;5;167;01mValueError\u001b[39;00m(\n\u001b[0;32m    460\u001b[0m         \u001b[38;5;124m\"\u001b[39m\u001b[38;5;124mEngine should not be specified when passing \u001b[39m\u001b[38;5;124m\"\u001b[39m\n\u001b[0;32m    461\u001b[0m         \u001b[38;5;124m\"\u001b[39m\u001b[38;5;124man ExcelFile - ExcelFile already has the engine set\u001b[39m\u001b[38;5;124m\"\u001b[39m\n\u001b[0;32m    462\u001b[0m     )\n",
      "File \u001b[1;32mD:\\Users\\Samin\\anaconda3\\lib\\site-packages\\pandas\\io\\excel\\_base.py:1376\u001b[0m, in \u001b[0;36mExcelFile.__init__\u001b[1;34m(self, path_or_buffer, engine, storage_options)\u001b[0m\n\u001b[0;32m   1374\u001b[0m     ext \u001b[38;5;241m=\u001b[39m \u001b[38;5;124m\"\u001b[39m\u001b[38;5;124mxls\u001b[39m\u001b[38;5;124m\"\u001b[39m\n\u001b[0;32m   1375\u001b[0m \u001b[38;5;28;01melse\u001b[39;00m:\n\u001b[1;32m-> 1376\u001b[0m     ext \u001b[38;5;241m=\u001b[39m \u001b[43minspect_excel_format\u001b[49m\u001b[43m(\u001b[49m\n\u001b[0;32m   1377\u001b[0m \u001b[43m        \u001b[49m\u001b[43mcontent_or_path\u001b[49m\u001b[38;5;241;43m=\u001b[39;49m\u001b[43mpath_or_buffer\u001b[49m\u001b[43m,\u001b[49m\u001b[43m \u001b[49m\u001b[43mstorage_options\u001b[49m\u001b[38;5;241;43m=\u001b[39;49m\u001b[43mstorage_options\u001b[49m\n\u001b[0;32m   1378\u001b[0m \u001b[43m    \u001b[49m\u001b[43m)\u001b[49m\n\u001b[0;32m   1379\u001b[0m     \u001b[38;5;28;01mif\u001b[39;00m ext \u001b[38;5;129;01mis\u001b[39;00m \u001b[38;5;28;01mNone\u001b[39;00m:\n\u001b[0;32m   1380\u001b[0m         \u001b[38;5;28;01mraise\u001b[39;00m \u001b[38;5;167;01mValueError\u001b[39;00m(\n\u001b[0;32m   1381\u001b[0m             \u001b[38;5;124m\"\u001b[39m\u001b[38;5;124mExcel file format cannot be determined, you must specify \u001b[39m\u001b[38;5;124m\"\u001b[39m\n\u001b[0;32m   1382\u001b[0m             \u001b[38;5;124m\"\u001b[39m\u001b[38;5;124man engine manually.\u001b[39m\u001b[38;5;124m\"\u001b[39m\n\u001b[0;32m   1383\u001b[0m         )\n",
      "File \u001b[1;32mD:\\Users\\Samin\\anaconda3\\lib\\site-packages\\pandas\\io\\excel\\_base.py:1250\u001b[0m, in \u001b[0;36minspect_excel_format\u001b[1;34m(content_or_path, storage_options)\u001b[0m\n\u001b[0;32m   1247\u001b[0m \u001b[38;5;28;01mif\u001b[39;00m \u001b[38;5;28misinstance\u001b[39m(content_or_path, \u001b[38;5;28mbytes\u001b[39m):\n\u001b[0;32m   1248\u001b[0m     content_or_path \u001b[38;5;241m=\u001b[39m BytesIO(content_or_path)\n\u001b[1;32m-> 1250\u001b[0m \u001b[38;5;28;01mwith\u001b[39;00m \u001b[43mget_handle\u001b[49m\u001b[43m(\u001b[49m\n\u001b[0;32m   1251\u001b[0m \u001b[43m    \u001b[49m\u001b[43mcontent_or_path\u001b[49m\u001b[43m,\u001b[49m\u001b[43m \u001b[49m\u001b[38;5;124;43m\"\u001b[39;49m\u001b[38;5;124;43mrb\u001b[39;49m\u001b[38;5;124;43m\"\u001b[39;49m\u001b[43m,\u001b[49m\u001b[43m \u001b[49m\u001b[43mstorage_options\u001b[49m\u001b[38;5;241;43m=\u001b[39;49m\u001b[43mstorage_options\u001b[49m\u001b[43m,\u001b[49m\u001b[43m \u001b[49m\u001b[43mis_text\u001b[49m\u001b[38;5;241;43m=\u001b[39;49m\u001b[38;5;28;43;01mFalse\u001b[39;49;00m\n\u001b[0;32m   1252\u001b[0m \u001b[43m\u001b[49m\u001b[43m)\u001b[49m \u001b[38;5;28;01mas\u001b[39;00m handle:\n\u001b[0;32m   1253\u001b[0m     stream \u001b[38;5;241m=\u001b[39m handle\u001b[38;5;241m.\u001b[39mhandle\n\u001b[0;32m   1254\u001b[0m     stream\u001b[38;5;241m.\u001b[39mseek(\u001b[38;5;241m0\u001b[39m)\n",
      "File \u001b[1;32mD:\\Users\\Samin\\anaconda3\\lib\\site-packages\\pandas\\io\\common.py:798\u001b[0m, in \u001b[0;36mget_handle\u001b[1;34m(path_or_buf, mode, encoding, compression, memory_map, is_text, errors, storage_options)\u001b[0m\n\u001b[0;32m    789\u001b[0m         handle \u001b[38;5;241m=\u001b[39m \u001b[38;5;28mopen\u001b[39m(\n\u001b[0;32m    790\u001b[0m             handle,\n\u001b[0;32m    791\u001b[0m             ioargs\u001b[38;5;241m.\u001b[39mmode,\n\u001b[1;32m   (...)\u001b[0m\n\u001b[0;32m    794\u001b[0m             newline\u001b[38;5;241m=\u001b[39m\u001b[38;5;124m\"\u001b[39m\u001b[38;5;124m\"\u001b[39m,\n\u001b[0;32m    795\u001b[0m         )\n\u001b[0;32m    796\u001b[0m     \u001b[38;5;28;01melse\u001b[39;00m:\n\u001b[0;32m    797\u001b[0m         \u001b[38;5;66;03m# Binary mode\u001b[39;00m\n\u001b[1;32m--> 798\u001b[0m         handle \u001b[38;5;241m=\u001b[39m \u001b[38;5;28;43mopen\u001b[39;49m\u001b[43m(\u001b[49m\u001b[43mhandle\u001b[49m\u001b[43m,\u001b[49m\u001b[43m \u001b[49m\u001b[43mioargs\u001b[49m\u001b[38;5;241;43m.\u001b[39;49m\u001b[43mmode\u001b[49m\u001b[43m)\u001b[49m\n\u001b[0;32m    799\u001b[0m     handles\u001b[38;5;241m.\u001b[39mappend(handle)\n\u001b[0;32m    801\u001b[0m \u001b[38;5;66;03m# Convert BytesIO or file objects passed with an encoding\u001b[39;00m\n",
      "\u001b[1;31mFileNotFoundError\u001b[0m: [Errno 2] No such file or directory: '/kaggle/input/online-retail-data-set-from-uci-ml-repo/Online Retail.xlsx'"
     ]
    }
   ],
   "source": [
    "df = pd.read_excel('/kaggle/input/online-retail-data-set-from-uci-ml-repo/Online Retail.xlsx')\n",
    "\n",
    "# looking at top 5 rows\n",
    "df.head()"
   ]
  },
  {
   "cell_type": "markdown",
   "metadata": {},
   "source": [
    "# 1) Preprocessing "
   ]
  },
  {
   "cell_type": "markdown",
   "metadata": {},
   "source": [
    "### Dataset Overview :"
   ]
  },
  {
   "cell_type": "code",
   "execution_count": null,
   "metadata": {
    "execution": {
     "iopub.execute_input": "2022-09-05T14:49:46.038944Z",
     "iopub.status.busy": "2022-09-05T14:49:46.038658Z",
     "iopub.status.idle": "2022-09-05T14:49:46.045245Z",
     "shell.execute_reply": "2022-09-05T14:49:46.044374Z",
     "shell.execute_reply.started": "2022-09-05T14:49:46.038920Z"
    }
   },
   "outputs": [],
   "source": [
    "# checking the number of rows and columns\n",
    "df.shape"
   ]
  },
  {
   "cell_type": "code",
   "execution_count": null,
   "metadata": {
    "execution": {
     "iopub.execute_input": "2022-09-05T14:49:46.046918Z",
     "iopub.status.busy": "2022-09-05T14:49:46.046588Z",
     "iopub.status.idle": "2022-09-05T14:49:46.152532Z",
     "shell.execute_reply": "2022-09-05T14:49:46.151552Z",
     "shell.execute_reply.started": "2022-09-05T14:49:46.046886Z"
    }
   },
   "outputs": [],
   "source": [
    "# looking at the overall picture\n",
    "df.info()"
   ]
  },
  {
   "cell_type": "markdown",
   "metadata": {},
   "source": [
    "#### Checking missing values :"
   ]
  },
  {
   "cell_type": "code",
   "execution_count": null,
   "metadata": {
    "execution": {
     "iopub.execute_input": "2022-09-05T14:49:46.154574Z",
     "iopub.status.busy": "2022-09-05T14:49:46.154165Z",
     "iopub.status.idle": "2022-09-05T14:49:46.242088Z",
     "shell.execute_reply": "2022-09-05T14:49:46.241338Z",
     "shell.execute_reply.started": "2022-09-05T14:49:46.154539Z"
    }
   },
   "outputs": [],
   "source": [
    "# checking the number of missing values in each column\n",
    "df.isnull().sum()"
   ]
  },
  {
   "cell_type": "markdown",
   "metadata": {},
   "source": [
    "As its shown there are many null data in CustomerID and Descripton columns"
   ]
  },
  {
   "cell_type": "markdown",
   "metadata": {},
   "source": [
    "### **Basic Cleaning**"
   ]
  },
  {
   "cell_type": "markdown",
   "metadata": {},
   "source": [
    "#### Cleaning duplicated data :\n",
    "\n",
    "Rows which belong to same customers and transactions "
   ]
  },
  {
   "cell_type": "code",
   "execution_count": null,
   "metadata": {
    "execution": {
     "iopub.execute_input": "2022-09-05T14:49:46.243808Z",
     "iopub.status.busy": "2022-09-05T14:49:46.243299Z",
     "iopub.status.idle": "2022-09-05T14:49:46.436823Z",
     "shell.execute_reply": "2022-09-05T14:49:46.435862Z",
     "shell.execute_reply.started": "2022-09-05T14:49:46.243775Z"
    }
   },
   "outputs": [],
   "source": [
    "# count of duplicated rows in the data\n",
    "df.duplicated().sum()"
   ]
  },
  {
   "cell_type": "code",
   "execution_count": null,
   "metadata": {
    "execution": {
     "iopub.execute_input": "2022-09-05T14:49:46.438423Z",
     "iopub.status.busy": "2022-09-05T14:49:46.437998Z",
     "iopub.status.idle": "2022-09-05T14:49:46.672414Z",
     "shell.execute_reply": "2022-09-05T14:49:46.671418Z",
     "shell.execute_reply.started": "2022-09-05T14:49:46.438397Z"
    }
   },
   "outputs": [],
   "source": [
    "# removing the duplicate rows\n",
    "df = df[~df.duplicated()]\n",
    "df.shape"
   ]
  },
  {
   "cell_type": "markdown",
   "metadata": {},
   "source": [
    "#### Cleaning transactions with negetive quantity:"
   ]
  },
  {
   "cell_type": "markdown",
   "metadata": {},
   "source": [
    "these are the transactions that have negative quantity which indicates returned or cancelled orders\n",
    "- Cancelled Ones: starting InvoiceNo with C"
   ]
  },
  {
   "cell_type": "code",
   "execution_count": null,
   "metadata": {
    "execution": {
     "iopub.execute_input": "2022-09-05T14:49:46.675866Z",
     "iopub.status.busy": "2022-09-05T14:49:46.675578Z",
     "iopub.status.idle": "2022-09-05T14:49:47.183970Z",
     "shell.execute_reply": "2022-09-05T14:49:47.183119Z",
     "shell.execute_reply.started": "2022-09-05T14:49:46.675842Z"
    }
   },
   "outputs": [],
   "source": [
    "df[df['InvoiceNo'].str.startswith('C')==True]"
   ]
  },
  {
   "cell_type": "code",
   "execution_count": null,
   "metadata": {
    "execution": {
     "iopub.execute_input": "2022-09-05T14:49:47.185312Z",
     "iopub.status.busy": "2022-09-05T14:49:47.185003Z",
     "iopub.status.idle": "2022-09-05T14:49:47.699308Z",
     "shell.execute_reply": "2022-09-05T14:49:47.698521Z",
     "shell.execute_reply.started": "2022-09-05T14:49:47.185252Z"
    }
   },
   "outputs": [],
   "source": [
    "# removing all the invoice number who starts with 'C' as they are returned orders\n",
    "df = df[df['InvoiceNo'].str.startswith('C')!=True]\n",
    "df.shape"
   ]
  },
  {
   "cell_type": "code",
   "execution_count": null,
   "metadata": {
    "execution": {
     "iopub.execute_input": "2022-09-05T14:49:47.700950Z",
     "iopub.status.busy": "2022-09-05T14:49:47.700393Z",
     "iopub.status.idle": "2022-09-05T14:49:47.729143Z",
     "shell.execute_reply": "2022-09-05T14:49:47.728481Z",
     "shell.execute_reply.started": "2022-09-05T14:49:47.700918Z"
    }
   },
   "outputs": [],
   "source": [
    "# checking the number of unique transactions\n",
    "# though there are more than 5 lakh entries but the number of transaction happened is 21892\n",
    "df.InvoiceNo.nunique()"
   ]
  },
  {
   "cell_type": "code",
   "execution_count": null,
   "metadata": {
    "execution": {
     "iopub.execute_input": "2022-09-05T14:49:47.730931Z",
     "iopub.status.busy": "2022-09-05T14:49:47.730691Z",
     "iopub.status.idle": "2022-09-05T14:49:47.749404Z",
     "shell.execute_reply": "2022-09-05T14:49:47.748301Z",
     "shell.execute_reply.started": "2022-09-05T14:49:47.730909Z"
    }
   },
   "outputs": [],
   "source": [
    "# checking the unique stock ids in the data or number of unqiue item sold by retailer\n",
    "df.StockCode.nunique()"
   ]
  },
  {
   "cell_type": "code",
   "execution_count": null,
   "metadata": {
    "execution": {
     "iopub.execute_input": "2022-09-05T14:49:47.751306Z",
     "iopub.status.busy": "2022-09-05T14:49:47.750921Z",
     "iopub.status.idle": "2022-09-05T14:49:47.782484Z",
     "shell.execute_reply": "2022-09-05T14:49:47.781381Z",
     "shell.execute_reply.started": "2022-09-05T14:49:47.751240Z"
    }
   },
   "outputs": [],
   "source": [
    "# top 10 stock ids that sold the most\n",
    "df.StockCode.value_counts().head(10)"
   ]
  },
  {
   "cell_type": "markdown",
   "metadata": {},
   "source": [
    "- Negetive Qauntity :"
   ]
  },
  {
   "cell_type": "code",
   "execution_count": null,
   "metadata": {
    "execution": {
     "iopub.execute_input": "2022-09-05T14:49:47.784204Z",
     "iopub.status.busy": "2022-09-05T14:49:47.783913Z",
     "iopub.status.idle": "2022-09-05T14:49:47.804930Z",
     "shell.execute_reply": "2022-09-05T14:49:47.804055Z",
     "shell.execute_reply.started": "2022-09-05T14:49:47.784178Z"
    }
   },
   "outputs": [],
   "source": [
    "# looking at the distribution of the quantity\n",
    "# we seen that there is negative value which might indicate return orders\n",
    "df.Quantity.describe()"
   ]
  },
  {
   "cell_type": "code",
   "execution_count": null,
   "metadata": {
    "execution": {
     "iopub.execute_input": "2022-09-05T14:49:47.806540Z",
     "iopub.status.busy": "2022-09-05T14:49:47.806056Z",
     "iopub.status.idle": "2022-09-05T14:49:47.824157Z",
     "shell.execute_reply": "2022-09-05T14:49:47.823564Z",
     "shell.execute_reply.started": "2022-09-05T14:49:47.806516Z"
    }
   },
   "outputs": [],
   "source": [
    "# looking at the data where quantity is negative and possible explanation is these are return orders or cancelled order\n",
    "df[df['Quantity']<0]"
   ]
  },
  {
   "cell_type": "code",
   "execution_count": null,
   "metadata": {
    "execution": {
     "iopub.execute_input": "2022-09-05T14:49:47.825501Z",
     "iopub.status.busy": "2022-09-05T14:49:47.825138Z",
     "iopub.status.idle": "2022-09-05T14:49:47.880085Z",
     "shell.execute_reply": "2022-09-05T14:49:47.879213Z",
     "shell.execute_reply.started": "2022-09-05T14:49:47.825477Z"
    }
   },
   "outputs": [],
   "source": [
    "# keeping only those transactions that have successfully ordered\n",
    "df = df[df['Quantity']>=0]\n",
    "df.shape"
   ]
  },
  {
   "cell_type": "code",
   "execution_count": null,
   "metadata": {
    "execution": {
     "iopub.execute_input": "2022-09-05T14:49:47.881497Z",
     "iopub.status.busy": "2022-09-05T14:49:47.881230Z",
     "iopub.status.idle": "2022-09-05T14:49:47.899169Z",
     "shell.execute_reply": "2022-09-05T14:49:47.898324Z",
     "shell.execute_reply.started": "2022-09-05T14:49:47.881474Z"
    }
   },
   "outputs": [],
   "source": [
    "df"
   ]
  },
  {
   "cell_type": "code",
   "execution_count": null,
   "metadata": {
    "execution": {
     "iopub.execute_input": "2022-09-05T14:49:47.900484Z",
     "iopub.status.busy": "2022-09-05T14:49:47.900213Z",
     "iopub.status.idle": "2022-09-05T14:49:47.912307Z",
     "shell.execute_reply": "2022-09-05T14:49:47.911593Z",
     "shell.execute_reply.started": "2022-09-05T14:49:47.900461Z"
    }
   },
   "outputs": [],
   "source": [
    "print('The minimum date is:',df.InvoiceDate.min())\n",
    "print('The maximum date is:',df.InvoiceDate.max())"
   ]
  },
  {
   "cell_type": "code",
   "execution_count": null,
   "metadata": {
    "execution": {
     "iopub.execute_input": "2022-09-05T14:49:47.913894Z",
     "iopub.status.busy": "2022-09-05T14:49:47.913508Z",
     "iopub.status.idle": "2022-09-05T14:49:47.938028Z",
     "shell.execute_reply": "2022-09-05T14:49:47.937411Z",
     "shell.execute_reply.started": "2022-09-05T14:49:47.913870Z"
    }
   },
   "outputs": [],
   "source": [
    "# checking the distribution of unit price\n",
    "df.UnitPrice.describe(percentiles=[0.25,0.5,0.75,0.9,0.95,0.99])"
   ]
  },
  {
   "cell_type": "code",
   "execution_count": null,
   "metadata": {
    "execution": {
     "iopub.execute_input": "2022-09-05T14:49:47.939787Z",
     "iopub.status.busy": "2022-09-05T14:49:47.939029Z",
     "iopub.status.idle": "2022-09-05T14:49:47.966785Z",
     "shell.execute_reply": "2022-09-05T14:49:47.965801Z",
     "shell.execute_reply.started": "2022-09-05T14:49:47.939757Z"
    }
   },
   "outputs": [],
   "source": [
    "# we see that more than 90% have country as UK which is obvious as the retailer is UK based\n",
    "df.Country.value_counts(normalize=True)"
   ]
  },
  {
   "cell_type": "code",
   "execution_count": null,
   "metadata": {
    "execution": {
     "iopub.execute_input": "2022-09-05T14:49:47.969013Z",
     "iopub.status.busy": "2022-09-05T14:49:47.968019Z",
     "iopub.status.idle": "2022-09-05T14:49:48.085181Z",
     "shell.execute_reply": "2022-09-05T14:49:48.084195Z",
     "shell.execute_reply.started": "2022-09-05T14:49:47.968980Z"
    }
   },
   "outputs": [],
   "source": [
    "# putting UK as one country and combine rest countries into one category\n",
    "df['Country'] = df['Country'].apply(lambda x:'United Kingdom' if x=='United Kingdom' else 'Others')\n",
    "df.Country.value_counts(normalize=True)"
   ]
  },
  {
   "cell_type": "code",
   "execution_count": null,
   "metadata": {
    "execution": {
     "iopub.execute_input": "2022-09-05T14:49:48.087017Z",
     "iopub.status.busy": "2022-09-05T14:49:48.086358Z",
     "iopub.status.idle": "2022-09-05T14:49:48.104523Z",
     "shell.execute_reply": "2022-09-05T14:49:48.103634Z",
     "shell.execute_reply.started": "2022-09-05T14:49:48.086985Z"
    }
   },
   "outputs": [],
   "source": [
    "df"
   ]
  },
  {
   "cell_type": "code",
   "execution_count": null,
   "metadata": {
    "execution": {
     "iopub.execute_input": "2022-09-05T14:49:48.105979Z",
     "iopub.status.busy": "2022-09-05T14:49:48.105751Z",
     "iopub.status.idle": "2022-09-05T14:49:48.129886Z",
     "shell.execute_reply": "2022-09-05T14:49:48.129236Z",
     "shell.execute_reply.started": "2022-09-05T14:49:48.105957Z"
    }
   },
   "outputs": [],
   "source": [
    "# checking the number of unique item list\n",
    "df.Description.nunique()"
   ]
  },
  {
   "cell_type": "code",
   "execution_count": null,
   "metadata": {
    "execution": {
     "iopub.execute_input": "2022-09-05T14:49:48.131685Z",
     "iopub.status.busy": "2022-09-05T14:49:48.131233Z",
     "iopub.status.idle": "2022-09-05T14:49:48.160875Z",
     "shell.execute_reply": "2022-09-05T14:49:48.160257Z",
     "shell.execute_reply.started": "2022-09-05T14:49:48.131661Z"
    }
   },
   "outputs": [],
   "source": [
    "# top 10 item sold\n",
    "df.Description.value_counts().head(10)"
   ]
  },
  {
   "cell_type": "code",
   "execution_count": null,
   "metadata": {
    "execution": {
     "iopub.execute_input": "2022-09-05T14:49:48.162326Z",
     "iopub.status.busy": "2022-09-05T14:49:48.161874Z",
     "iopub.status.idle": "2022-09-05T14:49:48.395056Z",
     "shell.execute_reply": "2022-09-05T14:49:48.394185Z",
     "shell.execute_reply.started": "2022-09-05T14:49:48.162300Z"
    }
   },
   "outputs": [],
   "source": [
    "# there are cases where the descriptions contains some code/name which are not directly refers to sales\n",
    "# checking the data where description = ? and it is noted that customerid is NaN and unit price is 0\n",
    "df[df['Description'].str.startswith('?')==True]"
   ]
  },
  {
   "cell_type": "markdown",
   "metadata": {},
   "source": [
    "#### As it's shown these data is unusable so we gonna remove them from dataset!"
   ]
  },
  {
   "cell_type": "code",
   "execution_count": null,
   "metadata": {
    "execution": {
     "iopub.execute_input": "2022-09-05T14:49:48.396902Z",
     "iopub.status.busy": "2022-09-05T14:49:48.396231Z",
     "iopub.status.idle": "2022-09-05T14:49:48.616657Z",
     "shell.execute_reply": "2022-09-05T14:49:48.615760Z",
     "shell.execute_reply.started": "2022-09-05T14:49:48.396869Z"
    }
   },
   "outputs": [],
   "source": [
    "# removing all the above entries\n",
    "df = df[df['Description'].str.startswith('?')!=True]\n",
    "df.shape"
   ]
  },
  {
   "cell_type": "markdown",
   "metadata": {},
   "source": [
    "#### Data with starting description with * which has NAN customerID but is does not effect on our analysis  ( because customerID is something private and does not effect on grouping )"
   ]
  },
  {
   "cell_type": "code",
   "execution_count": null,
   "metadata": {
    "execution": {
     "iopub.execute_input": "2022-09-05T14:49:48.624131Z",
     "iopub.status.busy": "2022-09-05T14:49:48.623378Z",
     "iopub.status.idle": "2022-09-05T14:49:48.845298Z",
     "shell.execute_reply": "2022-09-05T14:49:48.844265Z",
     "shell.execute_reply.started": "2022-09-05T14:49:48.624079Z"
    }
   },
   "outputs": [],
   "source": [
    "# checking the data where description = * and it is noted that customerid is NaN\n",
    "df[df['Description'].str.startswith('*')==True]"
   ]
  },
  {
   "cell_type": "code",
   "execution_count": null,
   "metadata": {
    "execution": {
     "iopub.execute_input": "2022-09-05T14:49:48.846745Z",
     "iopub.status.busy": "2022-09-05T14:49:48.846430Z",
     "iopub.status.idle": "2022-09-05T14:49:48.905028Z",
     "shell.execute_reply": "2022-09-05T14:49:48.904333Z",
     "shell.execute_reply.started": "2022-09-05T14:49:48.846714Z"
    }
   },
   "outputs": [],
   "source": [
    "# replacing with appropriate name\n",
    "df['Description'] = df['Description'].replace(('*Boombox Ipod Classic','*USB Office Mirror Ball'),\n",
    "                                             ('BOOMBOX IPOD CLASSIC','USB OFFICE MIRROR BALL'))"
   ]
  },
  {
   "cell_type": "code",
   "execution_count": null,
   "metadata": {
    "execution": {
     "iopub.execute_input": "2022-09-05T14:49:48.907172Z",
     "iopub.status.busy": "2022-09-05T14:49:48.906093Z",
     "iopub.status.idle": "2022-09-05T14:49:49.062512Z",
     "shell.execute_reply": "2022-09-05T14:49:49.061813Z",
     "shell.execute_reply.started": "2022-09-05T14:49:48.907138Z"
    }
   },
   "outputs": [],
   "source": [
    "# Description have actual entries in uppercase words and those who don't have are some of the noises in the dataset\n",
    "df[df['Description'].str.islower()==True]['Description'].value_counts()"
   ]
  },
  {
   "cell_type": "code",
   "execution_count": null,
   "metadata": {
    "execution": {
     "iopub.execute_input": "2022-09-05T14:49:49.063729Z",
     "iopub.status.busy": "2022-09-05T14:49:49.063489Z",
     "iopub.status.idle": "2022-09-05T14:49:49.227825Z",
     "shell.execute_reply": "2022-09-05T14:49:49.226833Z",
     "shell.execute_reply.started": "2022-09-05T14:49:49.063706Z"
    }
   },
   "outputs": [],
   "source": [
    "# removing all the above noises\n",
    "df = df[df['Description'].str.islower()!=True]\n",
    "df.shape"
   ]
  },
  {
   "cell_type": "code",
   "execution_count": null,
   "metadata": {
    "execution": {
     "iopub.execute_input": "2022-09-05T14:49:49.229712Z",
     "iopub.status.busy": "2022-09-05T14:49:49.229342Z",
     "iopub.status.idle": "2022-09-05T14:49:49.386306Z",
     "shell.execute_reply": "2022-09-05T14:49:49.385338Z",
     "shell.execute_reply.started": "2022-09-05T14:49:49.229678Z"
    }
   },
   "outputs": [],
   "source": [
    "# Description have actual entries in uppercase words and those who don't have are some of the noises in the dataset\n",
    "df[df['Description'].str.istitle()==True]['Description'].value_counts()"
   ]
  },
  {
   "cell_type": "code",
   "execution_count": null,
   "metadata": {
    "execution": {
     "iopub.execute_input": "2022-09-05T14:49:49.387617Z",
     "iopub.status.busy": "2022-09-05T14:49:49.387375Z",
     "iopub.status.idle": "2022-09-05T14:49:49.556609Z",
     "shell.execute_reply": "2022-09-05T14:49:49.555824Z",
     "shell.execute_reply.started": "2022-09-05T14:49:49.387594Z"
    }
   },
   "outputs": [],
   "source": [
    "# removing all the above listed noises\n",
    "df = df[df['Description'].str.istitle()!=True]\n",
    "df.shape"
   ]
  },
  {
   "cell_type": "code",
   "execution_count": null,
   "metadata": {
    "execution": {
     "iopub.execute_input": "2022-09-05T14:49:49.557808Z",
     "iopub.status.busy": "2022-09-05T14:49:49.557574Z",
     "iopub.status.idle": "2022-09-05T14:49:49.710233Z",
     "shell.execute_reply": "2022-09-05T14:49:49.709598Z",
     "shell.execute_reply.started": "2022-09-05T14:49:49.557778Z"
    }
   },
   "outputs": [],
   "source": [
    "df['Description'] = df['Description'].str.strip()"
   ]
  },
  {
   "cell_type": "markdown",
   "metadata": {},
   "source": [
    "### Customer ID checking..."
   ]
  },
  {
   "cell_type": "code",
   "execution_count": null,
   "metadata": {
    "execution": {
     "iopub.execute_input": "2022-09-05T14:49:49.711852Z",
     "iopub.status.busy": "2022-09-05T14:49:49.711251Z",
     "iopub.status.idle": "2022-09-05T14:49:49.721695Z",
     "shell.execute_reply": "2022-09-05T14:49:49.721095Z",
     "shell.execute_reply.started": "2022-09-05T14:49:49.711822Z"
    }
   },
   "outputs": [],
   "source": [
    "# count of unique customer\n",
    "df.CustomerID.nunique()"
   ]
  },
  {
   "cell_type": "code",
   "execution_count": null,
   "metadata": {
    "execution": {
     "iopub.execute_input": "2022-09-05T14:49:49.723269Z",
     "iopub.status.busy": "2022-09-05T14:49:49.722802Z",
     "iopub.status.idle": "2022-09-05T14:49:49.750847Z",
     "shell.execute_reply": "2022-09-05T14:49:49.749991Z",
     "shell.execute_reply.started": "2022-09-05T14:49:49.723239Z"
    }
   },
   "outputs": [],
   "source": [
    "# checking where customer id is null\n",
    "df[df.CustomerID.isnull()]"
   ]
  },
  {
   "cell_type": "code",
   "execution_count": null,
   "metadata": {
    "execution": {
     "iopub.execute_input": "2022-09-05T14:49:49.752578Z",
     "iopub.status.busy": "2022-09-05T14:49:49.752075Z",
     "iopub.status.idle": "2022-09-05T14:49:49.792097Z",
     "shell.execute_reply": "2022-09-05T14:49:49.791238Z",
     "shell.execute_reply.started": "2022-09-05T14:49:49.752547Z"
    }
   },
   "outputs": [],
   "source": [
    "# removing entries where customer id is null\n",
    "df = df[~df.CustomerID.isnull()]\n",
    "df.shape"
   ]
  },
  {
   "cell_type": "code",
   "execution_count": null,
   "metadata": {
    "execution": {
     "iopub.execute_input": "2022-09-05T14:49:49.793576Z",
     "iopub.status.busy": "2022-09-05T14:49:49.793248Z",
     "iopub.status.idle": "2022-09-05T14:49:49.866290Z",
     "shell.execute_reply": "2022-09-05T14:49:49.865326Z",
     "shell.execute_reply.started": "2022-09-05T14:49:49.793553Z"
    }
   },
   "outputs": [],
   "source": [
    "df.info()"
   ]
  },
  {
   "cell_type": "code",
   "execution_count": null,
   "metadata": {
    "execution": {
     "iopub.execute_input": "2022-09-05T14:49:49.868539Z",
     "iopub.status.busy": "2022-09-05T14:49:49.868090Z",
     "iopub.status.idle": "2022-09-05T14:49:49.894778Z",
     "shell.execute_reply": "2022-09-05T14:49:49.894053Z",
     "shell.execute_reply.started": "2022-09-05T14:49:49.868513Z"
    }
   },
   "outputs": [],
   "source": [
    "df"
   ]
  },
  {
   "cell_type": "markdown",
   "metadata": {},
   "source": [
    " Checking if there is any null data left :"
   ]
  },
  {
   "cell_type": "code",
   "execution_count": null,
   "metadata": {
    "execution": {
     "iopub.execute_input": "2022-09-05T14:49:49.896383Z",
     "iopub.status.busy": "2022-09-05T14:49:49.895946Z",
     "iopub.status.idle": "2022-09-05T14:49:49.970444Z",
     "shell.execute_reply": "2022-09-05T14:49:49.969512Z",
     "shell.execute_reply.started": "2022-09-05T14:49:49.896357Z"
    }
   },
   "outputs": [],
   "source": [
    "df.isnull().sum()"
   ]
  },
  {
   "cell_type": "code",
   "execution_count": null,
   "metadata": {
    "execution": {
     "iopub.execute_input": "2022-09-05T14:49:49.972699Z",
     "iopub.status.busy": "2022-09-05T14:49:49.972151Z",
     "iopub.status.idle": "2022-09-05T14:49:49.996401Z",
     "shell.execute_reply": "2022-09-05T14:49:49.995428Z",
     "shell.execute_reply.started": "2022-09-05T14:49:49.972665Z"
    }
   },
   "outputs": [],
   "source": [
    "# checking random 5 rows from data\n",
    "df.sample(5)"
   ]
  },
  {
   "cell_type": "markdown",
   "metadata": {},
   "source": [
    "## 2) Visualisation "
   ]
  },
  {
   "cell_type": "markdown",
   "metadata": {},
   "source": [
    "#### creating some columns for understandable exploratory...\n",
    "\n",
    "Firstly we will create a new column as total value according to the unit price and quantity purchased."
   ]
  },
  {
   "cell_type": "code",
   "execution_count": null,
   "metadata": {
    "execution": {
     "iopub.execute_input": "2022-09-05T14:49:49.998197Z",
     "iopub.status.busy": "2022-09-05T14:49:49.997746Z",
     "iopub.status.idle": "2022-09-05T14:49:50.063153Z",
     "shell.execute_reply": "2022-09-05T14:49:50.062481Z",
     "shell.execute_reply.started": "2022-09-05T14:49:49.998170Z"
    }
   },
   "outputs": [],
   "source": [
    "df['Amount'] = df['Quantity']*df['UnitPrice']\n",
    "df['year'] = df['InvoiceDate'].dt.year\n",
    "df['month'] = df['InvoiceDate'].dt.month\n",
    "df['day'] = df['InvoiceDate'].dt.day\n",
    "df['hour'] = df['InvoiceDate'].dt.hour\n",
    "df['day_of_week'] = df['InvoiceDate'].dt.dayofweek"
   ]
  },
  {
   "cell_type": "code",
   "execution_count": null,
   "metadata": {
    "execution": {
     "iopub.execute_input": "2022-09-05T14:49:50.064499Z",
     "iopub.status.busy": "2022-09-05T14:49:50.064227Z",
     "iopub.status.idle": "2022-09-05T14:49:50.085157Z",
     "shell.execute_reply": "2022-09-05T14:49:50.084313Z",
     "shell.execute_reply.started": "2022-09-05T14:49:50.064476Z"
    }
   },
   "outputs": [],
   "source": [
    "df"
   ]
  },
  {
   "cell_type": "code",
   "execution_count": null,
   "metadata": {
    "execution": {
     "iopub.execute_input": "2022-09-05T14:49:50.086535Z",
     "iopub.status.busy": "2022-09-05T14:49:50.086308Z",
     "iopub.status.idle": "2022-09-05T14:49:51.242400Z",
     "shell.execute_reply": "2022-09-05T14:49:51.241659Z",
     "shell.execute_reply.started": "2022-09-05T14:49:50.086513Z"
    }
   },
   "outputs": [],
   "source": [
    "column = ['InvoiceNo','Amount']\n",
    "\n",
    "plt.figure(figsize=(15,5))\n",
    "for i,j in enumerate(column):\n",
    "    plt.subplot(1,2,i+1)\n",
    "    sns.barplot(x = df[df['Country']=='United Kingdom'].groupby('Description')[j].nunique().sort_values(ascending=False).head(10).values,\n",
    "                y = df[df['Country']=='United Kingdom'].groupby('Description')[j].nunique().sort_values(ascending=False).head(10).index,\n",
    "                color='yellow')\n",
    "    plt.ylabel('')\n",
    "    if i==0:\n",
    "        plt.xlabel('Sum of quantity')\n",
    "        plt.title('Top 10 products purchased by customers in UK',size=15)\n",
    "    else:\n",
    "        plt.xlabel('Total Sales')\n",
    "        plt.title('Top 10 products with most sales in UK',size=15)\n",
    "        \n",
    "plt.tight_layout()\n",
    "plt.show()"
   ]
  },
  {
   "cell_type": "code",
   "execution_count": null,
   "metadata": {
    "execution": {
     "iopub.execute_input": "2022-09-05T14:49:51.246588Z",
     "iopub.status.busy": "2022-09-05T14:49:51.245651Z",
     "iopub.status.idle": "2022-09-05T14:49:52.018715Z",
     "shell.execute_reply": "2022-09-05T14:49:52.017491Z",
     "shell.execute_reply.started": "2022-09-05T14:49:51.246550Z"
    }
   },
   "outputs": [],
   "source": [
    "column = ['Others','United Kingdom']\n",
    "\n",
    "plt.figure(figsize=(15,5))\n",
    "for i,j in enumerate(column):\n",
    "    plt.subplot(1,2,i+1)\n",
    "    sns.barplot(x = df[df['Country']==j].groupby('Description')['UnitPrice'].mean().sort_values(ascending=False).head(10).values,\n",
    "                y = df[df['Country']==j].groupby('Description')['UnitPrice'].mean().sort_values(ascending=False).head(10).index,\n",
    "                color='yellow')\n",
    "    plt.ylabel('')\n",
    "    if i==0:\n",
    "        plt.xlabel('Unit Price')\n",
    "        plt.title('Top 10 high value products outside UK',size=15)\n",
    "    else:\n",
    "        plt.xlabel('Unit Price')\n",
    "        plt.title('Top 10 high value products in UK',size=15)\n",
    "        \n",
    "plt.tight_layout()\n",
    "plt.show()\n"
   ]
  },
  {
   "cell_type": "code",
   "execution_count": null,
   "metadata": {
    "execution": {
     "iopub.execute_input": "2022-09-05T14:49:52.020431Z",
     "iopub.status.busy": "2022-09-05T14:49:52.020097Z",
     "iopub.status.idle": "2022-09-05T14:49:52.655123Z",
     "shell.execute_reply": "2022-09-05T14:49:52.654473Z",
     "shell.execute_reply.started": "2022-09-05T14:49:52.020403Z"
    }
   },
   "outputs": [],
   "source": [
    "# Looking the distribution of column Quantity\n",
    "plt.figure(figsize=(10,7))\n",
    "\n",
    "skewness = round(df.Quantity.skew(),2)\n",
    "kurtosis = round(df.Quantity.kurtosis(),2)\n",
    "mean = round(np.mean(df.Quantity),0)\n",
    "median = np.median(df.Quantity)\n",
    "\n",
    "plt.subplot(2,2,1)\n",
    "sns.boxplot(y=df.Quantity)\n",
    "plt.title('Boxplot\\n Mean:{}\\n Median:{}\\n Skewness:{}\\n Kurtosis:{}'.format(mean,median,skewness,kurtosis))\n",
    "\n",
    "plt.subplot(2,2,2)\n",
    "sns.boxplot(y=df[df.Quantity<5000]['Quantity'])\n",
    "plt.title('Distribution when Quantity<5000')\n",
    "\n",
    "plt.subplot(2,2,3)\n",
    "sns.boxplot(y=df[df.Quantity<200]['Quantity'])\n",
    "plt.title('Distribution when Quantity<200')\n",
    "\n",
    "plt.subplot(2,2,4)\n",
    "sns.boxplot(y=df[df.Quantity<50]['Quantity'])\n",
    "plt.title('Distribution when Quantity<50')\n",
    "\n",
    "plt.show()"
   ]
  },
  {
   "cell_type": "code",
   "execution_count": null,
   "metadata": {
    "execution": {
     "iopub.execute_input": "2022-09-05T14:49:52.656861Z",
     "iopub.status.busy": "2022-09-05T14:49:52.655993Z",
     "iopub.status.idle": "2022-09-05T14:49:52.697421Z",
     "shell.execute_reply": "2022-09-05T14:49:52.696655Z",
     "shell.execute_reply.started": "2022-09-05T14:49:52.656792Z"
    }
   },
   "outputs": [],
   "source": [
    "# removing the expectional case where quantity > 70000\n",
    "df = df[df['Quantity']<70000]"
   ]
  },
  {
   "cell_type": "code",
   "execution_count": null,
   "metadata": {
    "execution": {
     "iopub.execute_input": "2022-09-05T14:49:52.699197Z",
     "iopub.status.busy": "2022-09-05T14:49:52.698576Z",
     "iopub.status.idle": "2022-09-05T14:49:53.404568Z",
     "shell.execute_reply": "2022-09-05T14:49:53.402675Z",
     "shell.execute_reply.started": "2022-09-05T14:49:52.699170Z"
    }
   },
   "outputs": [],
   "source": [
    "# Looking the distribution of column Unit Price\n",
    "plt.figure(figsize=(10,7))\n",
    "\n",
    "skewness = round(df.UnitPrice.skew(),2)\n",
    "kurtosis = round(df.UnitPrice.kurtosis(),2)\n",
    "mean = round(np.mean(df.UnitPrice),0)\n",
    "median = np.median(df.UnitPrice)\n",
    "\n",
    "plt.subplot(2,2,1)\n",
    "sns.boxplot(y=df.UnitPrice)\n",
    "plt.title('Boxplot\\n Mean:{}\\n Median:{}\\n Skewness:{}\\n Kurtosis:{}'.format(mean,median,skewness,kurtosis))\n",
    "\n",
    "plt.subplot(2,2,2)\n",
    "sns.boxplot(y=df[df.UnitPrice<300]['UnitPrice'])\n",
    "plt.title('Distribution when Unit Price<300')\n",
    "\n",
    "plt.subplot(2,2,3)\n",
    "sns.boxplot(y=df[df.UnitPrice<50]['UnitPrice'])\n",
    "plt.title('Distribution when Unit Price<50')\n",
    "\n",
    "plt.subplot(2,2,4)\n",
    "sns.boxplot(y=df[df.UnitPrice<10]['UnitPrice'])\n",
    "plt.title('Distribution when Unit Price<10')\n",
    "\n",
    "plt.show()"
   ]
  },
  {
   "cell_type": "code",
   "execution_count": null,
   "metadata": {
    "execution": {
     "iopub.execute_input": "2022-09-05T14:49:53.405908Z",
     "iopub.status.busy": "2022-09-05T14:49:53.405647Z",
     "iopub.status.idle": "2022-09-05T14:49:54.100854Z",
     "shell.execute_reply": "2022-09-05T14:49:54.100030Z",
     "shell.execute_reply.started": "2022-09-05T14:49:53.405885Z"
    }
   },
   "outputs": [],
   "source": [
    "plt.figure(figsize=(15,5))\n",
    "\n",
    "plt.subplot(1,2,1)\n",
    "sns.barplot(y = df[df['Country']=='United Kingdom'].groupby('CustomerID')['Amount'].sum().sort_values(ascending=False).head(10).values,\n",
    "            x = df[df['Country']=='United Kingdom'].groupby('CustomerID')['Amount'].sum().sort_values(ascending=False).head(10).index, \n",
    "            color='green')\n",
    "plt.ylabel('Sales')\n",
    "plt.xlabel('Customer IDs')\n",
    "plt.xticks(rotation=45)\n",
    "plt.title('Top 10 customers in terms of sales in UK',size=15)\n",
    "\n",
    "plt.subplot(1,2,2)\n",
    "sns.barplot(y = df[df['Country']=='United Kingdom'].groupby('CustomerID')['InvoiceNo'].nunique().sort_values(ascending=False).head(10).values,\n",
    "            x = df[df['Country']=='United Kingdom'].groupby('CustomerID')['InvoiceNo'].nunique().sort_values(ascending=False).head(10).index, \n",
    "            color='green')\n",
    "plt.ylabel('Number of visits')\n",
    "plt.xlabel('Customer IDs')\n",
    "plt.xticks(rotation=45)\n",
    "plt.title('Top 10 customers in terms of frequency in UK',size=15)\n",
    "\n",
    "plt.show()"
   ]
  },
  {
   "cell_type": "code",
   "execution_count": null,
   "metadata": {
    "execution": {
     "iopub.execute_input": "2022-09-05T14:49:54.102174Z",
     "iopub.status.busy": "2022-09-05T14:49:54.101931Z",
     "iopub.status.idle": "2022-09-05T14:49:54.419444Z",
     "shell.execute_reply": "2022-09-05T14:49:54.418406Z",
     "shell.execute_reply.started": "2022-09-05T14:49:54.102151Z"
    }
   },
   "outputs": [],
   "source": [
    "plt.figure(figsize=(12,5))\n",
    "df[df['Country']=='United Kingdom'].groupby(['year','month'])['Amount'].sum().plot(kind='line',label='UK',color='blue')\n",
    "df[df['Country']=='Others'].groupby(['year','month'])['Amount'].sum().plot(kind='line',label='Other',color='grey')\n",
    "plt.xlabel('Year-Month',size=12)\n",
    "plt.ylabel('Total Sales', size=12)\n",
    "plt.title('Sales in each month for an year', size=15)\n",
    "plt.legend(fontsize=12)\n",
    "plt.show()"
   ]
  },
  {
   "cell_type": "code",
   "execution_count": null,
   "metadata": {
    "execution": {
     "iopub.execute_input": "2022-09-05T14:49:54.421249Z",
     "iopub.status.busy": "2022-09-05T14:49:54.420905Z",
     "iopub.status.idle": "2022-09-05T14:49:54.729737Z",
     "shell.execute_reply": "2022-09-05T14:49:54.728792Z",
     "shell.execute_reply.started": "2022-09-05T14:49:54.421217Z"
    }
   },
   "outputs": [],
   "source": [
    "plt.figure(figsize=(12,5))\n",
    "df[df['Country']=='United Kingdom'].groupby(['day'])['Amount'].sum().plot(kind='line',label='UK',color='blue')\n",
    "df[df['Country']=='Others'].groupby(['day'])['Amount'].sum().plot(kind='line',label='Other',color='grey')\n",
    "plt.xlabel('Day',size=12)\n",
    "plt.ylabel('Total Sales', size=12)\n",
    "plt.title('Sales on each day of a month', size=15)\n",
    "plt.legend(fontsize=12)\n",
    "plt.show()"
   ]
  },
  {
   "cell_type": "code",
   "execution_count": null,
   "metadata": {
    "execution": {
     "iopub.execute_input": "2022-09-05T14:49:54.731207Z",
     "iopub.status.busy": "2022-09-05T14:49:54.730957Z",
     "iopub.status.idle": "2022-09-05T14:49:55.051193Z",
     "shell.execute_reply": "2022-09-05T14:49:55.050567Z",
     "shell.execute_reply.started": "2022-09-05T14:49:54.731182Z"
    }
   },
   "outputs": [],
   "source": [
    "\n",
    "plt.figure(figsize=(12,5))\n",
    "df[df['Country']=='United Kingdom'].groupby(['hour'])['Amount'].sum().plot(kind='line',label='UK',color='blue')\n",
    "df[df['Country']=='Others'].groupby(['hour'])['Amount'].sum().plot(kind='line',label='Other',color='grey')\n",
    "plt.xlabel('Hours',size=12)\n",
    "plt.ylabel('Total Sales', size=12)\n",
    "plt.title('Sales in each hour in a day', size=15)\n",
    "plt.legend(fontsize=12)\n",
    "plt.show()"
   ]
  },
  {
   "cell_type": "markdown",
   "metadata": {},
   "source": [
    "## 3) Modeling \n",
    "\n",
    "We will now create a new Dataframe which will have each unique customer will total amount they have spent.In this way we can cluster them according to Amount spent."
   ]
  },
  {
   "cell_type": "code",
   "execution_count": null,
   "metadata": {
    "execution": {
     "iopub.execute_input": "2022-09-05T14:49:55.052649Z",
     "iopub.status.busy": "2022-09-05T14:49:55.052395Z",
     "iopub.status.idle": "2022-09-05T14:49:55.066437Z",
     "shell.execute_reply": "2022-09-05T14:49:55.065322Z",
     "shell.execute_reply.started": "2022-09-05T14:49:55.052625Z"
    }
   },
   "outputs": [],
   "source": [
    "each_customer = df.groupby('CustomerID')['Amount'].sum()"
   ]
  },
  {
   "cell_type": "code",
   "execution_count": null,
   "metadata": {
    "execution": {
     "iopub.execute_input": "2022-09-05T14:49:55.068012Z",
     "iopub.status.busy": "2022-09-05T14:49:55.067738Z",
     "iopub.status.idle": "2022-09-05T14:49:55.072556Z",
     "shell.execute_reply": "2022-09-05T14:49:55.071806Z",
     "shell.execute_reply.started": "2022-09-05T14:49:55.067988Z"
    }
   },
   "outputs": [],
   "source": [
    "each_customer = each_customer.reset_index()"
   ]
  },
  {
   "cell_type": "code",
   "execution_count": null,
   "metadata": {
    "execution": {
     "iopub.execute_input": "2022-09-05T14:49:55.073981Z",
     "iopub.status.busy": "2022-09-05T14:49:55.073431Z",
     "iopub.status.idle": "2022-09-05T14:49:55.094374Z",
     "shell.execute_reply": "2022-09-05T14:49:55.093707Z",
     "shell.execute_reply.started": "2022-09-05T14:49:55.073956Z"
    }
   },
   "outputs": [],
   "source": [
    "each_customer"
   ]
  },
  {
   "cell_type": "markdown",
   "metadata": {},
   "source": [
    "#### Note:We are take .sum() to add up all the amounts and get a total for each CustomerID.\n",
    "\n",
    "\n",
    "\n",
    "#### We can also find out how many times a Customer has visited the store by the column Invoice."
   ]
  },
  {
   "cell_type": "code",
   "execution_count": null,
   "metadata": {
    "execution": {
     "iopub.execute_input": "2022-09-05T14:49:55.096133Z",
     "iopub.status.busy": "2022-09-05T14:49:55.095613Z",
     "iopub.status.idle": "2022-09-05T14:49:55.123615Z",
     "shell.execute_reply": "2022-09-05T14:49:55.123001Z",
     "shell.execute_reply.started": "2022-09-05T14:49:55.096101Z"
    }
   },
   "outputs": [],
   "source": [
    "each_customer_freq = df.groupby('CustomerID')['InvoiceNo'].count()"
   ]
  },
  {
   "cell_type": "code",
   "execution_count": null,
   "metadata": {
    "execution": {
     "iopub.execute_input": "2022-09-05T14:49:55.125332Z",
     "iopub.status.busy": "2022-09-05T14:49:55.124820Z",
     "iopub.status.idle": "2022-09-05T14:49:55.130665Z",
     "shell.execute_reply": "2022-09-05T14:49:55.129576Z",
     "shell.execute_reply.started": "2022-09-05T14:49:55.125269Z"
    }
   },
   "outputs": [],
   "source": [
    "each_customer_freq = each_customer_freq.reset_index()"
   ]
  },
  {
   "cell_type": "code",
   "execution_count": null,
   "metadata": {
    "execution": {
     "iopub.execute_input": "2022-09-05T14:49:55.132606Z",
     "iopub.status.busy": "2022-09-05T14:49:55.131979Z",
     "iopub.status.idle": "2022-09-05T14:49:55.147067Z",
     "shell.execute_reply": "2022-09-05T14:49:55.145980Z",
     "shell.execute_reply.started": "2022-09-05T14:49:55.132575Z"
    }
   },
   "outputs": [],
   "source": [
    "each_customer_freq"
   ]
  },
  {
   "cell_type": "markdown",
   "metadata": {},
   "source": [
    "#### Note:Here we have taken ‘Count’ of each invoices for each customer so that we can get a total number of invoices for each customer.\n",
    "\n",
    "#### Lets merge the two dataframes:"
   ]
  },
  {
   "cell_type": "code",
   "execution_count": null,
   "metadata": {
    "execution": {
     "iopub.execute_input": "2022-09-05T14:49:55.149227Z",
     "iopub.status.busy": "2022-09-05T14:49:55.148552Z",
     "iopub.status.idle": "2022-09-05T14:49:55.164145Z",
     "shell.execute_reply": "2022-09-05T14:49:55.163498Z",
     "shell.execute_reply.started": "2022-09-05T14:49:55.149190Z"
    }
   },
   "outputs": [],
   "source": [
    "customer_details = pd.merge(each_customer_freq,each_customer,on='CustomerID')"
   ]
  },
  {
   "cell_type": "code",
   "execution_count": null,
   "metadata": {
    "execution": {
     "iopub.execute_input": "2022-09-05T14:49:55.166781Z",
     "iopub.status.busy": "2022-09-05T14:49:55.166464Z",
     "iopub.status.idle": "2022-09-05T14:49:55.179230Z",
     "shell.execute_reply": "2022-09-05T14:49:55.178396Z",
     "shell.execute_reply.started": "2022-09-05T14:49:55.166755Z"
    }
   },
   "outputs": [],
   "source": [
    "customer_details"
   ]
  },
  {
   "cell_type": "markdown",
   "metadata": {},
   "source": [
    "Here comes the interesting part:\n",
    "\n",
    "We can also further get more details like which customers have not visited store for a long time and which have.By this we can cluster Customers which have not visited and see the underlying pattern.\n",
    "\n",
    "This all can be done by the column ‘InvoiceDate’ which contains the datetime with respect to each invoice.\n",
    "\n",
    "First we need to make sure that the columns is in datetime format ,if not we need to convert it to datetime format.\n",
    "\n"
   ]
  },
  {
   "cell_type": "code",
   "execution_count": null,
   "metadata": {
    "execution": {
     "iopub.execute_input": "2022-09-05T14:49:55.181317Z",
     "iopub.status.busy": "2022-09-05T14:49:55.180721Z",
     "iopub.status.idle": "2022-09-05T14:49:55.191430Z",
     "shell.execute_reply": "2022-09-05T14:49:55.190699Z",
     "shell.execute_reply.started": "2022-09-05T14:49:55.181260Z"
    }
   },
   "outputs": [],
   "source": [
    "df.dtypes"
   ]
  },
  {
   "cell_type": "markdown",
   "metadata": {},
   "source": [
    "As we can see the ‘InvoiceDate’ column is in datetime format.\n",
    "\n",
    "Now as we need the exact no of days a customer has been last active we will use the InvoiceDate column to find out the most recent date from the InvoiceDate column and then subtract the Maximum date with the Invoice date for each customer which will give us no. of days the customer was last active."
   ]
  },
  {
   "cell_type": "code",
   "execution_count": null,
   "metadata": {
    "execution": {
     "iopub.execute_input": "2022-09-05T14:49:55.193603Z",
     "iopub.status.busy": "2022-09-05T14:49:55.192751Z",
     "iopub.status.idle": "2022-09-05T14:49:55.770610Z",
     "shell.execute_reply": "2022-09-05T14:49:55.769766Z",
     "shell.execute_reply.started": "2022-09-05T14:49:55.193568Z"
    }
   },
   "outputs": [],
   "source": [
    "max_date = max(df['InvoiceDate'])"
   ]
  },
  {
   "cell_type": "code",
   "execution_count": null,
   "metadata": {
    "execution": {
     "iopub.execute_input": "2022-09-05T14:49:55.772917Z",
     "iopub.status.busy": "2022-09-05T14:49:55.772082Z",
     "iopub.status.idle": "2022-09-05T14:49:55.778443Z",
     "shell.execute_reply": "2022-09-05T14:49:55.777347Z",
     "shell.execute_reply.started": "2022-09-05T14:49:55.772890Z"
    }
   },
   "outputs": [],
   "source": [
    "max_date"
   ]
  },
  {
   "cell_type": "code",
   "execution_count": null,
   "metadata": {
    "execution": {
     "iopub.execute_input": "2022-09-05T14:49:55.780012Z",
     "iopub.status.busy": "2022-09-05T14:49:55.779656Z",
     "iopub.status.idle": "2022-09-05T14:49:55.791590Z",
     "shell.execute_reply": "2022-09-05T14:49:55.790569Z",
     "shell.execute_reply.started": "2022-09-05T14:49:55.779928Z"
    }
   },
   "outputs": [],
   "source": [
    "df['recency']=max_date-df['InvoiceDate']"
   ]
  },
  {
   "cell_type": "code",
   "execution_count": null,
   "metadata": {
    "execution": {
     "iopub.execute_input": "2022-09-05T14:49:55.793479Z",
     "iopub.status.busy": "2022-09-05T14:49:55.793045Z",
     "iopub.status.idle": "2022-09-05T14:49:55.812721Z",
     "shell.execute_reply": "2022-09-05T14:49:55.811947Z",
     "shell.execute_reply.started": "2022-09-05T14:49:55.793443Z"
    }
   },
   "outputs": [],
   "source": [
    "df.head()"
   ]
  },
  {
   "cell_type": "markdown",
   "metadata": {},
   "source": [
    "#### Now we can groupby each customer and take out the .min() from the recency column to get the days when the customer was last seen."
   ]
  },
  {
   "cell_type": "code",
   "execution_count": null,
   "metadata": {
    "execution": {
     "iopub.execute_input": "2022-09-05T14:49:55.813892Z",
     "iopub.status.busy": "2022-09-05T14:49:55.813641Z",
     "iopub.status.idle": "2022-09-05T14:49:55.830919Z",
     "shell.execute_reply": "2022-09-05T14:49:55.829892Z",
     "shell.execute_reply.started": "2022-09-05T14:49:55.813870Z"
    }
   },
   "outputs": [],
   "source": [
    "dates = df.groupby('CustomerID')['recency'].min()"
   ]
  },
  {
   "cell_type": "code",
   "execution_count": null,
   "metadata": {
    "execution": {
     "iopub.execute_input": "2022-09-05T14:49:55.833655Z",
     "iopub.status.busy": "2022-09-05T14:49:55.833082Z",
     "iopub.status.idle": "2022-09-05T14:49:55.838295Z",
     "shell.execute_reply": "2022-09-05T14:49:55.837662Z",
     "shell.execute_reply.started": "2022-09-05T14:49:55.833629Z"
    }
   },
   "outputs": [],
   "source": [
    "dates = dates.reset_index()"
   ]
  },
  {
   "cell_type": "code",
   "execution_count": null,
   "metadata": {
    "execution": {
     "iopub.execute_input": "2022-09-05T14:49:55.839879Z",
     "iopub.status.busy": "2022-09-05T14:49:55.839239Z",
     "iopub.status.idle": "2022-09-05T14:49:55.848428Z",
     "shell.execute_reply": "2022-09-05T14:49:55.847548Z",
     "shell.execute_reply.started": "2022-09-05T14:49:55.839855Z"
    }
   },
   "outputs": [],
   "source": [
    "import datetime as dt"
   ]
  },
  {
   "cell_type": "code",
   "execution_count": null,
   "metadata": {
    "execution": {
     "iopub.execute_input": "2022-09-05T14:49:55.849972Z",
     "iopub.status.busy": "2022-09-05T14:49:55.849312Z",
     "iopub.status.idle": "2022-09-05T14:49:55.858147Z",
     "shell.execute_reply": "2022-09-05T14:49:55.857327Z",
     "shell.execute_reply.started": "2022-09-05T14:49:55.849944Z"
    }
   },
   "outputs": [],
   "source": [
    "dates['recency']=dates['recency'].dt.days"
   ]
  },
  {
   "cell_type": "code",
   "execution_count": null,
   "metadata": {
    "execution": {
     "iopub.execute_input": "2022-09-05T14:49:55.859767Z",
     "iopub.status.busy": "2022-09-05T14:49:55.859141Z",
     "iopub.status.idle": "2022-09-05T14:49:55.873963Z",
     "shell.execute_reply": "2022-09-05T14:49:55.873314Z",
     "shell.execute_reply.started": "2022-09-05T14:49:55.859743Z"
    }
   },
   "outputs": [],
   "source": [
    "dates"
   ]
  },
  {
   "cell_type": "markdown",
   "metadata": {},
   "source": [
    "#### Above we have used dt.days of the datetime library to get only the days and remove the time.\n",
    "\n",
    "#### Now lets merge this Dataframe with the earlier ‘Customer_details’ Dataframe."
   ]
  },
  {
   "cell_type": "code",
   "execution_count": null,
   "metadata": {
    "execution": {
     "iopub.execute_input": "2022-09-05T14:49:55.875600Z",
     "iopub.status.busy": "2022-09-05T14:49:55.875106Z",
     "iopub.status.idle": "2022-09-05T14:49:55.882999Z",
     "shell.execute_reply": "2022-09-05T14:49:55.882348Z",
     "shell.execute_reply.started": "2022-09-05T14:49:55.875574Z"
    }
   },
   "outputs": [],
   "source": [
    "customer_details = pd.merge(customer_details,dates,on='CustomerID')"
   ]
  },
  {
   "cell_type": "code",
   "execution_count": null,
   "metadata": {
    "execution": {
     "iopub.execute_input": "2022-09-05T14:49:55.884465Z",
     "iopub.status.busy": "2022-09-05T14:49:55.884193Z",
     "iopub.status.idle": "2022-09-05T14:49:55.898229Z",
     "shell.execute_reply": "2022-09-05T14:49:55.897446Z",
     "shell.execute_reply.started": "2022-09-05T14:49:55.884441Z"
    }
   },
   "outputs": [],
   "source": [
    "customer_details"
   ]
  },
  {
   "cell_type": "markdown",
   "metadata": {},
   "source": [
    "#### Now the ‘Amount’ column has lots of outliers which we need to remove in order to form good clusters."
   ]
  },
  {
   "cell_type": "code",
   "execution_count": null,
   "metadata": {
    "execution": {
     "iopub.execute_input": "2022-09-05T14:49:55.899608Z",
     "iopub.status.busy": "2022-09-05T14:49:55.899212Z",
     "iopub.status.idle": "2022-09-05T14:49:55.903876Z",
     "shell.execute_reply": "2022-09-05T14:49:55.903161Z",
     "shell.execute_reply.started": "2022-09-05T14:49:55.899584Z"
    }
   },
   "outputs": [],
   "source": [
    "z = customer_details.Amount.quantile(0.05)"
   ]
  },
  {
   "cell_type": "code",
   "execution_count": null,
   "metadata": {
    "execution": {
     "iopub.execute_input": "2022-09-05T14:49:55.905271Z",
     "iopub.status.busy": "2022-09-05T14:49:55.904662Z",
     "iopub.status.idle": "2022-09-05T14:49:55.914055Z",
     "shell.execute_reply": "2022-09-05T14:49:55.913327Z",
     "shell.execute_reply.started": "2022-09-05T14:49:55.905248Z"
    }
   },
   "outputs": [],
   "source": [
    "y = customer_details.Amount.quantile(0.95)"
   ]
  },
  {
   "cell_type": "code",
   "execution_count": null,
   "metadata": {
    "execution": {
     "iopub.execute_input": "2022-09-05T14:49:55.915742Z",
     "iopub.status.busy": "2022-09-05T14:49:55.915335Z",
     "iopub.status.idle": "2022-09-05T14:49:55.921982Z",
     "shell.execute_reply": "2022-09-05T14:49:55.921299Z",
     "shell.execute_reply.started": "2022-09-05T14:49:55.915705Z"
    }
   },
   "outputs": [],
   "source": [
    "iqr=y-z"
   ]
  },
  {
   "cell_type": "markdown",
   "metadata": {},
   "source": [
    "Here the quantile function is very important,__what it does is it gives us the value for the first 5% of the Distribution on data in Amount column and same for 95%.(0.95).The value which we get shows that 5% & 95 % of data in our column is less than(5%) and greater than(95%).__\n",
    "\n",
    "We can get the interquartile range for the above quantile functions by subtracting 95 percentile with 5 percentile."
   ]
  },
  {
   "cell_type": "code",
   "execution_count": null,
   "metadata": {
    "execution": {
     "iopub.execute_input": "2022-09-05T14:49:55.923433Z",
     "iopub.status.busy": "2022-09-05T14:49:55.922878Z",
     "iopub.status.idle": "2022-09-05T14:49:55.933979Z",
     "shell.execute_reply": "2022-09-05T14:49:55.933229Z",
     "shell.execute_reply.started": "2022-09-05T14:49:55.923402Z"
    }
   },
   "outputs": [],
   "source": [
    "customer_details = customer_details[(customer_details['Amount']>=z-1.5*iqr) & (customer_details['Amount']<=y+1.5*iqr)]"
   ]
  },
  {
   "cell_type": "code",
   "execution_count": null,
   "metadata": {
    "execution": {
     "iopub.execute_input": "2022-09-05T14:49:55.935915Z",
     "iopub.status.busy": "2022-09-05T14:49:55.935023Z",
     "iopub.status.idle": "2022-09-05T14:49:55.952247Z",
     "shell.execute_reply": "2022-09-05T14:49:55.951324Z",
     "shell.execute_reply.started": "2022-09-05T14:49:55.935889Z"
    }
   },
   "outputs": [],
   "source": [
    "customer_details"
   ]
  },
  {
   "cell_type": "markdown",
   "metadata": {},
   "source": [
    "Here we have used the quartile values to __remove the outliers from the Amount column ,anything which is below ‘z-1.5*iqr’ and anything above ‘y+1.5*iqr’ will be removed.This is the standard way to remove outliers__.Repeating these steps for other features."
   ]
  },
  {
   "cell_type": "code",
   "execution_count": null,
   "metadata": {
    "execution": {
     "iopub.execute_input": "2022-09-05T14:49:55.953615Z",
     "iopub.status.busy": "2022-09-05T14:49:55.953359Z",
     "iopub.status.idle": "2022-09-05T14:49:55.961478Z",
     "shell.execute_reply": "2022-09-05T14:49:55.960510Z",
     "shell.execute_reply.started": "2022-09-05T14:49:55.953593Z"
    }
   },
   "outputs": [],
   "source": [
    "q1 = customer_details.InvoiceNo.quantile(0.05)\n",
    "q3 = customer_details.InvoiceNo.quantile(0.95)\n",
    "iqr = q3 - q1\n",
    "customer_details = customer_details[(customer_details['recency']>=q1-1.5*iqr) & (customer_details['recency']<=q3+1.5*iqr)]"
   ]
  },
  {
   "cell_type": "code",
   "execution_count": null,
   "metadata": {
    "execution": {
     "iopub.execute_input": "2022-09-05T14:49:55.964568Z",
     "iopub.status.busy": "2022-09-05T14:49:55.963896Z",
     "iopub.status.idle": "2022-09-05T14:49:55.978898Z",
     "shell.execute_reply": "2022-09-05T14:49:55.978320Z",
     "shell.execute_reply.started": "2022-09-05T14:49:55.964533Z"
    }
   },
   "outputs": [],
   "source": [
    "customer_details"
   ]
  },
  {
   "cell_type": "markdown",
   "metadata": {},
   "source": [
    "#### Once we have removed the outliers we can scale the data as the scaling standards differ alot between the columns."
   ]
  },
  {
   "cell_type": "code",
   "execution_count": null,
   "metadata": {
    "execution": {
     "iopub.execute_input": "2022-09-05T14:49:55.980400Z",
     "iopub.status.busy": "2022-09-05T14:49:55.979970Z",
     "iopub.status.idle": "2022-09-05T14:49:55.983320Z",
     "shell.execute_reply": "2022-09-05T14:49:55.982737Z",
     "shell.execute_reply.started": "2022-09-05T14:49:55.980375Z"
    }
   },
   "outputs": [],
   "source": [
    "from sklearn.preprocessing import StandardScaler"
   ]
  },
  {
   "cell_type": "code",
   "execution_count": null,
   "metadata": {
    "execution": {
     "iopub.execute_input": "2022-09-05T14:49:55.984708Z",
     "iopub.status.busy": "2022-09-05T14:49:55.984311Z",
     "iopub.status.idle": "2022-09-05T14:49:55.993255Z",
     "shell.execute_reply": "2022-09-05T14:49:55.992523Z",
     "shell.execute_reply.started": "2022-09-05T14:49:55.984684Z"
    }
   },
   "outputs": [],
   "source": [
    "scc = StandardScaler()"
   ]
  },
  {
   "cell_type": "code",
   "execution_count": null,
   "metadata": {
    "execution": {
     "iopub.execute_input": "2022-09-05T14:49:56.002982Z",
     "iopub.status.busy": "2022-09-05T14:49:56.002248Z",
     "iopub.status.idle": "2022-09-05T14:49:56.011762Z",
     "shell.execute_reply": "2022-09-05T14:49:56.010750Z",
     "shell.execute_reply.started": "2022-09-05T14:49:56.002953Z"
    }
   },
   "outputs": [],
   "source": [
    "scaled = scc.fit_transform(customer_details[['InvoiceNo','Amount','recency']])\n"
   ]
  },
  {
   "cell_type": "code",
   "execution_count": null,
   "metadata": {
    "execution": {
     "iopub.execute_input": "2022-09-05T14:49:56.013809Z",
     "iopub.status.busy": "2022-09-05T14:49:56.013077Z",
     "iopub.status.idle": "2022-09-05T14:49:56.023006Z",
     "shell.execute_reply": "2022-09-05T14:49:56.022302Z",
     "shell.execute_reply.started": "2022-09-05T14:49:56.013776Z"
    }
   },
   "outputs": [],
   "source": [
    "scaled.shape"
   ]
  },
  {
   "cell_type": "code",
   "execution_count": null,
   "metadata": {
    "execution": {
     "iopub.execute_input": "2022-09-05T14:49:56.024665Z",
     "iopub.status.busy": "2022-09-05T14:49:56.024006Z",
     "iopub.status.idle": "2022-09-05T14:49:56.031600Z",
     "shell.execute_reply": "2022-09-05T14:49:56.030646Z",
     "shell.execute_reply.started": "2022-09-05T14:49:56.024635Z"
    }
   },
   "outputs": [],
   "source": [
    "scaled_values = pd.DataFrame(scaled)"
   ]
  },
  {
   "cell_type": "code",
   "execution_count": null,
   "metadata": {
    "execution": {
     "iopub.execute_input": "2022-09-05T14:49:56.033101Z",
     "iopub.status.busy": "2022-09-05T14:49:56.032845Z",
     "iopub.status.idle": "2022-09-05T14:49:56.040851Z",
     "shell.execute_reply": "2022-09-05T14:49:56.040249Z",
     "shell.execute_reply.started": "2022-09-05T14:49:56.033077Z"
    }
   },
   "outputs": [],
   "source": [
    "scaled_values.columns=['InvoiceNo','Amount','recency']"
   ]
  },
  {
   "cell_type": "code",
   "execution_count": null,
   "metadata": {
    "execution": {
     "iopub.execute_input": "2022-09-05T14:49:56.042484Z",
     "iopub.status.busy": "2022-09-05T14:49:56.041958Z",
     "iopub.status.idle": "2022-09-05T14:49:56.057432Z",
     "shell.execute_reply": "2022-09-05T14:49:56.056634Z",
     "shell.execute_reply.started": "2022-09-05T14:49:56.042452Z"
    }
   },
   "outputs": [],
   "source": [
    "scaled_values"
   ]
  },
  {
   "cell_type": "code",
   "execution_count": null,
   "metadata": {},
   "outputs": [],
   "source": []
  },
  {
   "cell_type": "markdown",
   "metadata": {},
   "source": [
    "##  K-means Clustering"
   ]
  },
  {
   "cell_type": "markdown",
   "metadata": {},
   "source": [
    "#### Now as we know in Kmeans cluster we need to provide ‘K’ value for the algorithm as the no of clusters.We can find out the optimal value for K with elbow graph."
   ]
  },
  {
   "cell_type": "code",
   "execution_count": null,
   "metadata": {
    "execution": {
     "iopub.execute_input": "2022-09-05T14:49:56.059164Z",
     "iopub.status.busy": "2022-09-05T14:49:56.058458Z",
     "iopub.status.idle": "2022-09-05T14:49:56.065246Z",
     "shell.execute_reply": "2022-09-05T14:49:56.064603Z",
     "shell.execute_reply.started": "2022-09-05T14:49:56.059139Z"
    }
   },
   "outputs": [],
   "source": [
    "from sklearn.cluster import KMeans"
   ]
  },
  {
   "cell_type": "code",
   "execution_count": null,
   "metadata": {
    "execution": {
     "iopub.execute_input": "2022-09-05T14:49:56.067077Z",
     "iopub.status.busy": "2022-09-05T14:49:56.066101Z",
     "iopub.status.idle": "2022-09-05T14:50:02.676754Z",
     "shell.execute_reply": "2022-09-05T14:50:02.675816Z",
     "shell.execute_reply.started": "2022-09-05T14:49:56.067026Z"
    }
   },
   "outputs": [],
   "source": [
    "scores=[]\n",
    "for i in range(2,7):\n",
    "    kmeans = KMeans(n_clusters=i,max_iter=40,verbose=True).fit(scaled_values)\n",
    "    scores.append(kmeans.inertia_)"
   ]
  },
  {
   "cell_type": "code",
   "execution_count": null,
   "metadata": {
    "execution": {
     "iopub.execute_input": "2022-09-05T14:50:02.680663Z",
     "iopub.status.busy": "2022-09-05T14:50:02.679985Z",
     "iopub.status.idle": "2022-09-05T14:50:02.686717Z",
     "shell.execute_reply": "2022-09-05T14:50:02.685844Z",
     "shell.execute_reply.started": "2022-09-05T14:50:02.680627Z"
    }
   },
   "outputs": [],
   "source": [
    "len(scores)"
   ]
  },
  {
   "cell_type": "code",
   "execution_count": null,
   "metadata": {
    "execution": {
     "iopub.execute_input": "2022-09-05T14:50:02.690562Z",
     "iopub.status.busy": "2022-09-05T14:50:02.689771Z",
     "iopub.status.idle": "2022-09-05T14:50:02.829951Z",
     "shell.execute_reply": "2022-09-05T14:50:02.829186Z",
     "shell.execute_reply.started": "2022-09-05T14:50:02.690531Z"
    }
   },
   "outputs": [],
   "source": [
    "plt.plot(range(2,7,1),scores)\n",
    "plt.xticks(ticks=range(2,7))\n",
    "plt.show()"
   ]
  },
  {
   "cell_type": "markdown",
   "metadata": {},
   "source": [
    "### Now we should use a metric to evaluate the results:\n",
    "\n",
    "### Calinski-Harabasz Index\n",
    "\n",
    "The Calinski-Harabasz index also known as the Variance Ratio Criterion, is the ratio of the sum of between-clusters dispersion and of inter-cluster dispersion for all clusters, __the higher the score , the better the performances.__\n",
    "\n",
    "The score is defined as the ratio between the within-cluster dispersion and the between-cluster dispersion. The C-H Index is a great way to evaluate the performance of a Clustering algorithm as it does not require information on the ground truth labels."
   ]
  },
  {
   "cell_type": "code",
   "execution_count": null,
   "metadata": {
    "execution": {
     "iopub.execute_input": "2022-09-05T14:50:02.835076Z",
     "iopub.status.busy": "2022-09-05T14:50:02.833321Z",
     "iopub.status.idle": "2022-09-05T14:50:09.390320Z",
     "shell.execute_reply": "2022-09-05T14:50:09.388632Z",
     "shell.execute_reply.started": "2022-09-05T14:50:02.835044Z"
    }
   },
   "outputs": [],
   "source": [
    "from sklearn.metrics import calinski_harabasz_score\n",
    "for i in range(2,7):\n",
    "    kmeans = KMeans(n_clusters=i,max_iter=40).fit(scaled_values)\n",
    "    cluster_labels=kmeans.labels_\n",
    "    cal = calinski_harabasz_score(scaled_values,cluster_labels)\n",
    "    print('For n_cluster{}  Calinski score is {}'.format(i,cal))\n",
    "    "
   ]
  },
  {
   "cell_type": "markdown",
   "metadata": {},
   "source": [
    "From the above elbow graphs and silhouette scores we can take ‘3’ as our k value for number of clusters.\n",
    "\n",
    "Lets create our final Model:"
   ]
  },
  {
   "cell_type": "code",
   "execution_count": null,
   "metadata": {
    "execution": {
     "iopub.execute_input": "2022-09-05T14:50:09.391728Z",
     "iopub.status.busy": "2022-09-05T14:50:09.391458Z",
     "iopub.status.idle": "2022-09-05T14:50:11.158354Z",
     "shell.execute_reply": "2022-09-05T14:50:11.155926Z",
     "shell.execute_reply.started": "2022-09-05T14:50:09.391702Z"
    }
   },
   "outputs": [],
   "source": [
    "kmeans = KMeans(n_clusters=3,max_iter=50).fit(scaled_values)\n",
    "clusters = kmeans.labels_"
   ]
  },
  {
   "cell_type": "code",
   "execution_count": null,
   "metadata": {
    "execution": {
     "iopub.execute_input": "2022-09-05T14:50:26.586489Z",
     "iopub.status.busy": "2022-09-05T14:50:26.586116Z",
     "iopub.status.idle": "2022-09-05T14:50:26.591427Z",
     "shell.execute_reply": "2022-09-05T14:50:26.590442Z",
     "shell.execute_reply.started": "2022-09-05T14:50:26.586458Z"
    }
   },
   "outputs": [],
   "source": [
    "customer_details['Cluster']=clusters"
   ]
  },
  {
   "cell_type": "code",
   "execution_count": null,
   "metadata": {
    "execution": {
     "iopub.execute_input": "2022-09-05T14:50:29.510856Z",
     "iopub.status.busy": "2022-09-05T14:50:29.510532Z",
     "iopub.status.idle": "2022-09-05T14:50:29.525716Z",
     "shell.execute_reply": "2022-09-05T14:50:29.524623Z",
     "shell.execute_reply.started": "2022-09-05T14:50:29.510832Z"
    }
   },
   "outputs": [],
   "source": [
    "customer_details"
   ]
  },
  {
   "cell_type": "markdown",
   "metadata": {},
   "source": [
    "Here we have created our final model with 3 clusters and added our cluster labels obtained from ‘kmeans.labels_’ to our Dataframe consisting of Unique customers.\n",
    "\n",
    "With the help of boxplots we can visualize the clusters formed on different features:"
   ]
  },
  {
   "cell_type": "code",
   "execution_count": null,
   "metadata": {
    "execution": {
     "iopub.execute_input": "2022-09-05T14:51:44.697046Z",
     "iopub.status.busy": "2022-09-05T14:51:44.696730Z",
     "iopub.status.idle": "2022-09-05T14:51:44.829536Z",
     "shell.execute_reply": "2022-09-05T14:51:44.828696Z",
     "shell.execute_reply.started": "2022-09-05T14:51:44.697020Z"
    }
   },
   "outputs": [],
   "source": [
    "sns.boxplot(x='Cluster',y='Amount',data=customer_details)\n",
    "plt.show()"
   ]
  },
  {
   "cell_type": "code",
   "execution_count": null,
   "metadata": {
    "execution": {
     "iopub.execute_input": "2022-09-05T14:52:03.325834Z",
     "iopub.status.busy": "2022-09-05T14:52:03.325480Z",
     "iopub.status.idle": "2022-09-05T14:52:03.477504Z",
     "shell.execute_reply": "2022-09-05T14:52:03.476739Z",
     "shell.execute_reply.started": "2022-09-05T14:52:03.325805Z"
    }
   },
   "outputs": [],
   "source": [
    "sns.boxplot(x='Cluster',y='recency',data=customer_details)\n",
    "plt.show()"
   ]
  },
  {
   "cell_type": "code",
   "execution_count": null,
   "metadata": {
    "execution": {
     "iopub.execute_input": "2022-09-05T14:52:13.371184Z",
     "iopub.status.busy": "2022-09-05T14:52:13.370820Z",
     "iopub.status.idle": "2022-09-05T14:52:13.516847Z",
     "shell.execute_reply": "2022-09-05T14:52:13.516157Z",
     "shell.execute_reply.started": "2022-09-05T14:52:13.371154Z"
    }
   },
   "outputs": [],
   "source": [
    "sns.boxplot(x='Cluster',y='InvoiceNo',data=customer_details)\n",
    "plt.show()"
   ]
  },
  {
   "cell_type": "markdown",
   "metadata": {},
   "source": [
    "### Sources : \n",
    "- https://medium.com/@mayureshrpalav/clustering-customers-online-retail-dataset-516e961e7bc\n",
    "- https://www.kaggle.com/code/mittalvasu95/cohort-rfm-k-means#III.-k-Means-Clustering"
   ]
  }
 ],
 "metadata": {
  "kernelspec": {
   "display_name": "Python 3 (ipykernel)",
   "language": "python",
   "name": "python3"
  },
  "language_info": {
   "codemirror_mode": {
    "name": "ipython",
    "version": 3
   },
   "file_extension": ".py",
   "mimetype": "text/x-python",
   "name": "python",
   "nbconvert_exporter": "python",
   "pygments_lexer": "ipython3",
   "version": "3.9.12"
  }
 },
 "nbformat": 4,
 "nbformat_minor": 4
}
